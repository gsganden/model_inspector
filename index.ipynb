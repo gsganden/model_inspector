{
 "cells": [
  {
   "cell_type": "code",
   "execution_count": null,
   "metadata": {},
   "outputs": [],
   "source": [
    "# hide\n",
    "%reload_ext autoreload\n",
    "%autoreload 2\n",
    "%load_ext lab_black"
   ]
  },
  {
   "cell_type": "markdown",
   "metadata": {},
   "source": [
    "# Model Inspector\n",
    "\n",
    "> Inspect machine learning models"
   ]
  },
  {
   "cell_type": "markdown",
   "metadata": {},
   "source": [
    "## Install"
   ]
  },
  {
   "cell_type": "markdown",
   "metadata": {},
   "source": [
    "`pip install model_inspector`"
   ]
  }
 ],
 "metadata": {
  "kernelspec": {
   "display_name": "model_inspector",
   "language": "python",
   "name": "model_inspector"
  }
 },
 "nbformat": 4,
 "nbformat_minor": 4
}
