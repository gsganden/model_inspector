{
 "cells": [
  {
   "cell_type": "markdown",
   "metadata": {},
   "source": [
    "# Model Inspector\n",
    "\n",
    "> Inspect machine learning models"
   ]
  },
  {
   "cell_type": "markdown",
   "metadata": {},
   "source": [
    "I developed this library primarily for generating model visualizations that I can use in teaching machine learning. I'd love for it to grow into a deeper library that is useful for practitioners as well."
   ]
  },
  {
   "cell_type": "markdown",
   "metadata": {},
   "source": [
    "See the [docs](https://gsganden.github.io/model_inspector/), especially for the [inspect module](https://gsganden.github.io/model_inspector/inspect.html), for API details and examples."
   ]
  },
  {
   "cell_type": "markdown",
   "metadata": {},
   "source": [
    "## Install"
   ]
  },
  {
   "cell_type": "markdown",
   "metadata": {},
   "source": [
    "`pip install model_inspector`"
   ]
  }
 ],
 "metadata": {
  "kernelspec": {
   "display_name": "model_inspector",
   "language": "python",
   "name": "model_inspector"
  }
 },
 "nbformat": 4,
 "nbformat_minor": 4
}
