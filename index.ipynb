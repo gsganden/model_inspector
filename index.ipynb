{
 "cells": [
  {
   "cell_type": "code",
   "execution_count": 2,
   "metadata": {},
   "outputs": [],
   "source": [
    "# hide\n",
    "%matplotlib inline\n",
    "%reload_ext autoreload\n",
    "%autoreload 2\n",
    "%load_ext lab_black"
   ]
  },
  {
   "cell_type": "markdown",
   "metadata": {},
   "source": [
    "# Model Inspector\n",
    "\n",
    "> Inspect machine learning models"
   ]
  },
  {
   "cell_type": "markdown",
   "metadata": {},
   "source": [
    "## Install"
   ]
  },
  {
   "cell_type": "markdown",
   "metadata": {},
   "source": [
    "`pip install model_inspector`"
   ]
  },
  {
   "cell_type": "markdown",
   "metadata": {},
   "source": [
    "## How to use"
   ]
  },
  {
   "cell_type": "markdown",
   "metadata": {},
   "source": [
    "Fill me in please! Don't forget code examples:"
   ]
  },
  {
   "cell_type": "code",
   "execution_count": 3,
   "metadata": {},
   "outputs": [],
   "source": [
    "from IPython.display import HTML\n",
    "import sklearn.datasets\n",
    "from sklearn.linear_model import LinearRegression\n",
    "\n",
    "from model_inspector.sklearn import generate_linear_model_html"
   ]
  },
  {
   "cell_type": "code",
   "execution_count": 4,
   "metadata": {},
   "outputs": [],
   "source": [
    "diabetes = sklearn.datasets.load_diabetes()\n",
    "X, y = diabetes[\"data\"], diabetes[\"target\"]"
   ]
  },
  {
   "cell_type": "code",
   "execution_count": 5,
   "metadata": {},
   "outputs": [
    {
     "data": {
      "text/html": [
       "\n",
       "        <span style='color:red'>progression</span>\n",
       "        = <span style='color:purple'>152.13</span>\n",
       "    \n",
       "            <span style='color:green'>- 10.01</span>\n",
       "            * <span style='color:blue'>age</span>\n",
       "        \n",
       "            <span style='color:green'>- 239.82</span>\n",
       "            * <span style='color:blue'>sex</span>\n",
       "        \n",
       "            <span style='color:green'>+ 519.84</span>\n",
       "            * <span style='color:blue'>bmi</span>\n",
       "        \n",
       "            <span style='color:green'>+ 324.39</span>\n",
       "            * <span style='color:blue'>bp</span>\n",
       "        \n",
       "            <span style='color:green'>- 792.18</span>\n",
       "            * <span style='color:blue'>s1</span>\n",
       "        \n",
       "            <span style='color:green'>+ 476.75</span>\n",
       "            * <span style='color:blue'>s2</span>\n",
       "        \n",
       "            <span style='color:green'>+ 101.04</span>\n",
       "            * <span style='color:blue'>s3</span>\n",
       "        \n",
       "            <span style='color:green'>+ 177.06</span>\n",
       "            * <span style='color:blue'>s4</span>\n",
       "        \n",
       "            <span style='color:green'>+ 751.28</span>\n",
       "            * <span style='color:blue'>s5</span>\n",
       "        \n",
       "            <span style='color:green'>+ 67.63</span>\n",
       "            * <span style='color:blue'>s6</span>\n",
       "        "
      ],
      "text/plain": [
       "<IPython.core.display.HTML object>"
      ]
     },
     "execution_count": 5,
     "metadata": {},
     "output_type": "execute_result"
    }
   ],
   "source": [
    "HTML(\n",
    "    generate_linear_model_html(\n",
    "        LinearRegression().fit(X, y), diabetes[\"feature_names\"], \"progression\"\n",
    "    )\n",
    ")"
   ]
  }
 ],
 "metadata": {
  "kernelspec": {
   "display_name": "Python 3",
   "language": "python",
   "name": "python3"
  },
  "language_info": {
   "codemirror_mode": {
    "name": "ipython",
    "version": 3
   },
   "file_extension": ".py",
   "mimetype": "text/x-python",
   "name": "python",
   "nbconvert_exporter": "python",
   "pygments_lexer": "ipython3",
   "version": "3.7.7"
  }
 },
 "nbformat": 4,
 "nbformat_minor": 4
}
