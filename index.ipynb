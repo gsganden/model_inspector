{
 "cells": [
  {
   "cell_type": "code",
   "execution_count": null,
   "metadata": {},
   "outputs": [],
   "source": [
    "# hide\n",
    "%reload_ext autoreload\n",
    "%autoreload 2\n",
    "%load_ext lab_black"
   ]
  },
  {
   "cell_type": "markdown",
   "metadata": {},
   "source": [
    "# Model Inspector\n",
    "\n",
    "> Inspect machine learning models"
   ]
  },
  {
   "cell_type": "markdown",
   "metadata": {},
   "source": [
    "## Install"
   ]
  },
  {
   "cell_type": "markdown",
   "metadata": {},
   "source": [
    "`pip install model_inspector`"
   ]
  },
  {
   "cell_type": "markdown",
   "metadata": {},
   "source": [
    "## How to Use"
   ]
  },
  {
   "cell_type": "markdown",
   "metadata": {},
   "source": [
    "Example:"
   ]
  },
  {
   "cell_type": "code",
   "execution_count": null,
   "metadata": {},
   "outputs": [],
   "source": [
    "from IPython.display import HTML\n",
    "import sklearn.datasets\n",
    "from sklearn.linear_model import LinearRegression\n",
    "\n",
    "from model_inspector.sklearn import generate_linear_model_html"
   ]
  },
  {
   "cell_type": "code",
   "execution_count": null,
   "metadata": {},
   "outputs": [
    {
     "data": {
      "text/html": [
       "\n",
       "        <span style='color:red'>progression</span>\n",
       "        = <span style='color:purple'>152.13</span>\n",
       "    \n",
       "            <span style='color:green'>- 10.01</span>\n",
       "            * <span style='color:blue'>age</span>\n",
       "        \n",
       "            <span style='color:green'>- 239.82</span>\n",
       "            * <span style='color:blue'>sex</span>\n",
       "        \n",
       "            <span style='color:green'>+ 519.84</span>\n",
       "            * <span style='color:blue'>bmi</span>\n",
       "        \n",
       "            <span style='color:green'>+ 324.39</span>\n",
       "            * <span style='color:blue'>bp</span>\n",
       "        \n",
       "            <span style='color:green'>- 792.18</span>\n",
       "            * <span style='color:blue'>s1</span>\n",
       "        \n",
       "            <span style='color:green'>+ 476.75</span>\n",
       "            * <span style='color:blue'>s2</span>\n",
       "        \n",
       "            <span style='color:green'>+ 101.04</span>\n",
       "            * <span style='color:blue'>s3</span>\n",
       "        \n",
       "            <span style='color:green'>+ 177.06</span>\n",
       "            * <span style='color:blue'>s4</span>\n",
       "        \n",
       "            <span style='color:green'>+ 751.28</span>\n",
       "            * <span style='color:blue'>s5</span>\n",
       "        \n",
       "            <span style='color:green'>+ 67.63</span>\n",
       "            * <span style='color:blue'>s6</span>\n",
       "        "
      ],
      "text/plain": [
       "<IPython.core.display.HTML object>"
      ]
     },
     "execution_count": null,
     "metadata": {},
     "output_type": "execute_result"
    }
   ],
   "source": [
    "diabetes = sklearn.datasets.load_diabetes()\n",
    "X, y = diabetes[\"data\"], diabetes[\"target\"]\n",
    "\n",
    "HTML(\n",
    "    generate_linear_model_html(\n",
    "        model=LinearRegression().fit(X, y),\n",
    "        feature_names=diabetes[\"feature_names\"],\n",
    "        target_name=\"progression\",\n",
    "    )\n",
    ")"
   ]
  },
  {
   "cell_type": "markdown",
   "metadata": {},
   "source": [
    "The library also supports logistic regression with `model_inspector.sklearn.generate_logistic_model_html`."
   ]
  }
 ],
 "metadata": {
  "kernelspec": {
   "display_name": "Python 3",
   "language": "python",
   "name": "python3"
  }
 },
 "nbformat": 4,
 "nbformat_minor": 4
}
