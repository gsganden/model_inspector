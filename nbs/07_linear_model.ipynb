{
 "cells": [
  {
   "cell_type": "code",
   "execution_count": 1,
   "id": "5d2ca12e-aaac-4d25-9796-4182b1fe1ab9",
   "metadata": {},
   "outputs": [],
   "source": [
    "# | hide\n",
    "# skip\n",
    "! [ -e /content ] && pip install -Uqq model_inspector nbdev\n",
    "# For colab. Restart the runtime after running this cell!"
   ]
  },
  {
   "cell_type": "code",
   "execution_count": 2,
   "id": "158bb0e2-0e96-4e0f-8598-de8a7a856d78",
   "metadata": {},
   "outputs": [],
   "source": [
    "# | default_exp inspect.linear_model"
   ]
  },
  {
   "cell_type": "markdown",
   "id": "a43e6fb5-86f4-4d39-8138-06deccac3eb0",
   "metadata": {},
   "source": [
    "# Linear Model\n",
    "\n",
    "> Inspector functionality specific to linear regression, logistic regression, and their variants"
   ]
  },
  {
   "cell_type": "code",
   "execution_count": 3,
   "id": "bea65eba-c007-45bc-913a-21121211fead",
   "metadata": {},
   "outputs": [],
   "source": [
    "# | export\n",
    "from typing import Sequence, Union\n",
    "\n",
    "from fastcore.test import test_fig_exists\n",
    "from matplotlib.axes import Axes\n",
    "import matplotlib.pyplot as plt\n",
    "import numpy as np\n",
    "from numpy.typing import NDArray\n",
    "import pandas as pd\n",
    "import waterfall_chart\n",
    "from IPython.display import HTML\n",
    "from model_inspector.delegate import delegates\n",
    "from model_inspector.inspect.classifier import _BinInspector, _MultiInspector\n",
    "from model_inspector.inspect.regressor import _RegInspector\n",
    "from sklearn.base import clone"
   ]
  },
  {
   "cell_type": "code",
   "execution_count": 4,
   "id": "b041dfb9-f2a7-4be2-9eb6-a3a551495608",
   "metadata": {},
   "outputs": [],
   "source": [
    "# | export\n",
    "# Meant to be colorblind-friendly\n",
    "COLORS = {\"blue\": \"#377eb8\", \"orange\": \"#ff7f00\", \"green\": \"#4daf4a\", \"pink\": \"#f781bf\"}"
   ]
  },
  {
   "cell_type": "code",
   "execution_count": 5,
   "id": "c8ca7031-e71f-4850-9286-673a618daf29",
   "metadata": {},
   "outputs": [],
   "source": [
    "# | export\n",
    "class _LinInspectorMixin:\n",
    "    \"\"\"Abstract mixin class for linear model inspectors\"\"\"\n",
    "\n",
    "    def show_model(*args, **kwargs):\n",
    "        raise NotImplementedError()\n",
    "\n",
    "    def plot_coefs_vs_hparam(*args, **kwargs):\n",
    "        raise NotImplementedError()\n",
    "\n",
    "    def plot_waterfall(*args, **kwargs):\n",
    "        raise NotImplementedError()\n",
    "\n",
    "    def _generate_model_html(\n",
    "        self,\n",
    "        intercept: float,\n",
    "        coefs: Sequence[float],\n",
    "        target_name: str,\n",
    "        intercept_formatter: str = \".2f\",\n",
    "        coef_formatter: str = \".2f\",\n",
    "    ):\n",
    "        if len(coefs) != len(self.X.columns):\n",
    "            raise ValueError(\"len(coefs) != len(feature_cols)\")\n",
    "        model_string = f\"\"\"\n",
    "            <span style='color:{COLORS[\"pink\"]}'>{target_name}</span>\n",
    "            = <span style='color:{COLORS[\"orange\"]}'>{intercept:{intercept_formatter}}</span>\n",
    "        \"\"\"  # noqa: E501\n",
    "        for coef, feature_col in zip(coefs, self.X.columns):\n",
    "            model_string += f\"\"\"\n",
    "                <span style='color:{COLORS[\"green\"]}'>{\"+\" if coef >= 0 else \"-\"} {abs(coef):{coef_formatter}}</span>\n",
    "                * <span style='color:{COLORS[\"blue\"]}'>{feature_col}</span>\n",
    "            \"\"\"  # noqa: E501\n",
    "        return model_string\n",
    "\n",
    "    def _plot_waterfall(\n",
    "        self,\n",
    "        item: Union[pd.Series, np.array],\n",
    "        intercept: float,\n",
    "        coefs: Sequence[float],\n",
    "        y_lab: str,\n",
    "        bar_num_formatter: str = \".1f\",\n",
    "        tick_num_formatter: str = \".2f\",\n",
    "        sorted_value: bool = True,\n",
    "        threshold: float = 0.01,\n",
    "        blue_color=COLORS[\"blue\"],\n",
    "        green_color=COLORS[\"green\"],\n",
    "        red_color=COLORS[\"orange\"],\n",
    "        rotation_value: int = 270,\n",
    "        **waterfall_kwargs,\n",
    "    ):\n",
    "        index = [\"int\"] + [\n",
    "            f\"{name}: {val:{tick_num_formatter}}\"\n",
    "            for name, val in zip(self.X.columns, item)\n",
    "        ]\n",
    "        vals = [intercept] + list(np.array(coefs) * item)\n",
    "        waterfall_chart.plot(\n",
    "            index=index,\n",
    "            data=vals,\n",
    "            x_lab=\"Feature name and value\",\n",
    "            y_lab=y_lab,\n",
    "            formatting=f\"{{:,{bar_num_formatter}}}\",\n",
    "            net_label=self.y.name,\n",
    "            sorted_value=sorted_value,\n",
    "            threshold=threshold,\n",
    "            blue_color=blue_color,\n",
    "            green_color=green_color,\n",
    "            red_color=red_color,\n",
    "            rotation_value=rotation_value,\n",
    "            **waterfall_kwargs,\n",
    "        )\n",
    "        return plt.gca()"
   ]
  },
  {
   "cell_type": "markdown",
   "id": "7586bebf-70d1-4f4a-a5e4-a91c861537f7",
   "metadata": {},
   "source": [
    "## Linear Regression"
   ]
  },
  {
   "cell_type": "code",
   "execution_count": 6,
   "id": "3510d4b1-9707-4644-b26a-5d6b6f3cdeb6",
   "metadata": {},
   "outputs": [],
   "source": [
    "# | export\n",
    "class _LinRegInspector(_RegInspector, _LinInspectorMixin):\n",
    "    \"\"\"Linear regression model inspector\"\"\"\n",
    "\n",
    "    def show_model(\n",
    "        self,\n",
    "        intercept_formatter: str = \".2f\",\n",
    "        coef_formatter: str = \".2f\",\n",
    "    ):\n",
    "        \"\"\"Show model equation\n",
    "\n",
    "        Parameters:\n",
    "\n",
    "        - `intercept_formatter`: Intercept format specifier\n",
    "        - `coef_formatter`: Intercept format specifier\n",
    "        \"\"\"\n",
    "        return HTML(\n",
    "            self._generate_model_html(\n",
    "                intercept=self.model.intercept_,\n",
    "                coefs=self.model.coef_,\n",
    "                target_name=self.y.name,\n",
    "                intercept_formatter=intercept_formatter,\n",
    "                coef_formatter=coef_formatter,\n",
    "            )\n",
    "        )\n",
    "\n",
    "    def plot_coefs_vs_hparam(self, hparam: str, vals: Sequence[float]):\n",
    "        \"\"\"Plot coefficient values against a hyperparameter\n",
    "\n",
    "        Parameters:\n",
    "\n",
    "        - `hparam`: Name of hyperparameter; must be an attribute of\n",
    "        `self.model`\n",
    "        - `vals`: Values of that hyperparameter to use\n",
    "        \"\"\"\n",
    "        current_val = getattr(self.model, hparam)\n",
    "        model = clone(self.model)\n",
    "        setattr(model, hparam, vals[-1])\n",
    "        model.fit(self.X, self.y)\n",
    "        column_order = model.coef_.argsort()[::-1]\n",
    "        X = self.X.iloc[:, column_order]\n",
    "\n",
    "        coefs = []\n",
    "        for val in vals:\n",
    "            setattr(model, hparam, val)\n",
    "            coefs.append(model.fit(X, self.y).coef_)\n",
    "\n",
    "        fig, ax = plt.subplots()\n",
    "        ax.plot(vals, coefs)\n",
    "        ax.plot([vals.min(), vals.max()], [0, 0], linestyle=\"dotted\", c=\"k\")\n",
    "        ax.axvline(current_val, c=\"k\", label=\"current value\")\n",
    "        ax.set(xlabel=hparam, ylabel=\"coefficient value\")\n",
    "        ax.legend(X.columns, bbox_to_anchor=(1.05, 1.0), loc=\"upper left\")\n",
    "        return ax\n",
    "\n",
    "    @delegates(waterfall_chart.plot)\n",
    "    def plot_waterfall(\n",
    "        self,\n",
    "        item: Union[pd.Series, np.array],\n",
    "        bar_num_formatter: str = \".1f\",\n",
    "        tick_num_formatter: str = \".2f\",\n",
    "        sorted_value=True,\n",
    "        threshold=0.01,\n",
    "        blue_color=COLORS[\"blue\"],\n",
    "        green_color=COLORS[\"green\"],\n",
    "        red_color=COLORS[\"orange\"],\n",
    "        **kwargs,\n",
    "    ):\n",
    "        \"\"\"Make a waterfall chart showing how each feature contributes\n",
    "        to the prediction for the input item.\n",
    "\n",
    "        Parameters:\n",
    "\n",
    "        - `item`: Input item, with the same shape and value meanings as\n",
    "        a single row from `self.X`\n",
    "        - `bar_num_formatter`: Bar label format specifier\n",
    "        - `tick_num_formatter`: Tick label format specifier\n",
    "\n",
    "        Additional keyword arguments will be passed to\n",
    "        `waterfall_chart.plot`\n",
    "        \"\"\"\n",
    "        return self._plot_waterfall(\n",
    "            item=item,\n",
    "            intercept=self.model.intercept_,\n",
    "            coefs=self.model.coef_,\n",
    "            y_lab=\"Contribution to prediction\",\n",
    "            bar_num_formatter=bar_num_formatter,\n",
    "            tick_num_formatter=tick_num_formatter,\n",
    "            sorted_value=sorted_value,\n",
    "            threshold=threshold,\n",
    "            blue_color=blue_color,\n",
    "            green_color=green_color,\n",
    "            red_color=red_color,\n",
    "            **kwargs,\n",
    "        )"
   ]
  },
  {
   "cell_type": "code",
   "execution_count": 7,
   "id": "bb028152-66f8-474f-8495-f48b00a9a555",
   "metadata": {
    "tags": []
   },
   "outputs": [],
   "source": [
    "import sklearn.datasets\n",
    "from model_inspector import get_inspector\n",
    "from sklearn.linear_model import Ridge"
   ]
  },
  {
   "cell_type": "code",
   "execution_count": 8,
   "id": "62e313b8-1361-4ca9-977f-984d4203419b",
   "metadata": {},
   "outputs": [],
   "source": [
    "X, y = sklearn.datasets.load_diabetes(return_X_y=True, as_frame=True)\n",
    "\n",
    "inspector = get_inspector(Ridge().fit(X, y), X, y)"
   ]
  },
  {
   "cell_type": "code",
   "execution_count": 9,
   "id": "1239f0ab-7f4a-475d-8349-5298b0aa05ce",
   "metadata": {
    "tags": []
   },
   "outputs": [],
   "source": [
    "# | hide\n",
    "import warnings\n",
    "\n",
    "from sklearn.linear_model import ElasticNet, Lasso, LinearRegression, LogisticRegression"
   ]
  },
  {
   "cell_type": "code",
   "execution_count": 10,
   "id": "a38db99a-d520-4266-a073-01429b5e0123",
   "metadata": {
    "tags": []
   },
   "outputs": [],
   "source": [
    "# | hide\n",
    "LINEAR_MODELS = [LinearRegression, LogisticRegression, Ridge, ElasticNet, Lasso]\n",
    "\n",
    "for model_class in LINEAR_MODELS:\n",
    "    model = model_class().fit(X, y)\n",
    "    for method in [\"show_model\", \"plot_coefs_vs_hparam\", \"plot_waterfall\"]:\n",
    "        with warnings.catch_warnings():\n",
    "            warnings.simplefilter(\"ignore\")\n",
    "            assert hasattr(\n",
    "                get_inspector(model, X, y),\n",
    "                method,\n",
    "            )"
   ]
  },
  {
   "cell_type": "code",
   "execution_count": 11,
   "id": "2add4e1e-8841-4e46-b2b8-4be424fa13fa",
   "metadata": {
    "tags": []
   },
   "outputs": [],
   "source": [
    "# | hide\n",
    "from model_inspector.inspect.linear_model import _LinRegInspector  # noqa: F811"
   ]
  },
  {
   "cell_type": "code",
   "execution_count": 12,
   "id": "514d048b-6201-433e-9a24-08e309810bc2",
   "metadata": {
    "tags": []
   },
   "outputs": [],
   "source": [
    "# | hide\n",
    "assert isinstance(inspector, _LinRegInspector)"
   ]
  },
  {
   "cell_type": "code",
   "execution_count": 13,
   "id": "e9d0956e-455f-470e-9670-4ed8620220e0",
   "metadata": {
    "tags": []
   },
   "outputs": [
    {
     "data": {
      "text/plain": [
       "['_generate_model_html',\n",
       " '_plot_waterfall',\n",
       " 'permutation_importance',\n",
       " 'plot_coefs_vs_hparam',\n",
       " 'plot_feature_clusters',\n",
       " 'plot_partial_dependence',\n",
       " 'plot_permutation_importance',\n",
       " 'plot_pred_vs_act',\n",
       " 'plot_residuals',\n",
       " 'plot_waterfall',\n",
       " 'show_correlation',\n",
       " 'show_model']"
      ]
     },
     "execution_count": 13,
     "metadata": {},
     "output_type": "execute_result"
    }
   ],
   "source": [
    "# | hide\n",
    "inspector.methods"
   ]
  },
  {
   "cell_type": "code",
   "execution_count": 14,
   "id": "741af790-961c-454f-b271-489cd6eecddd",
   "metadata": {
    "tags": []
   },
   "outputs": [],
   "source": [
    "# | hide\n",
    "from nbdev.showdoc import show_doc"
   ]
  },
  {
   "cell_type": "code",
   "execution_count": 15,
   "id": "4a0e83ea-e360-4034-9557-56fd137fd285",
   "metadata": {
    "tags": []
   },
   "outputs": [
    {
     "data": {
      "text/markdown": [
       "---\n",
       "\n",
       "[source](https://github.com/gsganden/model_inspector/tree/main/blob/main/model_inspector/inspect/linear_model.py#LNone){target=\"_blank\" style=\"float:right; font-size:smaller\"}\n",
       "\n",
       "### plot_coefs_vs_hparam (regression model)\n",
       "\n",
       ">      plot_coefs_vs_hparam (regression model) (hparam:str,\n",
       ">                            vals:Sequence[float])\n",
       "\n",
       "Plot coefficient values against a hyperparameter\n",
       "\n",
       "Parameters:\n",
       "\n",
       "- `hparam`: Name of hyperparameter; must be an attribute of\n",
       "`self.model`\n",
       "- `vals`: Values of that hyperparameter to use"
      ],
      "text/plain": [
       "---\n",
       "\n",
       "[source](https://github.com/gsganden/model_inspector/tree/main/blob/main/model_inspector/inspect/linear_model.py#LNone){target=\"_blank\" style=\"float:right; font-size:smaller\"}\n",
       "\n",
       "### plot_coefs_vs_hparam (regression model)\n",
       "\n",
       ">      plot_coefs_vs_hparam (regression model) (hparam:str,\n",
       ">                            vals:Sequence[float])\n",
       "\n",
       "Plot coefficient values against a hyperparameter\n",
       "\n",
       "Parameters:\n",
       "\n",
       "- `hparam`: Name of hyperparameter; must be an attribute of\n",
       "`self.model`\n",
       "- `vals`: Values of that hyperparameter to use"
      ]
     },
     "execution_count": 15,
     "metadata": {},
     "output_type": "execute_result"
    }
   ],
   "source": [
    "show_doc(\n",
    "    _LinRegInspector.plot_coefs_vs_hparam,\n",
    "    name=\"plot_coefs_vs_hparam (regression model)\",\n",
    ")"
   ]
  },
  {
   "cell_type": "code",
   "execution_count": 16,
   "id": "5e834b01-49c5-4a2b-a280-64e15765ddc0",
   "metadata": {},
   "outputs": [
    {
     "data": {
      "image/png": "[encoded data removed]",
      "text/plain": [
       "<Figure size 640x480 with 1 Axes>"
      ]
     },
     "metadata": {},
     "output_type": "display_data"
    }
   ],
   "source": [
    "ax = inspector.plot_coefs_vs_hparam(\"alpha\", np.logspace(-2, 0.5, 10))"
   ]
  },
  {
   "cell_type": "code",
   "execution_count": 17,
   "id": "166d7ae3-9476-4b14-869c-641e54bd2da2",
   "metadata": {
    "tags": []
   },
   "outputs": [],
   "source": [
    "# | hide\n",
    "test_fig_exists(ax)"
   ]
  },
  {
   "cell_type": "code",
   "execution_count": 18,
   "id": "dd53e304-bbe8-4d9f-9ba0-8469f866852f",
   "metadata": {
    "tags": []
   },
   "outputs": [
    {
     "data": {
      "text/markdown": [
       "---\n",
       "\n",
       "[source](https://github.com/gsganden/model_inspector/tree/main/blob/main/model_inspector/inspect/linear_model.py#LNone){target=\"_blank\" style=\"float:right; font-size:smaller\"}\n",
       "\n",
       "### plot_waterfall (regression model)\n",
       "\n",
       ">      plot_waterfall (regression model)\n",
       ">                      (item:Union[pandas.core.series.Series,<built-\n",
       ">                      infunctionarray>], bar_num_formatter:str='.1f',\n",
       ">                      tick_num_formatter:str='.2f', sorted_value=True,\n",
       ">                      threshold=0.01, blue_color='#377eb8',\n",
       ">                      green_color='#4daf4a', red_color='#ff7f00', Title='',\n",
       ">                      x_lab='', y_lab='', formatting='{:,.1f}',\n",
       ">                      other_label='other', net_label='net', rotation_value=30)\n",
       "\n",
       "Make a waterfall chart showing how each feature contributes\n",
       "to the prediction for the input item.\n",
       "\n",
       "Parameters:\n",
       "\n",
       "- `item`: Input item, with the same shape and value meanings as\n",
       "a single row from `self.X`\n",
       "- `bar_num_formatter`: Bar label format specifier\n",
       "- `tick_num_formatter`: Tick label format specifier\n",
       "\n",
       "Additional keyword arguments will be passed to\n",
       "`waterfall_chart.plot`\n",
       "\n",
       "Remaining parameters are passed to `waterfall_chart.plot`."
      ],
      "text/plain": [
       "---\n",
       "\n",
       "[source](https://github.com/gsganden/model_inspector/tree/main/blob/main/model_inspector/inspect/linear_model.py#LNone){target=\"_blank\" style=\"float:right; font-size:smaller\"}\n",
       "\n",
       "### plot_waterfall (regression model)\n",
       "\n",
       ">      plot_waterfall (regression model)\n",
       ">                      (item:Union[pandas.core.series.Series,<built-\n",
       ">                      infunctionarray>], bar_num_formatter:str='.1f',\n",
       ">                      tick_num_formatter:str='.2f', sorted_value=True,\n",
       ">                      threshold=0.01, blue_color='#377eb8',\n",
       ">                      green_color='#4daf4a', red_color='#ff7f00', Title='',\n",
       ">                      x_lab='', y_lab='', formatting='{:,.1f}',\n",
       ">                      other_label='other', net_label='net', rotation_value=30)\n",
       "\n",
       "Make a waterfall chart showing how each feature contributes\n",
       "to the prediction for the input item.\n",
       "\n",
       "Parameters:\n",
       "\n",
       "- `item`: Input item, with the same shape and value meanings as\n",
       "a single row from `self.X`\n",
       "- `bar_num_formatter`: Bar label format specifier\n",
       "- `tick_num_formatter`: Tick label format specifier\n",
       "\n",
       "Additional keyword arguments will be passed to\n",
       "`waterfall_chart.plot`\n",
       "\n",
       "Remaining parameters are passed to `waterfall_chart.plot`."
      ]
     },
     "execution_count": 18,
     "metadata": {},
     "output_type": "execute_result"
    }
   ],
   "source": [
    "show_doc(_LinRegInspector.plot_waterfall, name=\"plot_waterfall (regression model)\")"
   ]
  },
  {
   "cell_type": "code",
   "execution_count": 19,
   "id": "3e847251-f7d7-4001-bdb7-f4c7d083feac",
   "metadata": {},
   "outputs": [
    {
     "data": {
      "image/png": "[encoded data removed]",
      "text/plain": [
       "<Figure size 640x480 with 1 Axes>"
      ]
     },
     "metadata": {},
     "output_type": "display_data"
    }
   ],
   "source": [
    "ax = inspector.plot_waterfall(X.iloc[0])"
   ]
  },
  {
   "cell_type": "code",
   "execution_count": 20,
   "id": "db2ec6be-1b9e-4c04-85ae-e3137912b1a7",
   "metadata": {
    "tags": []
   },
   "outputs": [],
   "source": [
    "# | hide\n",
    "test_fig_exists(ax)"
   ]
  },
  {
   "cell_type": "code",
   "execution_count": 21,
   "id": "3af84b72-30c0-4f70-8fe2-4bab0aa39e96",
   "metadata": {
    "tags": []
   },
   "outputs": [
    {
     "data": {
      "text/markdown": [
       "---\n",
       "\n",
       "[source](https://github.com/gsganden/model_inspector/tree/main/blob/main/model_inspector/inspect/linear_model.py#LNone){target=\"_blank\" style=\"float:right; font-size:smaller\"}\n",
       "\n",
       "### show_model (regression model)\n",
       "\n",
       ">      show_model (regression model) (intercept_formatter:str='.2f',\n",
       ">                  coef_formatter:str='.2f')\n",
       "\n",
       "Show model equation\n",
       "\n",
       "Parameters:\n",
       "\n",
       "- `intercept_formatter`: Intercept format specifier\n",
       "- `coef_formatter`: Intercept format specifier"
      ],
      "text/plain": [
       "---\n",
       "\n",
       "[source](https://github.com/gsganden/model_inspector/tree/main/blob/main/model_inspector/inspect/linear_model.py#LNone){target=\"_blank\" style=\"float:right; font-size:smaller\"}\n",
       "\n",
       "### show_model (regression model)\n",
       "\n",
       ">      show_model (regression model) (intercept_formatter:str='.2f',\n",
       ">                  coef_formatter:str='.2f')\n",
       "\n",
       "Show model equation\n",
       "\n",
       "Parameters:\n",
       "\n",
       "- `intercept_formatter`: Intercept format specifier\n",
       "- `coef_formatter`: Intercept format specifier"
      ]
     },
     "execution_count": 21,
     "metadata": {},
     "output_type": "execute_result"
    }
   ],
   "source": [
    "show_doc(_LinRegInspector.show_model, name=\"show_model (regression model)\")"
   ]
  },
  {
   "cell_type": "code",
   "execution_count": 22,
   "id": "2077fb1a-86a5-4339-9796-affc9f9f3ad1",
   "metadata": {
    "tags": []
   },
   "outputs": [
    {
     "data": {
      "text/html": [
       "\n",
       "            <span style='color:#f781bf'>target</span>\n",
       "            = <span style='color:#ff7f00'>152.13</span>\n",
       "        \n",
       "                <span style='color:#4daf4a'>+ 29.47</span>\n",
       "                * <span style='color:#377eb8'>age</span>\n",
       "            \n",
       "                <span style='color:#4daf4a'>- 83.15</span>\n",
       "                * <span style='color:#377eb8'>sex</span>\n",
       "            \n",
       "                <span style='color:#4daf4a'>+ 306.35</span>\n",
       "                * <span style='color:#377eb8'>bmi</span>\n",
       "            \n",
       "                <span style='color:#4daf4a'>+ 201.63</span>\n",
       "                * <span style='color:#377eb8'>bp</span>\n",
       "            \n",
       "                <span style='color:#4daf4a'>+ 5.91</span>\n",
       "                * <span style='color:#377eb8'>s1</span>\n",
       "            \n",
       "                <span style='color:#4daf4a'>- 29.52</span>\n",
       "                * <span style='color:#377eb8'>s2</span>\n",
       "            \n",
       "                <span style='color:#4daf4a'>- 152.04</span>\n",
       "                * <span style='color:#377eb8'>s3</span>\n",
       "            \n",
       "                <span style='color:#4daf4a'>+ 117.31</span>\n",
       "                * <span style='color:#377eb8'>s4</span>\n",
       "            \n",
       "                <span style='color:#4daf4a'>+ 262.94</span>\n",
       "                * <span style='color:#377eb8'>s5</span>\n",
       "            \n",
       "                <span style='color:#4daf4a'>+ 111.88</span>\n",
       "                * <span style='color:#377eb8'>s6</span>\n",
       "            "
      ],
      "text/plain": [
       "<IPython.core.display.HTML object>"
      ]
     },
     "execution_count": 22,
     "metadata": {},
     "output_type": "execute_result"
    }
   ],
   "source": [
    "inspector.show_model()"
   ]
  },
  {
   "cell_type": "markdown",
   "id": "7d47d885-ddc5-4031-b991-6ccd27fe1b6e",
   "metadata": {},
   "source": [
    "## Binary Logistic Regression"
   ]
  },
  {
   "cell_type": "code",
   "execution_count": 23,
   "id": "f412bc48-88cf-492d-b54d-4fa1c4b77f03",
   "metadata": {},
   "outputs": [],
   "source": [
    "# | export\n",
    "class _LinBinInspector(_BinInspector, _LinInspectorMixin):\n",
    "    \"\"\"Linear binary classification model inspector\"\"\"\n",
    "\n",
    "    def plot_coefs_vs_hparam(self, hparam: str, vals: Sequence[float]) -> np.array:\n",
    "        \"\"\"Plot coefficient values against a hyperparameter\n",
    "\n",
    "        Parameters:\n",
    "\n",
    "        - `hparam`: Name of hyperparameter; must be an attribute of\n",
    "        `self.model`\n",
    "        - `vals`: Values of that hyperparameter to use\n",
    "        \"\"\"\n",
    "        current_val = getattr(self.model, hparam)\n",
    "        model = clone(self.model)\n",
    "        setattr(model, hparam, vals[-1])\n",
    "        column_order = model.fit(self.X, self.y).coef_[0].argsort()[::-1]\n",
    "        X = self.X.iloc[:, column_order]\n",
    "\n",
    "        coef_arrays = []\n",
    "        for val in vals:\n",
    "            setattr(model, hparam, val)\n",
    "            coef_arrays.append(model.fit(X, self.y).coef_)\n",
    "\n",
    "        fig, ax = plt.subplots()\n",
    "        ax.plot(vals, [coefs[0] for coefs in coef_arrays])\n",
    "        ax.plot([vals.min(), vals.max()], [0, 0], linestyle=\"dotted\", c=\"k\")\n",
    "        ax.set(xlabel=hparam, ylabel=\"Coefficient Value\")\n",
    "        ax.axvline(current_val, c=\"k\", label=\"current value\")\n",
    "        ax.legend(X.columns, bbox_to_anchor=(1.05, 1.0), loc=\"upper left\")\n",
    "        return ax\n",
    "\n",
    "    def show_model(\n",
    "        self,\n",
    "        intercept_formatter: str = \".2f\",\n",
    "        coef_formatter: str = \".2f\",\n",
    "    ):\n",
    "        \"\"\"Show model equation\n",
    "\n",
    "        Parameters:\n",
    "\n",
    "        - `intercept_formatter`: Intercept format specifier\n",
    "        - `coef_formatter`: Intercept format specifier\n",
    "        \"\"\"\n",
    "        return HTML(\n",
    "            self._generate_model_html(\n",
    "                intercept=self.model.intercept_[0],\n",
    "                coefs=self.model.coef_[0],\n",
    "                target_name=f\"log-odds({self.y.name})\",\n",
    "                intercept_formatter=intercept_formatter,\n",
    "                coef_formatter=coef_formatter,\n",
    "            )\n",
    "        )\n",
    "\n",
    "    @delegates(waterfall_chart.plot)\n",
    "    def plot_waterfall(\n",
    "        self,\n",
    "        item: Union[pd.Series, np.array],\n",
    "        bar_num_formatter: str = \".1f\",\n",
    "        tick_num_formatter: str = \".2f\",\n",
    "        sorted_value=True,\n",
    "        threshold=0.01,\n",
    "        blue_color=COLORS[\"blue\"],\n",
    "        green_color=COLORS[\"green\"],\n",
    "        red_color=COLORS[\"orange\"],\n",
    "        **kwargs,\n",
    "    ):\n",
    "        \"\"\"Make a waterfall chart showing how each feature contributes\n",
    "        to the prediction for the input item for a binary classification\n",
    "        model.\n",
    "\n",
    "        Parameters:\n",
    "\n",
    "        - `item`: Input item, with the same shape and value meanings as\n",
    "        a single row from `self.X`\n",
    "        - `bar_num_formatter`: Bar label format specifier\n",
    "        - `tick_num_formatter`: Tick label format specifier\n",
    "        - `waterfall_kwargs`: kwargs to pass to `waterfall_chart.plot`\n",
    "        \"\"\"\n",
    "        return self._plot_waterfall(\n",
    "            item=item,\n",
    "            intercept=self.model.intercept_[0],\n",
    "            coefs=self.model.coef_[0],\n",
    "            y_lab=\"Contribution to predicted log-odds\",\n",
    "            bar_num_formatter=bar_num_formatter,\n",
    "            tick_num_formatter=tick_num_formatter,\n",
    "            sorted_value=sorted_value,\n",
    "            threshold=threshold,\n",
    "            blue_color=blue_color,\n",
    "            green_color=green_color,\n",
    "            red_color=red_color,\n",
    "            **kwargs,\n",
    "        )"
   ]
  },
  {
   "cell_type": "code",
   "execution_count": 24,
   "id": "f3ac9ef3-e1f2-4545-82dd-762f9ce75c15",
   "metadata": {
    "tags": []
   },
   "outputs": [],
   "source": [
    "from sklearn.linear_model import LogisticRegression"
   ]
  },
  {
   "cell_type": "code",
   "execution_count": 25,
   "id": "c60411ce-41d1-4804-923e-c92325d43a0a",
   "metadata": {
    "tags": []
   },
   "outputs": [],
   "source": [
    "X, y = sklearn.datasets.load_breast_cancer(return_X_y=True, as_frame=True)\n",
    "X = X.iloc[:, :10]"
   ]
  },
  {
   "cell_type": "code",
   "execution_count": 26,
   "id": "4777e3ad-8434-4835-8b6f-936db6203ffc",
   "metadata": {
    "tags": []
   },
   "outputs": [],
   "source": [
    "inspector = get_inspector(LogisticRegression(max_iter=1_000).fit(X, y), X, y)"
   ]
  },
  {
   "cell_type": "code",
   "execution_count": 27,
   "id": "40ed4118-6db4-4963-b2b8-7475c10c43f7",
   "metadata": {
    "tags": []
   },
   "outputs": [],
   "source": [
    "# | hide\n",
    "from model_inspector.inspect.linear_model import _LinBinInspector  # noqa: F811"
   ]
  },
  {
   "cell_type": "code",
   "execution_count": 28,
   "id": "aae49705-7169-41b3-b801-8ca8f46c5610",
   "metadata": {
    "tags": []
   },
   "outputs": [],
   "source": [
    "# | hide\n",
    "assert isinstance(inspector, _LinBinInspector)"
   ]
  },
  {
   "cell_type": "code",
   "execution_count": 29,
   "id": "098aa220-4f48-4f56-a43b-6837d5fbd5fe",
   "metadata": {
    "tags": []
   },
   "outputs": [
    {
     "data": {
      "text/markdown": [
       "---\n",
       "\n",
       "[source](https://github.com/gsganden/model_inspector/tree/main/blob/main/model_inspector/inspect/linear_model.py#LNone){target=\"_blank\" style=\"float:right; font-size:smaller\"}\n",
       "\n",
       "### plot_coefs_vs_hparam (binary model)\n",
       "\n",
       ">      plot_coefs_vs_hparam (binary model) (hparam:str, vals:Sequence[float])\n",
       "\n",
       "Plot coefficient values against a hyperparameter\n",
       "\n",
       "Parameters:\n",
       "\n",
       "- `hparam`: Name of hyperparameter; must be an attribute of\n",
       "`self.model`\n",
       "- `vals`: Values of that hyperparameter to use"
      ],
      "text/plain": [
       "---\n",
       "\n",
       "[source](https://github.com/gsganden/model_inspector/tree/main/blob/main/model_inspector/inspect/linear_model.py#LNone){target=\"_blank\" style=\"float:right; font-size:smaller\"}\n",
       "\n",
       "### plot_coefs_vs_hparam (binary model)\n",
       "\n",
       ">      plot_coefs_vs_hparam (binary model) (hparam:str, vals:Sequence[float])\n",
       "\n",
       "Plot coefficient values against a hyperparameter\n",
       "\n",
       "Parameters:\n",
       "\n",
       "- `hparam`: Name of hyperparameter; must be an attribute of\n",
       "`self.model`\n",
       "- `vals`: Values of that hyperparameter to use"
      ]
     },
     "execution_count": 29,
     "metadata": {},
     "output_type": "execute_result"
    }
   ],
   "source": [
    "show_doc(\n",
    "    _LinBinInspector.plot_coefs_vs_hparam, name=\"plot_coefs_vs_hparam (binary model)\"\n",
    ")"
   ]
  },
  {
   "cell_type": "code",
   "execution_count": 30,
   "id": "6c206544-4714-4710-84dd-406d20faf67d",
   "metadata": {},
   "outputs": [
    {
     "data": {
      "image/png": "[encoded data removed]",
      "text/plain": [
       "<Figure size 640x480 with 1 Axes>"
      ]
     },
     "metadata": {},
     "output_type": "display_data"
    }
   ],
   "source": [
    "ax = inspector.plot_coefs_vs_hparam(\"C\", np.logspace(-2, 0.5, 10))"
   ]
  },
  {
   "cell_type": "code",
   "execution_count": 31,
   "id": "3b20624e-97b7-48ef-b96b-9206346489f6",
   "metadata": {
    "tags": []
   },
   "outputs": [],
   "source": [
    "# | hide\n",
    "test_fig_exists(ax)"
   ]
  },
  {
   "cell_type": "code",
   "execution_count": 32,
   "id": "82d01117-6ba4-4ae8-8f25-39370c83614a",
   "metadata": {
    "tags": []
   },
   "outputs": [
    {
     "data": {
      "text/markdown": [
       "---\n",
       "\n",
       "[source](https://github.com/gsganden/model_inspector/tree/main/blob/main/model_inspector/inspect/linear_model.py#LNone){target=\"_blank\" style=\"float:right; font-size:smaller\"}\n",
       "\n",
       "### show_model (binary model)\n",
       "\n",
       ">      show_model (binary model) (intercept_formatter:str='.2f',\n",
       ">                  coef_formatter:str='.2f')\n",
       "\n",
       "Show model equation\n",
       "\n",
       "Parameters:\n",
       "\n",
       "- `intercept_formatter`: Intercept format specifier\n",
       "- `coef_formatter`: Intercept format specifier"
      ],
      "text/plain": [
       "---\n",
       "\n",
       "[source](https://github.com/gsganden/model_inspector/tree/main/blob/main/model_inspector/inspect/linear_model.py#LNone){target=\"_blank\" style=\"float:right; font-size:smaller\"}\n",
       "\n",
       "### show_model (binary model)\n",
       "\n",
       ">      show_model (binary model) (intercept_formatter:str='.2f',\n",
       ">                  coef_formatter:str='.2f')\n",
       "\n",
       "Show model equation\n",
       "\n",
       "Parameters:\n",
       "\n",
       "- `intercept_formatter`: Intercept format specifier\n",
       "- `coef_formatter`: Intercept format specifier"
      ]
     },
     "execution_count": 32,
     "metadata": {},
     "output_type": "execute_result"
    }
   ],
   "source": [
    "show_doc(_LinBinInspector.show_model, name=\"show_model (binary model)\")"
   ]
  },
  {
   "cell_type": "code",
   "execution_count": 33,
   "id": "2f9388c9-6c46-4e14-8eeb-09f28e974760",
   "metadata": {},
   "outputs": [
    {
     "data": {
      "text/html": [
       "\n",
       "            <span style='color:#f781bf'>log-odds(target)</span>\n",
       "            = <span style='color:#ff7f00'>21.27</span>\n",
       "        \n",
       "                <span style='color:#4daf4a'>+ 2.69</span>\n",
       "                * <span style='color:#377eb8'>mean radius</span>\n",
       "            \n",
       "                <span style='color:#4daf4a'>- 0.23</span>\n",
       "                * <span style='color:#377eb8'>mean texture</span>\n",
       "            \n",
       "                <span style='color:#4daf4a'>- 0.61</span>\n",
       "                * <span style='color:#377eb8'>mean perimeter</span>\n",
       "            \n",
       "                <span style='color:#4daf4a'>+ 0.00</span>\n",
       "                * <span style='color:#377eb8'>mean area</span>\n",
       "            \n",
       "                <span style='color:#4daf4a'>- 0.48</span>\n",
       "                * <span style='color:#377eb8'>mean smoothness</span>\n",
       "            \n",
       "                <span style='color:#4daf4a'>- 0.79</span>\n",
       "                * <span style='color:#377eb8'>mean compactness</span>\n",
       "            \n",
       "                <span style='color:#4daf4a'>- 1.42</span>\n",
       "                * <span style='color:#377eb8'>mean concavity</span>\n",
       "            \n",
       "                <span style='color:#4daf4a'>- 0.76</span>\n",
       "                * <span style='color:#377eb8'>mean concave points</span>\n",
       "            \n",
       "                <span style='color:#4daf4a'>- 0.69</span>\n",
       "                * <span style='color:#377eb8'>mean symmetry</span>\n",
       "            \n",
       "                <span style='color:#4daf4a'>- 0.12</span>\n",
       "                * <span style='color:#377eb8'>mean fractal dimension</span>\n",
       "            "
      ],
      "text/plain": [
       "<IPython.core.display.HTML object>"
      ]
     },
     "execution_count": 33,
     "metadata": {},
     "output_type": "execute_result"
    }
   ],
   "source": [
    "inspector.show_model()"
   ]
  },
  {
   "cell_type": "code",
   "execution_count": 34,
   "id": "2607c141-5a5a-454d-aee4-3e6182e10209",
   "metadata": {
    "tags": []
   },
   "outputs": [
    {
     "data": {
      "text/markdown": [
       "---\n",
       "\n",
       "[source](https://github.com/gsganden/model_inspector/tree/main/blob/main/model_inspector/inspect/linear_model.py#LNone){target=\"_blank\" style=\"float:right; font-size:smaller\"}\n",
       "\n",
       "### plot_waterfall (binary model)\n",
       "\n",
       ">      plot_waterfall (binary model)\n",
       ">                      (item:Union[pandas.core.series.Series,<built-\n",
       ">                      infunctionarray>], bar_num_formatter:str='.1f',\n",
       ">                      tick_num_formatter:str='.2f', sorted_value=True,\n",
       ">                      threshold=0.01, blue_color='#377eb8',\n",
       ">                      green_color='#4daf4a', red_color='#ff7f00', Title='',\n",
       ">                      x_lab='', y_lab='', formatting='{:,.1f}',\n",
       ">                      other_label='other', net_label='net', rotation_value=30)\n",
       "\n",
       "Make a waterfall chart showing how each feature contributes\n",
       "to the prediction for the input item for a binary classification\n",
       "model.\n",
       "\n",
       "Parameters:\n",
       "\n",
       "- `item`: Input item, with the same shape and value meanings as\n",
       "a single row from `self.X`\n",
       "- `bar_num_formatter`: Bar label format specifier\n",
       "- `tick_num_formatter`: Tick label format specifier\n",
       "- ``waterfall_kwargs`: kwargs to pass to `waterfall_chart.plot`\n",
       "\n",
       "Remaining parameters are passed to `waterfall_chart.plot`."
      ],
      "text/plain": [
       "---\n",
       "\n",
       "[source](https://github.com/gsganden/model_inspector/tree/main/blob/main/model_inspector/inspect/linear_model.py#LNone){target=\"_blank\" style=\"float:right; font-size:smaller\"}\n",
       "\n",
       "### plot_waterfall (binary model)\n",
       "\n",
       ">      plot_waterfall (binary model)\n",
       ">                      (item:Union[pandas.core.series.Series,<built-\n",
       ">                      infunctionarray>], bar_num_formatter:str='.1f',\n",
       ">                      tick_num_formatter:str='.2f', sorted_value=True,\n",
       ">                      threshold=0.01, blue_color='#377eb8',\n",
       ">                      green_color='#4daf4a', red_color='#ff7f00', Title='',\n",
       ">                      x_lab='', y_lab='', formatting='{:,.1f}',\n",
       ">                      other_label='other', net_label='net', rotation_value=30)\n",
       "\n",
       "Make a waterfall chart showing how each feature contributes\n",
       "to the prediction for the input item for a binary classification\n",
       "model.\n",
       "\n",
       "Parameters:\n",
       "\n",
       "- `item`: Input item, with the same shape and value meanings as\n",
       "a single row from `self.X`\n",
       "- `bar_num_formatter`: Bar label format specifier\n",
       "- `tick_num_formatter`: Tick label format specifier\n",
       "- ``waterfall_kwargs`: kwargs to pass to `waterfall_chart.plot`\n",
       "\n",
       "Remaining parameters are passed to `waterfall_chart.plot`."
      ]
     },
     "execution_count": 34,
     "metadata": {},
     "output_type": "execute_result"
    }
   ],
   "source": [
    "show_doc(_LinBinInspector.plot_waterfall, name=\"plot_waterfall (binary model)\")"
   ]
  },
  {
   "cell_type": "code",
   "execution_count": 35,
   "id": "698377f2-e7da-45cc-a3f0-3fdad6d7b4a7",
   "metadata": {},
   "outputs": [
    {
     "data": {
      "image/png": "[encoded data removed]",
      "text/plain": [
       "<Figure size 640x480 with 1 Axes>"
      ]
     },
     "metadata": {},
     "output_type": "display_data"
    }
   ],
   "source": [
    "ax = inspector.plot_waterfall(X.iloc[0])"
   ]
  },
  {
   "cell_type": "code",
   "execution_count": 36,
   "id": "306654c5-980a-4cb2-bb63-68a1b490cd99",
   "metadata": {
    "tags": []
   },
   "outputs": [],
   "source": [
    "# | hide\n",
    "test_fig_exists(ax)"
   ]
  },
  {
   "cell_type": "markdown",
   "id": "d3d99a26-7ec1-4c4e-9b2d-08807ec61016",
   "metadata": {},
   "source": [
    "## Multiclass Logistic Regression"
   ]
  },
  {
   "cell_type": "code",
   "execution_count": 37,
   "id": "277bb213-c505-457c-b9a3-f9b0724e79ee",
   "metadata": {},
   "outputs": [],
   "source": [
    "# | export\n",
    "class _LinMultiInspector(_MultiInspector, _LinInspectorMixin):\n",
    "    \"\"\"Linear multiclass classification model inspector\"\"\"\n",
    "\n",
    "    def plot_coefs_vs_hparam(self, hparam: str, vals: Sequence[float]) -> NDArray[Axes]:\n",
    "        \"\"\"Plot coefficient values against a hyperparameter\n",
    "\n",
    "        Parameters:\n",
    "\n",
    "        - `hparam`: Name of hyperparameter; must be an attribute of\n",
    "        `self.model`\n",
    "        - `vals`: Values of that hyperparameter to use\n",
    "        \"\"\"\n",
    "        current_val = getattr(self.model, hparam)\n",
    "        model = clone(self.model)\n",
    "        setattr(model, hparam, vals[-1])\n",
    "        column_order = model.fit(self.X, self.y).coef_[0].argsort()[::-1]\n",
    "        X = self.X.iloc[:, column_order]\n",
    "\n",
    "        coef_arrays = []\n",
    "        for val in vals:\n",
    "            setattr(model, hparam, val)\n",
    "            coef_arrays.append(model.fit(X, self.y).coef_)\n",
    "\n",
    "        num_target_vals = len(set(self.y))\n",
    "\n",
    "        fig, axes = plt.subplots(\n",
    "            num_target_vals, 1, sharex=True, sharey=True, constrained_layout=True\n",
    "        )\n",
    "        for target_val_num in range(num_target_vals):\n",
    "            axes[target_val_num].plot(\n",
    "                vals, [coefs[target_val_num] for coefs in coef_arrays]\n",
    "            )\n",
    "            axes[target_val_num].set_title(f\"y={sorted(set(self.y))[target_val_num]}\")\n",
    "        axes[0].set(xlabel=hparam, ylabel=\"Coefficient Value\")\n",
    "        for ax in axes:\n",
    "            ax.axvline(current_val, c=\"k\", label=\"current value\")\n",
    "            ax.plot([vals.min(), vals.max()], [0, 0], linestyle=\"dotted\", c=\"k\")\n",
    "        axes[0].legend(X.columns, bbox_to_anchor=(1.05, 1.0), loc=\"upper left\")\n",
    "        return axes\n",
    "\n",
    "    def show_model(\n",
    "        self,\n",
    "        intercept_formatter: str = \".2f\",\n",
    "        coef_formatter: str = \".2f\",\n",
    "    ):\n",
    "        \"\"\"Show model equation\n",
    "\n",
    "        Parameters:\n",
    "\n",
    "        - `intercept_formatter`: Intercept format specifier\n",
    "        - `coef_formatter`: Intercept format specifier\n",
    "        \"\"\"\n",
    "        model_string = \"\"\n",
    "        for target_name, coefs, intercept in zip(\n",
    "            np.unique(self.y), self.model.coef_, self.model.intercept_\n",
    "        ):\n",
    "            model_string += f\"\"\"\n",
    "                    <p>\n",
    "                        {self._generate_model_html(\n",
    "                                intercept=intercept,\n",
    "                                coefs=coefs,\n",
    "                                target_name=f\"log-odds({self.y.name} = {target_name})\",\n",
    "                                intercept_formatter=intercept_formatter,\n",
    "                                coef_formatter=coef_formatter,\n",
    "                            )\n",
    "                        }\n",
    "                    </p>\n",
    "                \"\"\"\n",
    "        return HTML(model_string)"
   ]
  },
  {
   "cell_type": "code",
   "execution_count": 38,
   "id": "8b52904a-3312-46b7-b33b-969eb0bacd90",
   "metadata": {
    "tags": []
   },
   "outputs": [],
   "source": [
    "from sklearn.linear_model import LogisticRegression"
   ]
  },
  {
   "cell_type": "code",
   "execution_count": 39,
   "id": "fdd1a73f-d467-48b4-bce7-90f7ed4aab55",
   "metadata": {},
   "outputs": [],
   "source": [
    "X, y = sklearn.datasets.load_iris(return_X_y=True, as_frame=True)"
   ]
  },
  {
   "cell_type": "code",
   "execution_count": 40,
   "id": "541bdae7-f801-40fd-b001-5075a2d88a71",
   "metadata": {
    "tags": []
   },
   "outputs": [],
   "source": [
    "inspector = get_inspector(LogisticRegression(max_iter=10_000).fit(X, y), X, y)"
   ]
  },
  {
   "cell_type": "code",
   "execution_count": 41,
   "id": "83fb05f5-c8ec-4224-af4c-ec08c16528d3",
   "metadata": {
    "tags": []
   },
   "outputs": [],
   "source": [
    "# | hide\n",
    "from model_inspector.inspect.linear_model import _LinMultiInspector  # noqa: F811"
   ]
  },
  {
   "cell_type": "code",
   "execution_count": 42,
   "id": "9a08c2ac-66c0-41d1-9e41-f9814b7baab8",
   "metadata": {
    "tags": []
   },
   "outputs": [],
   "source": [
    "# | hide\n",
    "assert isinstance(inspector, _LinMultiInspector)"
   ]
  },
  {
   "cell_type": "code",
   "execution_count": 43,
   "id": "a985cfb0-4823-4b72-9deb-eb1e170881b6",
   "metadata": {
    "tags": []
   },
   "outputs": [
    {
     "data": {
      "text/markdown": [
       "---\n",
       "\n",
       "[source](https://github.com/gsganden/model_inspector/tree/main/blob/main/model_inspector/inspect/linear_model.py#LNone){target=\"_blank\" style=\"float:right; font-size:smaller\"}\n",
       "\n",
       "### plot_coefs_vs_hparam (multiclass model)\n",
       "\n",
       ">      plot_coefs_vs_hparam (multiclass model) (hparam:str,\n",
       ">                            vals:Sequence[float])\n",
       "\n",
       "Plot coefficient values against a hyperparameter\n",
       "\n",
       "Parameters:\n",
       "\n",
       "- `hparam`: Name of hyperparameter; must be an attribute of\n",
       "`self.model`\n",
       "- `vals`: Values of that hyperparameter to use"
      ],
      "text/plain": [
       "---\n",
       "\n",
       "[source](https://github.com/gsganden/model_inspector/tree/main/blob/main/model_inspector/inspect/linear_model.py#LNone){target=\"_blank\" style=\"float:right; font-size:smaller\"}\n",
       "\n",
       "### plot_coefs_vs_hparam (multiclass model)\n",
       "\n",
       ">      plot_coefs_vs_hparam (multiclass model) (hparam:str,\n",
       ">                            vals:Sequence[float])\n",
       "\n",
       "Plot coefficient values against a hyperparameter\n",
       "\n",
       "Parameters:\n",
       "\n",
       "- `hparam`: Name of hyperparameter; must be an attribute of\n",
       "`self.model`\n",
       "- `vals`: Values of that hyperparameter to use"
      ]
     },
     "execution_count": 43,
     "metadata": {},
     "output_type": "execute_result"
    }
   ],
   "source": [
    "show_doc(\n",
    "    _LinMultiInspector.plot_coefs_vs_hparam,\n",
    "    name=\"plot_coefs_vs_hparam (multiclass model)\",\n",
    ")"
   ]
  },
  {
   "cell_type": "code",
   "execution_count": 44,
   "id": "588cf0f0-bdc7-446b-9f79-77513ebbef5a",
   "metadata": {},
   "outputs": [
    {
     "data": {
      "image/png": "[encoded data removed]",
      "text/plain": [
       "<Figure size 640x480 with 3 Axes>"
      ]
     },
     "metadata": {},
     "output_type": "display_data"
    }
   ],
   "source": [
    "axes = inspector.plot_coefs_vs_hparam(\"C\", np.logspace(-2, 0.5, 10))"
   ]
  },
  {
   "cell_type": "code",
   "execution_count": 45,
   "id": "d23828ce-e26f-4245-8da8-f2a6a535bfd7",
   "metadata": {
    "tags": []
   },
   "outputs": [],
   "source": [
    "# | hide\n",
    "test_fig_exists(axes[0])"
   ]
  },
  {
   "cell_type": "code",
   "execution_count": 46,
   "id": "875a2de1-0809-4ccb-83da-9de5f3c71f69",
   "metadata": {
    "tags": []
   },
   "outputs": [
    {
     "data": {
      "text/markdown": [
       "---\n",
       "\n",
       "[source](https://github.com/gsganden/model_inspector/tree/main/blob/main/model_inspector/inspect/linear_model.py#LNone){target=\"_blank\" style=\"float:right; font-size:smaller\"}\n",
       "\n",
       "### show_model (multiclass model)\n",
       "\n",
       ">      show_model (multiclass model) (intercept_formatter:str='.2f',\n",
       ">                  coef_formatter:str='.2f')\n",
       "\n",
       "Show model equation\n",
       "\n",
       "Parameters:\n",
       "\n",
       "- `intercept_formatter`: Intercept format specifier\n",
       "- `coef_formatter`: Intercept format specifier"
      ],
      "text/plain": [
       "---\n",
       "\n",
       "[source](https://github.com/gsganden/model_inspector/tree/main/blob/main/model_inspector/inspect/linear_model.py#LNone){target=\"_blank\" style=\"float:right; font-size:smaller\"}\n",
       "\n",
       "### show_model (multiclass model)\n",
       "\n",
       ">      show_model (multiclass model) (intercept_formatter:str='.2f',\n",
       ">                  coef_formatter:str='.2f')\n",
       "\n",
       "Show model equation\n",
       "\n",
       "Parameters:\n",
       "\n",
       "- `intercept_formatter`: Intercept format specifier\n",
       "- `coef_formatter`: Intercept format specifier"
      ]
     },
     "execution_count": 46,
     "metadata": {},
     "output_type": "execute_result"
    }
   ],
   "source": [
    "show_doc(_LinMultiInspector.show_model, name=\"show_model (multiclass model)\")"
   ]
  },
  {
   "cell_type": "code",
   "execution_count": 47,
   "id": "44ae2e65-bcba-4fc7-9efe-3cb76f28ec8e",
   "metadata": {},
   "outputs": [
    {
     "data": {
      "text/html": [
       "\n",
       "                    <p>\n",
       "                        \n",
       "            <span style='color:#f781bf'>log-odds(target = 0)</span>\n",
       "            = <span style='color:#ff7f00'>9.85</span>\n",
       "        \n",
       "                <span style='color:#4daf4a'>- 0.42</span>\n",
       "                * <span style='color:#377eb8'>sepal length (cm)</span>\n",
       "            \n",
       "                <span style='color:#4daf4a'>+ 0.97</span>\n",
       "                * <span style='color:#377eb8'>sepal width (cm)</span>\n",
       "            \n",
       "                <span style='color:#4daf4a'>- 2.52</span>\n",
       "                * <span style='color:#377eb8'>petal length (cm)</span>\n",
       "            \n",
       "                <span style='color:#4daf4a'>- 1.08</span>\n",
       "                * <span style='color:#377eb8'>petal width (cm)</span>\n",
       "            \n",
       "                    </p>\n",
       "                \n",
       "                    <p>\n",
       "                        \n",
       "            <span style='color:#f781bf'>log-odds(target = 1)</span>\n",
       "            = <span style='color:#ff7f00'>2.24</span>\n",
       "        \n",
       "                <span style='color:#4daf4a'>+ 0.53</span>\n",
       "                * <span style='color:#377eb8'>sepal length (cm)</span>\n",
       "            \n",
       "                <span style='color:#4daf4a'>- 0.32</span>\n",
       "                * <span style='color:#377eb8'>sepal width (cm)</span>\n",
       "            \n",
       "                <span style='color:#4daf4a'>- 0.21</span>\n",
       "                * <span style='color:#377eb8'>petal length (cm)</span>\n",
       "            \n",
       "                <span style='color:#4daf4a'>- 0.94</span>\n",
       "                * <span style='color:#377eb8'>petal width (cm)</span>\n",
       "            \n",
       "                    </p>\n",
       "                \n",
       "                    <p>\n",
       "                        \n",
       "            <span style='color:#f781bf'>log-odds(target = 2)</span>\n",
       "            = <span style='color:#ff7f00'>-12.09</span>\n",
       "        \n",
       "                <span style='color:#4daf4a'>- 0.11</span>\n",
       "                * <span style='color:#377eb8'>sepal length (cm)</span>\n",
       "            \n",
       "                <span style='color:#4daf4a'>- 0.65</span>\n",
       "                * <span style='color:#377eb8'>sepal width (cm)</span>\n",
       "            \n",
       "                <span style='color:#4daf4a'>+ 2.72</span>\n",
       "                * <span style='color:#377eb8'>petal length (cm)</span>\n",
       "            \n",
       "                <span style='color:#4daf4a'>+ 2.02</span>\n",
       "                * <span style='color:#377eb8'>petal width (cm)</span>\n",
       "            \n",
       "                    </p>\n",
       "                "
      ],
      "text/plain": [
       "<IPython.core.display.HTML object>"
      ]
     },
     "execution_count": 47,
     "metadata": {},
     "output_type": "execute_result"
    }
   ],
   "source": [
    "inspector.show_model()"
   ]
  },
  {
   "cell_type": "code",
   "execution_count": 48,
   "id": "cf65a57d-11d8-4dee-b07d-2d2c49c83bd1",
   "metadata": {
    "tags": []
   },
   "outputs": [],
   "source": [
    "# | export\n",
    "_all_ = [\"_LinRegInspector\", \"_LinBinInspector\", \"_LinMultiInspector\"]"
   ]
  },
  {
   "cell_type": "code",
   "execution_count": null,
   "id": "32ec696b-a59f-4153-824e-645866f3c9f3",
   "metadata": {},
   "outputs": [],
   "source": []
  }
 ],
 "metadata": {
  "kernelspec": {
   "display_name": "Python 3 (ipykernel)",
   "language": "python",
   "name": "python3"
  },
  "language_info": {
   "codemirror_mode": {
    "name": "ipython",
    "version": 3
   },
   "file_extension": ".py",
   "mimetype": "text/x-python",
   "name": "python",
   "nbconvert_exporter": "python",
   "pygments_lexer": "ipython3",
   "version": "3.11.2"
  }
 },
 "nbformat": 4,
 "nbformat_minor": 5
}
