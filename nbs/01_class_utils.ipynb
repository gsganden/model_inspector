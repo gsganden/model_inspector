{
 "cells": [
  {
   "cell_type": "code",
   "execution_count": null,
   "id": "extra-consideration",
   "metadata": {},
   "outputs": [],
   "source": [
    "# | hide\n",
    "# skip\n",
    "! [ -e /content ] && pip install -Uqq model_inspector nbdev\n",
    "# For colab. Restart the runtime after running this cell!"
   ]
  },
  {
   "cell_type": "code",
   "execution_count": null,
   "id": "right-government",
   "metadata": {},
   "outputs": [],
   "source": [
    "# | default_exp class_utils"
   ]
  },
  {
   "cell_type": "markdown",
   "id": "needed-programming",
   "metadata": {},
   "source": [
    "# Class Utils\n",
    "\n",
    "> Utilities for working with Python classes"
   ]
  },
  {
   "cell_type": "code",
   "execution_count": null,
   "id": "cognitive-refrigerator",
   "metadata": {},
   "outputs": [],
   "source": [
    "# | export\n",
    "import inspect"
   ]
  },
  {
   "cell_type": "code",
   "execution_count": null,
   "id": "informative-canyon",
   "metadata": {},
   "outputs": [],
   "source": [
    "# | export\n",
    "def delegates(to=None, keep=False):\n",
    "    \"\"\"Decorator: replace `**kwargs` in signature with params from `to`\n",
    "\n",
    "    Adapted from\n",
    "    [https://fastcore.fast.ai/meta.html#delegates](https://fastcore.fast.ai/meta.html#delegates)\n",
    "    \"\"\"\n",
    "\n",
    "    def _f(f):\n",
    "        if to is None:\n",
    "            to_f, from_f = f.__base__.__init__, f.__init__\n",
    "        else:\n",
    "            to_f, from_f = to, f\n",
    "        sig = inspect.signature(from_f)\n",
    "        sigd = dict(sig.parameters)\n",
    "        k = sigd.pop(\"kwargs\")\n",
    "        s2 = {\n",
    "            k: v\n",
    "            for k, v in inspect.signature(to_f).parameters.items()\n",
    "            if v.default != inspect.Parameter.empty and k not in sigd\n",
    "        }\n",
    "        sigd.update(s2)\n",
    "        if keep:\n",
    "            sigd[\"kwargs\"] = k\n",
    "        from_f.__signature__ = sig.replace(parameters=sigd.values())\n",
    "        f.__doc__ += f\"\"\"\n",
    "\n",
    "        Remaining parameters are passed to `{to.__module__}.{to.__name__}`.\n",
    "        \"\"\"\n",
    "        return f\n",
    "\n",
    "    return _f"
   ]
  }
 ],
 "metadata": {
  "kernelspec": {
   "display_name": "python3",
   "language": "python",
   "name": "python3"
  }
 },
 "nbformat": 4,
 "nbformat_minor": 5
}
