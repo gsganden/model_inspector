{
 "cells": [
  {
   "cell_type": "code",
   "execution_count": 1,
   "id": "extra-consideration",
   "metadata": {},
   "outputs": [],
   "source": [
    "#| hide\n",
    "# skip\n",
    "! [ -e /content ] && pip install -Uqq model_inspector  # for colab"
   ]
  },
  {
   "cell_type": "code",
   "execution_count": 2,
   "id": "right-government",
   "metadata": {},
   "outputs": [],
   "source": [
    "#| default_exp class_utils"
   ]
  },
  {
   "cell_type": "markdown",
   "id": "needed-programming",
   "metadata": {},
   "source": [
    "# Class Utils\n",
    "\n",
    "> Utilities for working with Python classes"
   ]
  },
  {
   "cell_type": "code",
   "execution_count": 3,
   "id": "cognitive-refrigerator",
   "metadata": {},
   "outputs": [],
   "source": [
    "#| export\n",
    "import inspect\n",
    "import textwrap"
   ]
  },
  {
   "cell_type": "code",
   "execution_count": 4,
   "id": "informative-canyon",
   "metadata": {
    "tags": []
   },
   "outputs": [],
   "source": [
    "#| export\n",
    "def delegates(to=None, keep=False):\n",
    "    \"\"\"Decorator: replace `**kwargs` in signature with params from `to`\n",
    "\n",
    "    Adapted from https://fastcore.fast.ai/meta.html#delegates\n",
    "    \"\"\"\n",
    "\n",
    "    def _f(f):\n",
    "        if to is None:\n",
    "            to_f, from_f = f.__base__.__init__, f.__init__\n",
    "        else:\n",
    "            to_f, from_f = to, f\n",
    "        sig = inspect.signature(from_f)\n",
    "        sigd = dict(sig.parameters)\n",
    "        k = sigd.pop(\"kwargs\")\n",
    "        s2 = {\n",
    "            k: v\n",
    "            for k, v in inspect.signature(to_f).parameters.items()\n",
    "            if v.default != inspect.Parameter.empty and k not in sigd\n",
    "        }\n",
    "        sigd.update(s2)\n",
    "        if keep:\n",
    "            sigd[\"kwargs\"] = k\n",
    "        from_f.__signature__ = sig.replace(parameters=sigd.values())\n",
    "        f.__doc__ += textwrap.dedent(\n",
    "            f\"\"\"\n",
    "            Remaining parameters are passed to\n",
    "            `{to.__module__}.{to.__name__}`.\n",
    "            \"\"\"\n",
    "        )\n",
    "        return f\n",
    "\n",
    "    return _f"
   ]
  }
 ],
 "metadata": {
  "kernelspec": {
   "display_name": "Python 3 (ipykernel)",
   "language": "python",
   "name": "python3"
  },
  "language_info": {
   "codemirror_mode": {
    "name": "ipython",
    "version": 3
   },
   "file_extension": ".py",
   "mimetype": "text/x-python",
   "name": "python",
   "nbconvert_exporter": "python",
   "pygments_lexer": "ipython3",
   "version": "3.11.2"
  },
  "vscode": {
   "interpreter": {
    "hash": "0542a1754902657eb7581a7b1954d388a8a370448afcd432e22e307c398e8454"
   }
  }
 },
 "nbformat": 4,
 "nbformat_minor": 5
}
