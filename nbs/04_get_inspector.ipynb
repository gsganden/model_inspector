{
 "cells": [
  {
   "cell_type": "code",
   "execution_count": 1,
   "id": "5c93ace2-2ff6-4b01-8a8b-2a0246111a4e",
   "metadata": {},
   "outputs": [],
   "source": [
    "# hide\n",
    "# skip\n",
    "! [ -e /content ] && pip install -Uqq model_inspector nbdev\n",
    "# For colab. Restart the runtime after running this cell!"
   ]
  },
  {
   "cell_type": "code",
   "execution_count": 2,
   "id": "2b4d6cf5-c635-4046-8127-db9f859f9c1a",
   "metadata": {},
   "outputs": [],
   "source": [
    "# default_exp get_inspector"
   ]
  },
  {
   "cell_type": "markdown",
   "id": "544e567b-068e-4991-be65-bc3063fab39f",
   "metadata": {},
   "source": [
    "# Get Inspector\n",
    "\n",
    "> Get an appropriate inspector for your model"
   ]
  },
  {
   "cell_type": "code",
   "execution_count": 28,
   "id": "e6247b33-4315-4c5e-86d6-8c2640f8e6de",
   "metadata": {},
   "outputs": [],
   "source": [
    "# export\n",
    "import pandas as pd\n",
    "from model_inspector.inspect.any_model import *\n",
    "from model_inspector.inspect.classifier import *\n",
    "from model_inspector.inspect.linear_model import *\n",
    "from model_inspector.inspect.regressor import *\n",
    "from model_inspector.inspect.searchcv_estimator import *\n",
    "from model_inspector.inspect.tree import *\n",
    "from sklearn.base import BaseEstimator\n",
    "from sklearn.linear_model._base import (\n",
    "    LinearClassifierMixin,\n",
    "    LinearModel,\n",
    "    RegressorMixin,\n",
    ")\n",
    "from sklearn.model_selection._search import BaseSearchCV\n",
    "from sklearn.tree import BaseDecisionTree\n",
    "from sklearn.utils.multiclass import type_of_target"
   ]
  },
  {
   "cell_type": "code",
   "execution_count": 45,
   "id": "4da0a38d-456d-4e70-9b78-dc1d7885f7ee",
   "metadata": {},
   "outputs": [],
   "source": [
    "# export\n",
    "def get_inspector(model: BaseEstimator, X: pd.DataFrame, y: pd.Series) -> _Inspector:\n",
    "    \"\"\"Get an appropriate inspector for your model and data\n",
    "\n",
    "    Parameters:\n",
    "    - `model`: Fitted sklearn model\n",
    "    - `X`: Matrix with the same features `model` was trained on\n",
    "    - `y`: Series with same length as `X` and same meaning as target\n",
    "    values `model` was trained on\n",
    "    \"\"\"\n",
    "    if isinstance(model, LinearModel):\n",
    "        return _LinRegInspector(model, X, y)\n",
    "    elif isinstance(model, LinearClassifierMixin):\n",
    "        if type_of_target(y) == \"binary\":\n",
    "            return _LinBinInspector(model, X, y)\n",
    "        elif type_of_target(y) == \"multiclass\":\n",
    "            return _LinMultiInspector(model, X, y)\n",
    "    elif isinstance(model, BaseDecisionTree):\n",
    "        # `type_of_target` can't reliably distinguish between continuous\n",
    "        # and multiclass\n",
    "        if isinstance(model, RegressorMixin):\n",
    "            return _TreeRegInspector(model, X, y)\n",
    "        elif type_of_target(y) == \"binary\":\n",
    "            return _TreeBinInspector(model, X, y)\n",
    "        elif type_of_target(y) == \"multiclass\":\n",
    "            return _TreeMultiInspector(model, X, y)\n",
    "    elif isinstance(model, BaseSearchCV):\n",
    "        return _SearchCVInspector(model, X, y)\n",
    "    # `type_of_target` can't reliably distinguish between continuous and\n",
    "    # multiclass\n",
    "    if isinstance(model, RegressorMixin):\n",
    "        return _RegInspector(model, X, y)\n",
    "    elif type_of_target(y) == \"binary\":\n",
    "        return _BinInspector(model, X, y)\n",
    "    elif type_of_target(y) == \"multiclass\":\n",
    "        return _MultiInspector(model, X, y)\n",
    "    else:\n",
    "        return _Inspector(model, X, y)"
   ]
  },
  {
   "cell_type": "code",
   "execution_count": 46,
   "id": "5e3afc0e-00a1-4090-8458-1c48a97c6b70",
   "metadata": {},
   "outputs": [],
   "source": [
    "# hide\n",
    "import sklearn.datasets\n",
    "from sklearn.linear_model import LinearRegression, LogisticRegression\n",
    "from sklearn.model_selection import GridSearchCV\n",
    "from sklearn.svm import SVC, SVR\n",
    "from sklearn.tree import DecisionTreeClassifier, DecisionTreeRegressor\n",
    "\n",
    "X, y = sklearn.datasets.load_diabetes(return_X_y=True, as_frame=True)\n",
    "assert isinstance(get_inspector(LinearRegression().fit(X, y), X, y), _LinRegInspector)\n",
    "assert isinstance(\n",
    "    get_inspector(DecisionTreeRegressor().fit(X, y), X, y), _TreeRegInspector\n",
    ")\n",
    "assert isinstance(get_inspector(SVR().fit(X, y), X, y), _RegInspector)\n",
    "assert isinstance(\n",
    "    get_inspector(GridSearchCV(LinearRegression(), {}).fit(X, y), X, y),\n",
    "    _SearchCVInspector,\n",
    ")\n",
    "\n",
    "\n",
    "X, y = sklearn.datasets.load_breast_cancer(return_X_y=True, as_frame=True)\n",
    "assert isinstance(\n",
    "    get_inspector(LogisticRegression(max_iter=10_000).fit(X, y), X, y), _LinBinInspector\n",
    ")\n",
    "assert isinstance(\n",
    "    get_inspector(DecisionTreeClassifier().fit(X, y), X, y), _TreeBinInspector\n",
    ")\n",
    "assert isinstance(get_inspector(SVC().fit(X, y), X, y), _BinInspector)\n",
    "\n",
    "X, y = sklearn.datasets.load_iris(return_X_y=True, as_frame=True)\n",
    "assert isinstance(\n",
    "    get_inspector(LogisticRegression(max_iter=10_000).fit(X, y), X, y),\n",
    "    _LinMultiInspector,\n",
    ")\n",
    "assert isinstance(\n",
    "    get_inspector(DecisionTreeClassifier().fit(X, y), X, y), _TreeMultiInspector\n",
    ")\n",
    "assert isinstance(get_inspector(SVC().fit(X, y), X, y), _MultiInspector)"
   ]
  },
  {
   "cell_type": "code",
   "execution_count": null,
   "id": "24408f71-c679-43fd-bcf7-4bfa4f485eb0",
   "metadata": {},
   "outputs": [],
   "source": []
  }
 ],
 "metadata": {
  "kernelspec": {
   "display_name": "model_inspector",
   "language": "python",
   "name": "model_inspector"
  },
  "language_info": {
   "codemirror_mode": {
    "name": "ipython",
    "version": 3
   },
   "file_extension": ".py",
   "mimetype": "text/x-python",
   "name": "python",
   "nbconvert_exporter": "python",
   "pygments_lexer": "ipython3",
   "version": "3.9.11"
  }
 },
 "nbformat": 4,
 "nbformat_minor": 5
}
