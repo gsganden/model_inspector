{
 "cells": [
  {
   "cell_type": "code",
   "execution_count": null,
   "id": "5d2ca12e-aaac-4d25-9796-4182b1fe1ab9",
   "metadata": {},
   "outputs": [],
   "source": [
    "# | hide\n",
    "# skip\n",
    "! [ -e /content ] && pip install -Uqq model_inspector nbdev\n",
    "# For colab. Restart the runtime after running this cell!"
   ]
  },
  {
   "cell_type": "code",
   "execution_count": null,
   "id": "158bb0e2-0e96-4e0f-8598-de8a7a856d78",
   "metadata": {},
   "outputs": [],
   "source": [
    "# | default_exp inspect.classifier"
   ]
  },
  {
   "cell_type": "markdown",
   "id": "a43e6fb5-86f4-4d39-8138-06deccac3eb0",
   "metadata": {},
   "source": [
    "# Classifier\n",
    "\n",
    "> Inspector functionality specific to classification models"
   ]
  },
  {
   "cell_type": "code",
   "execution_count": null,
   "id": "bea65eba-c007-45bc-913a-21121211fead",
   "metadata": {},
   "outputs": [],
   "source": [
    "# | export\n",
    "from typing import Callable, Optional, Sequence, Union\n",
    "\n",
    "import numpy as np\n",
    "import pandas as pd\n",
    "import sklearn\n",
    "\n",
    "from model_inspector.delegate import delegates\n",
    "from model_inspector.inspect.any_model import _Inspector\n",
    "from model_inspector.tune import (\n",
    "    calculate_metrics_by_thresh_binary,\n",
    "    calculate_metrics_by_thresh_multi,\n",
    "    confusion_matrix,\n",
    ")"
   ]
  },
  {
   "cell_type": "code",
   "execution_count": null,
   "id": "90998dd9-a5fa-4bf8-92d9-a22ce154591b",
   "metadata": {},
   "outputs": [],
   "source": [
    "# | export\n",
    "class _ClasInspector(_Inspector):\n",
    "    \"\"\"Abstract class for classification model inspectors\"\"\"\n",
    "\n",
    "    def calculate_metrics_by_thresh(*args, **kwargs):\n",
    "        raise NotImplementedError()\n",
    "\n",
    "    def confusion_matrix(*args, **kwargs):\n",
    "        raise NotImplementedError()"
   ]
  },
  {
   "cell_type": "markdown",
   "id": "e36dfd6a-3f66-48aa-a292-c3291d80736e",
   "metadata": {},
   "source": [
    "## Binary Classification"
   ]
  },
  {
   "cell_type": "code",
   "execution_count": null,
   "id": "3510d4b1-9707-4644-b26a-5d6b6f3cdeb6",
   "metadata": {},
   "outputs": [],
   "source": [
    "# | export\n",
    "class _BinInspector(_ClasInspector):\n",
    "    \"\"\"Binary classification model inspector\"\"\"\n",
    "\n",
    "    def calculate_metrics_by_thresh(\n",
    "        self,\n",
    "        metrics: Union[Callable, Sequence[Callable]],\n",
    "        thresholds: Optional[Sequence] = None,\n",
    "    ) -> pd.DataFrame:\n",
    "        \"\"\"Calculate classification metrics as a function of threshold\n",
    "\n",
    "        Assumes that `self.model` has a `.predict_proba()` method. Uses\n",
    "        `self.y` as ground-truth values,\n",
    "        `self.model.predict_proba(self.X)[:, 1] > thresh` as\n",
    "        predictions.\n",
    "\n",
    "        Parameters:\n",
    "\n",
    "        - `metrics`: Callables that take `y_true`, `y_pred` as\n",
    "        positional arguments and return a number. Must have a `__name__`\n",
    "        attribute.\n",
    "        - `thresholds`: `Sequence` of `float` threshold values to use. By\n",
    "        default uses `0` and the values that appear in `y_prob[:, 1]`, which\n",
    "        is a minimal set that covers all of the relevant possibilities. One\n",
    "        reason to override that default would be to save time with a large\n",
    "        dataset.\n",
    "\n",
    "        Returns: `DataFrame` with one column \"thresh\" indicating the\n",
    "        thresholds used and an additional column for each input metric\n",
    "        giving the value of that metric at that threshold.\n",
    "        \"\"\"\n",
    "        return calculate_metrics_by_thresh_binary(\n",
    "            y_true=self.y,\n",
    "            y_prob=self.model.predict_proba(self.X),\n",
    "            metrics=metrics,\n",
    "            thresholds=thresholds,\n",
    "        )\n",
    "\n",
    "    @delegates(sklearn.metrics.confusion_matrix)\n",
    "    def confusion_matrix(\n",
    "        self,\n",
    "        thresh: float = 0.5,\n",
    "        **kwargs,\n",
    "    ) -> pd.DataFrame:\n",
    "        \"\"\"Get confusion matrix\n",
    "\n",
    "        Assumes that `self.model` has a `.predict_proba()` method. Uses\n",
    "        `self.y` as ground-truth values,\n",
    "        `self.model.predict_proba(self.X)[:, 1] > thresh` as\n",
    "        predictions.\n",
    "\n",
    "        If output is not rendering properly when you reopen a notebook,\n",
    "        make sure the notebook is trusted.\n",
    "\n",
    "        Parameters:\n",
    "\n",
    "        - `thresh`: Probability threshold for counting a prediction as\n",
    "        positive\n",
    "        \"\"\"\n",
    "        labels = np.unique(self.y)\n",
    "        return confusion_matrix(\n",
    "            y_true=self.y,\n",
    "            y_pred=np.where(\n",
    "                self.model.predict_proba(self.X)[:, 1] > thresh, labels[1], labels[0]\n",
    "            ),\n",
    "            **kwargs,\n",
    "        )"
   ]
  },
  {
   "cell_type": "code",
   "execution_count": null,
   "id": "ff11be66-e314-497c-965f-3f49903682e4",
   "metadata": {},
   "outputs": [],
   "source": [
    "# | hide\n",
    "import warnings"
   ]
  },
  {
   "cell_type": "code",
   "execution_count": null,
   "id": "8273fff3-d086-441d-8dec-08f0a45cc29a",
   "metadata": {},
   "outputs": [],
   "source": [
    "import sklearn.datasets\n",
    "from sklearn import metrics\n",
    "from sklearn.ensemble import RandomForestClassifier\n",
    "from sklearn.model_selection import train_test_split\n",
    "\n",
    "from model_inspector import get_inspector"
   ]
  },
  {
   "cell_type": "code",
   "execution_count": null,
   "id": "de50efb2-0f5e-4477-9be4-7493e99f68d1",
   "metadata": {},
   "outputs": [],
   "source": [
    "X, y = sklearn.datasets.load_breast_cancer(return_X_y=True, as_frame=True)\n",
    "X_train, X_test, y_train, y_test = train_test_split(X, y)\n",
    "inspector = get_inspector(\n",
    "    RandomForestClassifier().fit(X_train, y_train),\n",
    "    X_test,\n",
    "    y_test,\n",
    ")"
   ]
  },
  {
   "cell_type": "code",
   "execution_count": null,
   "id": "59d7a940-6162-42b4-b50f-a686338ca44a",
   "metadata": {},
   "outputs": [],
   "source": [
    "# | hide\n",
    "from sklearn.discriminant_analysis import QuadraticDiscriminantAnalysis\n",
    "from sklearn.ensemble import AdaBoostClassifier, RandomForestClassifier\n",
    "from sklearn.linear_model import LogisticRegression\n",
    "from sklearn.naive_bayes import GaussianNB\n",
    "from sklearn.neighbors import KNeighborsClassifier\n",
    "from sklearn.neural_network import MLPClassifier\n",
    "from sklearn.tree import DecisionTreeClassifier\n",
    "from sklearn.svm import SVC"
   ]
  },
  {
   "cell_type": "code",
   "execution_count": null,
   "id": "d8016ee3-9523-4c3e-a6c3-783bddd87ad9",
   "metadata": {},
   "outputs": [],
   "source": [
    "# | hide\n",
    "CLASSIFIERS = [\n",
    "    MLPClassifier,\n",
    "    DecisionTreeClassifier,\n",
    "    RandomForestClassifier,\n",
    "    AdaBoostClassifier,\n",
    "    KNeighborsClassifier,\n",
    "    LogisticRegression,\n",
    "    GaussianNB,\n",
    "    QuadraticDiscriminantAnalysis,\n",
    "    SVC,\n",
    "]\n",
    "\n",
    "with warnings.catch_warnings():\n",
    "    warnings.simplefilter(\"ignore\")\n",
    "    for model_class in CLASSIFIERS:\n",
    "        model = model_class().fit(X, y)\n",
    "        for method in [\"calculate_metrics_by_thresh\", \"confusion_matrix\"]:\n",
    "            assert hasattr(get_inspector(model, X, y), method)"
   ]
  },
  {
   "cell_type": "code",
   "execution_count": null,
   "id": "e8f12428-2a27-4d4c-99f1-4ed6d58c5880",
   "metadata": {},
   "outputs": [],
   "source": [
    "# | hide\n",
    "from model_inspector.inspect.classifier import _BinInspector  # noqa: F811"
   ]
  },
  {
   "cell_type": "code",
   "execution_count": null,
   "id": "e0042295-6b5f-415c-b0b3-02ad2f4b0bba",
   "metadata": {},
   "outputs": [],
   "source": [
    "# | hide\n",
    "assert isinstance(inspector, _BinInspector)"
   ]
  },
  {
   "cell_type": "code",
   "execution_count": null,
   "id": "3ea1f4c9-95bd-439c-8bcc-3fd8596b1c00",
   "metadata": {},
   "outputs": [],
   "source": [
    "# | hide\n",
    "from nbdev.showdoc import show_doc"
   ]
  },
  {
   "cell_type": "code",
   "execution_count": null,
   "id": "258ef6eb-e252-4ed3-92cf-ba7c377e2b13",
   "metadata": {},
   "outputs": [
    {
     "data": {
      "text/markdown": [
       "---\n",
       "\n",
       "[source](https://github.com/gsganden/model_inspector/tree/main/blob/main/model_inspector/inspect/classifier.py#LNone){target=\"_blank\" style=\"float:right; font-size:smaller\"}\n",
       "\n",
       "### _BinInspector.calculate_metrics_by_thresh\n",
       "\n",
       ">      _BinInspector.calculate_metrics_by_thresh\n",
       ">                                                 (metrics:Union[Callable,Sequen\n",
       ">                                                 ce[Callable]], thresholds:Opti\n",
       ">                                                 onal[Sequence]=None)\n",
       "\n",
       "Calculate classification metrics as a function of threshold\n",
       "\n",
       "Assumes that `self.model` has a `.predict_proba()` method. Uses\n",
       "`self.y` as ground-truth values,\n",
       "`self.model.predict_proba(self.X)[:, 1] > thresh` as\n",
       "predictions.\n",
       "\n",
       "Parameters:\n",
       "\n",
       "- `metrics`: Callables that take `y_true`, `y_pred` as\n",
       "positional arguments and return a number. Must have a `__name__`\n",
       "attribute.\n",
       "- `thresholds`: `Sequence` of `float` threshold values to use. By\n",
       "default uses `0` and the values that appear in `y_prob[:, 1]`, which\n",
       "is a minimal set that covers all of the relevant possibilities. One\n",
       "reason to override that default would be to save time with a large\n",
       "dataset.\n",
       "\n",
       "Returns: `DataFrame` with one column \"thresh\" indicating the\n",
       "thresholds used and an additional column for each input metric\n",
       "giving the value of that metric at that threshold."
      ],
      "text/plain": [
       "---\n",
       "\n",
       "[source](https://github.com/gsganden/model_inspector/tree/main/blob/main/model_inspector/inspect/classifier.py#LNone){target=\"_blank\" style=\"float:right; font-size:smaller\"}\n",
       "\n",
       "### _BinInspector.calculate_metrics_by_thresh\n",
       "\n",
       ">      _BinInspector.calculate_metrics_by_thresh\n",
       ">                                                 (metrics:Union[Callable,Sequen\n",
       ">                                                 ce[Callable]], thresholds:Opti\n",
       ">                                                 onal[Sequence]=None)\n",
       "\n",
       "Calculate classification metrics as a function of threshold\n",
       "\n",
       "Assumes that `self.model` has a `.predict_proba()` method. Uses\n",
       "`self.y` as ground-truth values,\n",
       "`self.model.predict_proba(self.X)[:, 1] > thresh` as\n",
       "predictions.\n",
       "\n",
       "Parameters:\n",
       "\n",
       "- `metrics`: Callables that take `y_true`, `y_pred` as\n",
       "positional arguments and return a number. Must have a `__name__`\n",
       "attribute.\n",
       "- `thresholds`: `Sequence` of `float` threshold values to use. By\n",
       "default uses `0` and the values that appear in `y_prob[:, 1]`, which\n",
       "is a minimal set that covers all of the relevant possibilities. One\n",
       "reason to override that default would be to save time with a large\n",
       "dataset.\n",
       "\n",
       "Returns: `DataFrame` with one column \"thresh\" indicating the\n",
       "thresholds used and an additional column for each input metric\n",
       "giving the value of that metric at that threshold."
      ]
     },
     "execution_count": null,
     "metadata": {},
     "output_type": "execute_result"
    }
   ],
   "source": [
    "show_doc(_BinInspector.calculate_metrics_by_thresh)"
   ]
  },
  {
   "cell_type": "code",
   "execution_count": null,
   "id": "6c7dccdb-73b0-406b-9b1f-380d8aa55376",
   "metadata": {},
   "outputs": [
    {
     "name": "stderr",
     "output_type": "stream",
     "text": [
      "  0%|                                                                                                  | 0/41 [00:00<?, ?it/s]/Users/greg.gandenberger/.pyenv/versions/3.11.2/envs/model_inspector311/lib/python3.11/site-packages/sklearn/metrics/_classification.py:1344: UndefinedMetricWarning: Precision is ill-defined and being set to 0.0 due to no predicted samples. Use `zero_division` parameter to control this behavior.\n",
      "  _warn_prf(average, modifier, msg_start, len(result))\n",
      "100%|████████████████████████████████████████████████████████████████████████████████████████| 41/41 [00:00<00:00, 732.08it/s]\n"
     ]
    },
    {
     "data": {
      "text/html": [
       "<div>\n",
       "<style scoped>\n",
       "    .dataframe tbody tr th:only-of-type {\n",
       "        vertical-align: middle;\n",
       "    }\n",
       "\n",
       "    .dataframe tbody tr th {\n",
       "        vertical-align: top;\n",
       "    }\n",
       "\n",
       "    .dataframe thead th {\n",
       "        text-align: right;\n",
       "    }\n",
       "</style>\n",
       "<table border=\"1\" class=\"dataframe\">\n",
       "  <thead>\n",
       "    <tr style=\"text-align: right;\">\n",
       "      <th></th>\n",
       "      <th>thresh</th>\n",
       "      <th>precision_score</th>\n",
       "      <th>recall_score</th>\n",
       "      <th>f1_score</th>\n",
       "    </tr>\n",
       "  </thead>\n",
       "  <tbody>\n",
       "    <tr>\n",
       "      <th>0</th>\n",
       "      <td>0.00</td>\n",
       "      <td>0.796748</td>\n",
       "      <td>1.000000</td>\n",
       "      <td>0.886878</td>\n",
       "    </tr>\n",
       "    <tr>\n",
       "      <th>1</th>\n",
       "      <td>0.00</td>\n",
       "      <td>0.796748</td>\n",
       "      <td>1.000000</td>\n",
       "      <td>0.886878</td>\n",
       "    </tr>\n",
       "    <tr>\n",
       "      <th>2</th>\n",
       "      <td>0.01</td>\n",
       "      <td>0.830508</td>\n",
       "      <td>1.000000</td>\n",
       "      <td>0.907407</td>\n",
       "    </tr>\n",
       "    <tr>\n",
       "      <th>3</th>\n",
       "      <td>0.02</td>\n",
       "      <td>0.844828</td>\n",
       "      <td>1.000000</td>\n",
       "      <td>0.915888</td>\n",
       "    </tr>\n",
       "    <tr>\n",
       "      <th>4</th>\n",
       "      <td>0.03</td>\n",
       "      <td>0.852174</td>\n",
       "      <td>1.000000</td>\n",
       "      <td>0.920188</td>\n",
       "    </tr>\n",
       "    <tr>\n",
       "      <th>...</th>\n",
       "      <td>...</td>\n",
       "      <td>...</td>\n",
       "      <td>...</td>\n",
       "      <td>...</td>\n",
       "    </tr>\n",
       "    <tr>\n",
       "      <th>35</th>\n",
       "      <td>0.95</td>\n",
       "      <td>0.961538</td>\n",
       "      <td>0.765306</td>\n",
       "      <td>0.852273</td>\n",
       "    </tr>\n",
       "    <tr>\n",
       "      <th>36</th>\n",
       "      <td>0.96</td>\n",
       "      <td>0.960526</td>\n",
       "      <td>0.744898</td>\n",
       "      <td>0.839080</td>\n",
       "    </tr>\n",
       "    <tr>\n",
       "      <th>37</th>\n",
       "      <td>0.97</td>\n",
       "      <td>0.972603</td>\n",
       "      <td>0.724490</td>\n",
       "      <td>0.830409</td>\n",
       "    </tr>\n",
       "    <tr>\n",
       "      <th>38</th>\n",
       "      <td>0.98</td>\n",
       "      <td>0.984127</td>\n",
       "      <td>0.632653</td>\n",
       "      <td>0.770186</td>\n",
       "    </tr>\n",
       "    <tr>\n",
       "      <th>39</th>\n",
       "      <td>0.99</td>\n",
       "      <td>1.000000</td>\n",
       "      <td>0.500000</td>\n",
       "      <td>0.666667</td>\n",
       "    </tr>\n",
       "  </tbody>\n",
       "</table>\n",
       "<p>40 rows × 4 columns</p>\n",
       "</div>"
      ],
      "text/plain": [
       "    thresh  precision_score  recall_score  f1_score\n",
       "0     0.00         0.796748      1.000000  0.886878\n",
       "1     0.00         0.796748      1.000000  0.886878\n",
       "2     0.01         0.830508      1.000000  0.907407\n",
       "3     0.02         0.844828      1.000000  0.915888\n",
       "4     0.03         0.852174      1.000000  0.920188\n",
       "..     ...              ...           ...       ...\n",
       "35    0.95         0.961538      0.765306  0.852273\n",
       "36    0.96         0.960526      0.744898  0.839080\n",
       "37    0.97         0.972603      0.724490  0.830409\n",
       "38    0.98         0.984127      0.632653  0.770186\n",
       "39    0.99         1.000000      0.500000  0.666667\n",
       "\n",
       "[40 rows x 4 columns]"
      ]
     },
     "metadata": {},
     "output_type": "display_data"
    }
   ],
   "source": [
    "metrics_by_thresh = inspector.calculate_metrics_by_thresh(\n",
    "    metrics=[metrics.precision_score, metrics.recall_score, metrics.f1_score],\n",
    ").iloc[\n",
    "    :-1\n",
    "]  # dropping last row where precision is undefined\n",
    "with pd.option_context(\"display.max_rows\", 10):\n",
    "    display(metrics_by_thresh)  # noqa: F821"
   ]
  },
  {
   "cell_type": "code",
   "execution_count": null,
   "id": "e26bb70e-fae7-4b2e-af9e-7ecbd1ed88d1",
   "metadata": {},
   "outputs": [
    {
     "data": {
      "image/png": "[encoded data removed]",
      "text/plain": [
       "<Figure size 640x480 with 1 Axes>"
      ]
     },
     "metadata": {},
     "output_type": "display_data"
    }
   ],
   "source": [
    "ax = metrics_by_thresh.plot(x=\"thresh\")"
   ]
  },
  {
   "cell_type": "code",
   "execution_count": null,
   "id": "8c4ef5b1-00c0-44f9-8eb0-ef782b9f0984",
   "metadata": {},
   "outputs": [
    {
     "name": "stderr",
     "output_type": "stream",
     "text": [
      "100%|██████████████████████████████████████████████████████████████████████████████████████████| 5/5 [00:00<00:00, 883.20it/s]\n"
     ]
    }
   ],
   "source": [
    "# | hide\n",
    "assert (\n",
    "    len(\n",
    "        inspector.calculate_metrics_by_thresh(\n",
    "            metrics=[metrics.precision_score], thresholds=[0.1, 0.3, 0.5, 0.7, 0.9]\n",
    "        )\n",
    "    )\n",
    "    == 5\n",
    ")"
   ]
  },
  {
   "cell_type": "code",
   "execution_count": null,
   "id": "0d176868-1d7d-4c8b-b784-97ea04ac366c",
   "metadata": {},
   "outputs": [
    {
     "data": {
      "text/markdown": [
       "---\n",
       "\n",
       "[source](https://github.com/gsganden/model_inspector/tree/main/blob/main/model_inspector/inspect/classifier.py#LNone){target=\"_blank\" style=\"float:right; font-size:smaller\"}\n",
       "\n",
       "### _BinInspector.confusion_matrix\n",
       "\n",
       ">      _BinInspector.confusion_matrix (thresh:float=0.5, labels=None,\n",
       ">                                      sample_weight=None, normalize=None)\n",
       "\n",
       "Get confusion matrix\n",
       "\n",
       "Assumes that `self.model` has a `.predict_proba()` method. Uses\n",
       "`self.y` as ground-truth values,\n",
       "`self.model.predict_proba(self.X)[:, 1] > thresh` as\n",
       "predictions.\n",
       "\n",
       "If output is not rendering properly when you reopen a notebook,\n",
       "make sure the notebook is trusted.\n",
       "\n",
       "Parameters:\n",
       "\n",
       "- `thresh`: Probability threshold for counting a prediction as\n",
       "positive\n",
       "\n",
       "Remaining parameters are passed to `sklearn.metrics._classification.confusion_matrix`."
      ],
      "text/plain": [
       "---\n",
       "\n",
       "[source](https://github.com/gsganden/model_inspector/tree/main/blob/main/model_inspector/inspect/classifier.py#LNone){target=\"_blank\" style=\"float:right; font-size:smaller\"}\n",
       "\n",
       "### _BinInspector.confusion_matrix\n",
       "\n",
       ">      _BinInspector.confusion_matrix (thresh:float=0.5, labels=None,\n",
       ">                                      sample_weight=None, normalize=None)\n",
       "\n",
       "Get confusion matrix\n",
       "\n",
       "Assumes that `self.model` has a `.predict_proba()` method. Uses\n",
       "`self.y` as ground-truth values,\n",
       "`self.model.predict_proba(self.X)[:, 1] > thresh` as\n",
       "predictions.\n",
       "\n",
       "If output is not rendering properly when you reopen a notebook,\n",
       "make sure the notebook is trusted.\n",
       "\n",
       "Parameters:\n",
       "\n",
       "- `thresh`: Probability threshold for counting a prediction as\n",
       "positive\n",
       "\n",
       "Remaining parameters are passed to `sklearn.metrics._classification.confusion_matrix`."
      ]
     },
     "execution_count": null,
     "metadata": {},
     "output_type": "execute_result"
    }
   ],
   "source": [
    "show_doc(_BinInspector.confusion_matrix)"
   ]
  },
  {
   "cell_type": "code",
   "execution_count": null,
   "id": "365bd1f1-cc81-461b-891a-773b1f83678f",
   "metadata": {},
   "outputs": [
    {
     "data": {
      "text/html": [
       "<style type=\"text/css\">\n",
       "#T_ba1fd_row0_col0 {\n",
       "  background-color: #8fc2de;\n",
       "  color: #000000;\n",
       "}\n",
       "#T_ba1fd_row0_col1, #T_ba1fd_row1_col0 {\n",
       "  background-color: #f7fbff;\n",
       "  color: #000000;\n",
       "}\n",
       "#T_ba1fd_row1_col1 {\n",
       "  background-color: #08306b;\n",
       "  color: #f1f1f1;\n",
       "}\n",
       "</style>\n",
       "<table id=\"T_ba1fd\">\n",
       "  <thead>\n",
       "    <tr>\n",
       "      <th class=\"blank level0\" >&nbsp;</th>\n",
       "      <th id=\"T_ba1fd_level0_col0\" class=\"col_heading level0 col0\" >Predicted 0</th>\n",
       "      <th id=\"T_ba1fd_level0_col1\" class=\"col_heading level0 col1\" >Predicted 1</th>\n",
       "      <th id=\"T_ba1fd_level0_col2\" class=\"col_heading level0 col2\" >Totals</th>\n",
       "    </tr>\n",
       "  </thead>\n",
       "  <tbody>\n",
       "    <tr>\n",
       "      <th id=\"T_ba1fd_level0_row0\" class=\"row_heading level0 row0\" >Actual 0</th>\n",
       "      <td id=\"T_ba1fd_row0_col0\" class=\"data row0 col0\" >41</td>\n",
       "      <td id=\"T_ba1fd_row0_col1\" class=\"data row0 col1\" >4</td>\n",
       "      <td id=\"T_ba1fd_row0_col2\" class=\"data row0 col2\" >45</td>\n",
       "    </tr>\n",
       "    <tr>\n",
       "      <th id=\"T_ba1fd_level0_row1\" class=\"row_heading level0 row1\" >Actual 1</th>\n",
       "      <td id=\"T_ba1fd_row1_col0\" class=\"data row1 col0\" >4</td>\n",
       "      <td id=\"T_ba1fd_row1_col1\" class=\"data row1 col1\" >94</td>\n",
       "      <td id=\"T_ba1fd_row1_col2\" class=\"data row1 col2\" >98</td>\n",
       "    </tr>\n",
       "    <tr>\n",
       "      <th id=\"T_ba1fd_level0_row2\" class=\"row_heading level0 row2\" >Totals</th>\n",
       "      <td id=\"T_ba1fd_row2_col0\" class=\"data row2 col0\" >45</td>\n",
       "      <td id=\"T_ba1fd_row2_col1\" class=\"data row2 col1\" >98</td>\n",
       "      <td id=\"T_ba1fd_row2_col2\" class=\"data row2 col2\" >143</td>\n",
       "    </tr>\n",
       "  </tbody>\n",
       "</table>\n"
      ],
      "text/plain": [
       "<pandas.io.formats.style.Styler>"
      ]
     },
     "execution_count": null,
     "metadata": {},
     "output_type": "execute_result"
    }
   ],
   "source": [
    "inspector.confusion_matrix(\n",
    "    thresh=metrics_by_thresh.loc[metrics_by_thresh.f1_score.idxmax(), \"thresh\"]\n",
    ")"
   ]
  },
  {
   "cell_type": "markdown",
   "id": "bced20cb-b48a-4a02-b60c-007be9472f65",
   "metadata": {},
   "source": [
    "## Multiclass Classification"
   ]
  },
  {
   "cell_type": "code",
   "execution_count": null,
   "id": "4bc6e3d5-ae7e-4c2a-b5d4-01b2c530f652",
   "metadata": {},
   "outputs": [],
   "source": [
    "from functools import partial\n",
    "\n",
    "from model_inspector.tune import calculate_metric_ignoring_nan, coverage"
   ]
  },
  {
   "cell_type": "code",
   "execution_count": null,
   "id": "efcd0354-3401-403d-ab2e-de6eb7920e94",
   "metadata": {},
   "outputs": [],
   "source": [
    "precision_ignoring_nan = partial(\n",
    "    calculate_metric_ignoring_nan,\n",
    "    metric=partial(metrics.precision_score, average=\"micro\"),\n",
    ")\n",
    "precision_ignoring_nan.__name__ = \"precision_ignoring_nan\"\n",
    "\n",
    "X, y = sklearn.datasets.load_iris(return_X_y=True, as_frame=True)\n",
    "X_train, X_test, y_train, y_test = train_test_split(X, y, random_state=2)\n",
    "inspector = get_inspector(\n",
    "    RandomForestClassifier().fit(X_train.iloc[:, [3]], y_train),\n",
    "    X_test.iloc[:, [3]],\n",
    "    y_test,\n",
    ")"
   ]
  },
  {
   "cell_type": "code",
   "execution_count": null,
   "id": "77e91082-3dc7-4451-8524-895426c4ef0f",
   "metadata": {},
   "outputs": [],
   "source": [
    "# | export\n",
    "class _MultiInspector(_ClasInspector):\n",
    "    \"\"\"Multiclass model inspector\"\"\"\n",
    "\n",
    "    def calculate_metrics_by_thresh(\n",
    "        self,\n",
    "        metrics: Union[Callable, Sequence[Callable]],\n",
    "        thresholds: Optional[Sequence] = None,\n",
    "    ) -> pd.DataFrame:\n",
    "        \"\"\"Calculate classification metrics as a function of threshold\n",
    "\n",
    "        Assumes that `self.model` has a `.predict_proba()` method. Uses\n",
    "        `self.y` as ground-truth values, uses the value with the highest\n",
    "        probability as the prediction if that probability exceeds the\n",
    "        threshold, `np.nan` otherwise.\n",
    "\n",
    "        Parameters:\n",
    "\n",
    "        - `metrics`: Callables that take `y_true`, `y_pred` as\n",
    "        positional arguments and return a number. Must have a `__name__`\n",
    "        attribute and must be able to handle `np.nan` values.\n",
    "        - `thresholds`: `Sequence` of `float` threshold values to use. By\n",
    "        default uses 0 and all values that appear in `y_prob`, which is a\n",
    "        minimal set that covers all of the relevant possibilities. One\n",
    "        reason to override that default would be to save time with a large\n",
    "        dataset.\n",
    "\n",
    "        Returns: DataFrame with one column \"thresh\" indicating the\n",
    "        thresholds used and an additional column for each input metric\n",
    "        giving the value of that metric at that threshold.\n",
    "        \"\"\"\n",
    "        return calculate_metrics_by_thresh_multi(\n",
    "            y_true=self.y,\n",
    "            y_prob=self.model.predict_proba(self.X),\n",
    "            metrics=metrics,\n",
    "        )\n",
    "\n",
    "    @delegates(pd.DataFrame().style.background_gradient)\n",
    "    def confusion_matrix(\n",
    "        self,\n",
    "        **kwargs,\n",
    "    ) -> pd.DataFrame:\n",
    "        \"\"\"Get confusion matrix\n",
    "\n",
    "        Uses `self.y` as ground-truth values,\n",
    "        `self.model.predict(self.X)` as predictions.\n",
    "\n",
    "        If output is not rendering properly when you reopen a notebook,\n",
    "        make sure the notebook is trusted.\n",
    "        \"\"\"\n",
    "\n",
    "        return confusion_matrix(\n",
    "            y_true=self.y,\n",
    "            y_pred=self.model.predict(self.X),\n",
    "            **kwargs,\n",
    "        )"
   ]
  },
  {
   "cell_type": "code",
   "execution_count": null,
   "id": "ae20ef27-bf7c-4cb8-b142-d88b04d39f5e",
   "metadata": {},
   "outputs": [
    {
     "data": {
      "text/markdown": [
       "---\n",
       "\n",
       "[source](https://github.com/gsganden/model_inspector/tree/main/blob/main/model_inspector/inspect/classifier.py#L103){target=\"_blank\" style=\"float:right; font-size:smaller\"}\n",
       "\n",
       "### _MultiInspector.calculate_metrics_by_thresh\n",
       "\n",
       ">      _MultiInspector.calculate_metrics_by_thresh\n",
       ">                                                   (metrics:Union[Callable,Sequ\n",
       ">                                                   ence[Callable]], thresholds:\n",
       ">                                                   Optional[Sequence]=None)\n",
       "\n",
       "Calculate classification metrics as a function of threshold\n",
       "\n",
       "Assumes that `self.model` has a `.predict_proba()` method. Uses\n",
       "`self.y` as ground-truth values, uses the value with the highest\n",
       "probability as the prediction if that probability exceeds the\n",
       "threshold, `np.nan` otherwise.\n",
       "\n",
       "Parameters:\n",
       "\n",
       "- `metrics`: Callables that take `y_true`, `y_pred` as\n",
       "positional arguments and return a number. Must have a `__name__`\n",
       "attribute and must be able to handle `np.nan` values.\n",
       "- `thresholds`: `Sequence` of `float` threshold values to use. By\n",
       "default uses 0 and all values that appear in `y_prob`, which is a\n",
       "minimal set that covers all of the relevant possibilities. One\n",
       "reason to override that default would be to save time with a large\n",
       "dataset.\n",
       "\n",
       "Returns: DataFrame with one column \"thresh\" indicating the\n",
       "thresholds used and an additional column for each input metric\n",
       "giving the value of that metric at that threshold."
      ],
      "text/plain": [
       "---\n",
       "\n",
       "[source](https://github.com/gsganden/model_inspector/tree/main/blob/main/model_inspector/inspect/classifier.py#L103){target=\"_blank\" style=\"float:right; font-size:smaller\"}\n",
       "\n",
       "### _MultiInspector.calculate_metrics_by_thresh\n",
       "\n",
       ">      _MultiInspector.calculate_metrics_by_thresh\n",
       ">                                                   (metrics:Union[Callable,Sequ\n",
       ">                                                   ence[Callable]], thresholds:\n",
       ">                                                   Optional[Sequence]=None)\n",
       "\n",
       "Calculate classification metrics as a function of threshold\n",
       "\n",
       "Assumes that `self.model` has a `.predict_proba()` method. Uses\n",
       "`self.y` as ground-truth values, uses the value with the highest\n",
       "probability as the prediction if that probability exceeds the\n",
       "threshold, `np.nan` otherwise.\n",
       "\n",
       "Parameters:\n",
       "\n",
       "- `metrics`: Callables that take `y_true`, `y_pred` as\n",
       "positional arguments and return a number. Must have a `__name__`\n",
       "attribute and must be able to handle `np.nan` values.\n",
       "- `thresholds`: `Sequence` of `float` threshold values to use. By\n",
       "default uses 0 and all values that appear in `y_prob`, which is a\n",
       "minimal set that covers all of the relevant possibilities. One\n",
       "reason to override that default would be to save time with a large\n",
       "dataset.\n",
       "\n",
       "Returns: DataFrame with one column \"thresh\" indicating the\n",
       "thresholds used and an additional column for each input metric\n",
       "giving the value of that metric at that threshold."
      ]
     },
     "execution_count": null,
     "metadata": {},
     "output_type": "execute_result"
    }
   ],
   "source": [
    "show_doc(_MultiInspector.calculate_metrics_by_thresh)"
   ]
  },
  {
   "cell_type": "code",
   "execution_count": null,
   "id": "03796574-4c92-47ac-94d7-4303d9e1f698",
   "metadata": {},
   "outputs": [],
   "source": [
    "# | hide\n",
    "from model_inspector.inspect.classifier import _MultiInspector"
   ]
  },
  {
   "cell_type": "code",
   "execution_count": null,
   "id": "b2490895-3ce1-4c29-a1d1-c996e7cdf6b5",
   "metadata": {},
   "outputs": [],
   "source": [
    "# | hide\n",
    "assert isinstance(inspector, _MultiInspector)"
   ]
  },
  {
   "cell_type": "code",
   "execution_count": null,
   "id": "801a6e4c-1cec-43c3-a28f-8e17dcb32f7f",
   "metadata": {},
   "outputs": [
    {
     "name": "stderr",
     "output_type": "stream",
     "text": [
      "  0%|                                                                                                  | 0/13 [00:00<?, ?it/s]/Users/greg.gandenberger/.pyenv/versions/3.11.2/envs/model_inspector311/lib/python3.11/site-packages/sklearn/metrics/_classification.py:1344: UndefinedMetricWarning: Precision is ill-defined and being set to 0.0 due to no predicted samples. Use `zero_division` parameter to control this behavior.\n",
      "  _warn_prf(average, modifier, msg_start, len(result))\n",
      "100%|███████████████████████████████████████████████████████████████████████████████████████| 13/13 [00:00<00:00, 1667.92it/s]\n"
     ]
    },
    {
     "data": {
      "text/html": [
       "<div>\n",
       "<style scoped>\n",
       "    .dataframe tbody tr th:only-of-type {\n",
       "        vertical-align: middle;\n",
       "    }\n",
       "\n",
       "    .dataframe tbody tr th {\n",
       "        vertical-align: top;\n",
       "    }\n",
       "\n",
       "    .dataframe thead th {\n",
       "        text-align: right;\n",
       "    }\n",
       "</style>\n",
       "<table border=\"1\" class=\"dataframe\">\n",
       "  <thead>\n",
       "    <tr style=\"text-align: right;\">\n",
       "      <th></th>\n",
       "      <th>thresh</th>\n",
       "      <th>coverage</th>\n",
       "      <th>precision_ignoring_nan</th>\n",
       "    </tr>\n",
       "  </thead>\n",
       "  <tbody>\n",
       "    <tr>\n",
       "      <th>0</th>\n",
       "      <td>0.000000</td>\n",
       "      <td>1.000000</td>\n",
       "      <td>0.947368</td>\n",
       "    </tr>\n",
       "    <tr>\n",
       "      <th>1</th>\n",
       "      <td>0.000000</td>\n",
       "      <td>1.000000</td>\n",
       "      <td>0.947368</td>\n",
       "    </tr>\n",
       "    <tr>\n",
       "      <th>2</th>\n",
       "      <td>0.017493</td>\n",
       "      <td>1.000000</td>\n",
       "      <td>0.947368</td>\n",
       "    </tr>\n",
       "    <tr>\n",
       "      <th>3</th>\n",
       "      <td>0.046875</td>\n",
       "      <td>1.000000</td>\n",
       "      <td>0.947368</td>\n",
       "    </tr>\n",
       "    <tr>\n",
       "      <th>4</th>\n",
       "      <td>0.122164</td>\n",
       "      <td>1.000000</td>\n",
       "      <td>0.947368</td>\n",
       "    </tr>\n",
       "    <tr>\n",
       "      <th>5</th>\n",
       "      <td>0.139610</td>\n",
       "      <td>1.000000</td>\n",
       "      <td>0.947368</td>\n",
       "    </tr>\n",
       "    <tr>\n",
       "      <th>6</th>\n",
       "      <td>0.206660</td>\n",
       "      <td>1.000000</td>\n",
       "      <td>0.947368</td>\n",
       "    </tr>\n",
       "    <tr>\n",
       "      <th>7</th>\n",
       "      <td>0.793340</td>\n",
       "      <td>0.947368</td>\n",
       "      <td>0.944444</td>\n",
       "    </tr>\n",
       "    <tr>\n",
       "      <th>8</th>\n",
       "      <td>0.860390</td>\n",
       "      <td>0.921053</td>\n",
       "      <td>0.942857</td>\n",
       "    </tr>\n",
       "    <tr>\n",
       "      <th>9</th>\n",
       "      <td>0.877836</td>\n",
       "      <td>0.815789</td>\n",
       "      <td>0.935484</td>\n",
       "    </tr>\n",
       "    <tr>\n",
       "      <th>10</th>\n",
       "      <td>0.953125</td>\n",
       "      <td>0.789474</td>\n",
       "      <td>0.966667</td>\n",
       "    </tr>\n",
       "    <tr>\n",
       "      <th>11</th>\n",
       "      <td>0.982507</td>\n",
       "      <td>0.736842</td>\n",
       "      <td>1.000000</td>\n",
       "    </tr>\n",
       "  </tbody>\n",
       "</table>\n",
       "</div>"
      ],
      "text/plain": [
       "      thresh  coverage  precision_ignoring_nan\n",
       "0   0.000000  1.000000                0.947368\n",
       "1   0.000000  1.000000                0.947368\n",
       "2   0.017493  1.000000                0.947368\n",
       "3   0.046875  1.000000                0.947368\n",
       "4   0.122164  1.000000                0.947368\n",
       "5   0.139610  1.000000                0.947368\n",
       "6   0.206660  1.000000                0.947368\n",
       "7   0.793340  0.947368                0.944444\n",
       "8   0.860390  0.921053                0.942857\n",
       "9   0.877836  0.815789                0.935484\n",
       "10  0.953125  0.789474                0.966667\n",
       "11  0.982507  0.736842                1.000000"
      ]
     },
     "execution_count": null,
     "metadata": {},
     "output_type": "execute_result"
    }
   ],
   "source": [
    "metrics_by_thresh = inspector.calculate_metrics_by_thresh(\n",
    "    metrics=[coverage, precision_ignoring_nan],\n",
    ").iloc[\n",
    "    :-1\n",
    "]  # dropping last row where precision is undefined\n",
    "metrics_by_thresh"
   ]
  },
  {
   "cell_type": "code",
   "execution_count": null,
   "id": "ef262dbd-30d6-4f3a-b16d-14d3d8f87aba",
   "metadata": {},
   "outputs": [
    {
     "data": {
      "image/png": "[encoded data removed]",
      "text/plain": [
       "<Figure size 640x480 with 1 Axes>"
      ]
     },
     "metadata": {},
     "output_type": "display_data"
    }
   ],
   "source": [
    "ax = metrics_by_thresh.iloc[:-1].plot(x=\"thresh\")"
   ]
  },
  {
   "cell_type": "code",
   "execution_count": null,
   "id": "ee40c96e-671c-406b-84d2-3f4f7d8d5209",
   "metadata": {},
   "outputs": [
    {
     "name": "stderr",
     "output_type": "stream",
     "text": [
      "  0%|                                                                                                  | 0/13 [00:00<?, ?it/s]/Users/greg.gandenberger/.pyenv/versions/3.11.2/envs/model_inspector311/lib/python3.11/site-packages/sklearn/metrics/_classification.py:1344: UndefinedMetricWarning: Precision is ill-defined and being set to 0.0 due to no predicted samples. Use `zero_division` parameter to control this behavior.\n",
      "  _warn_prf(average, modifier, msg_start, len(result))\n",
      "100%|███████████████████████████████████████████████████████████████████████████████████████| 13/13 [00:00<00:00, 1550.75it/s]\n"
     ]
    }
   ],
   "source": [
    "# | hide\n",
    "assert len(\n",
    "    inspector.calculate_metrics_by_thresh(\n",
    "        metrics=[coverage, precision_ignoring_nan],\n",
    "        thresholds=[0, 0.25, 0.5, 0.75, 0.99],\n",
    "    )\n",
    "    == 5\n",
    ")"
   ]
  },
  {
   "cell_type": "code",
   "execution_count": null,
   "id": "0fc6ab8b-c3b2-4834-b089-d22a1478ca5a",
   "metadata": {},
   "outputs": [
    {
     "data": {
      "text/markdown": [
       "---\n",
       "\n",
       "[source](https://github.com/gsganden/model_inspector/tree/main/blob/main/model_inspector/inspect/classifier.py#LNone){target=\"_blank\" style=\"float:right; font-size:smaller\"}\n",
       "\n",
       "### _MultiInspector.confusion_matrix\n",
       "\n",
       ">      _MultiInspector.confusion_matrix (cmap='PuBu', low:float=0, high:float=0,\n",
       ">                                        axis:Axis|None=0,\n",
       ">                                        subset:Subset|None=None,\n",
       ">                                        text_color_threshold:float=0.408,\n",
       ">                                        vmin:float|None=None,\n",
       ">                                        vmax:float|None=None,\n",
       ">                                        gmap:Sequence|None=None)\n",
       "\n",
       "Get confusion matrix\n",
       "\n",
       "Uses `self.y` as ground-truth values,\n",
       "`self.model.predict(self.X)` as predictions.\n",
       "\n",
       "If output is not rendering properly when you reopen a notebook,\n",
       "make sure the notebook is trusted.\n",
       "\n",
       "Remaining parameters are passed to `pandas.io.formats.style.background_gradient`."
      ],
      "text/plain": [
       "---\n",
       "\n",
       "[source](https://github.com/gsganden/model_inspector/tree/main/blob/main/model_inspector/inspect/classifier.py#LNone){target=\"_blank\" style=\"float:right; font-size:smaller\"}\n",
       "\n",
       "### _MultiInspector.confusion_matrix\n",
       "\n",
       ">      _MultiInspector.confusion_matrix (cmap='PuBu', low:float=0, high:float=0,\n",
       ">                                        axis:Axis|None=0,\n",
       ">                                        subset:Subset|None=None,\n",
       ">                                        text_color_threshold:float=0.408,\n",
       ">                                        vmin:float|None=None,\n",
       ">                                        vmax:float|None=None,\n",
       ">                                        gmap:Sequence|None=None)\n",
       "\n",
       "Get confusion matrix\n",
       "\n",
       "Uses `self.y` as ground-truth values,\n",
       "`self.model.predict(self.X)` as predictions.\n",
       "\n",
       "If output is not rendering properly when you reopen a notebook,\n",
       "make sure the notebook is trusted.\n",
       "\n",
       "Remaining parameters are passed to `pandas.io.formats.style.background_gradient`."
      ]
     },
     "execution_count": null,
     "metadata": {},
     "output_type": "execute_result"
    }
   ],
   "source": [
    "show_doc(_MultiInspector.confusion_matrix)"
   ]
  },
  {
   "cell_type": "code",
   "execution_count": null,
   "id": "769e3801-9dc6-4771-ba27-a5104484eefc",
   "metadata": {},
   "outputs": [
    {
     "data": {
      "text/html": [
       "<style type=\"text/css\">\n",
       "#T_3f8d3_row0_col0 {\n",
       "  background-color: #08306b;\n",
       "  color: #f1f1f1;\n",
       "}\n",
       "#T_3f8d3_row0_col1, #T_3f8d3_row0_col2, #T_3f8d3_row1_col0, #T_3f8d3_row2_col0 {\n",
       "  background-color: #f7fbff;\n",
       "  color: #000000;\n",
       "}\n",
       "#T_3f8d3_row1_col1, #T_3f8d3_row2_col2 {\n",
       "  background-color: #4191c6;\n",
       "  color: #f1f1f1;\n",
       "}\n",
       "#T_3f8d3_row1_col2, #T_3f8d3_row2_col1 {\n",
       "  background-color: #eaf3fb;\n",
       "  color: #000000;\n",
       "}\n",
       "</style>\n",
       "<table id=\"T_3f8d3\">\n",
       "  <thead>\n",
       "    <tr>\n",
       "      <th class=\"blank level0\" >&nbsp;</th>\n",
       "      <th id=\"T_3f8d3_level0_col0\" class=\"col_heading level0 col0\" >Predicted 0</th>\n",
       "      <th id=\"T_3f8d3_level0_col1\" class=\"col_heading level0 col1\" >Predicted 1</th>\n",
       "      <th id=\"T_3f8d3_level0_col2\" class=\"col_heading level0 col2\" >Predicted 2</th>\n",
       "      <th id=\"T_3f8d3_level0_col3\" class=\"col_heading level0 col3\" >Totals</th>\n",
       "    </tr>\n",
       "  </thead>\n",
       "  <tbody>\n",
       "    <tr>\n",
       "      <th id=\"T_3f8d3_level0_row0\" class=\"row_heading level0 row0\" >Actual 0</th>\n",
       "      <td id=\"T_3f8d3_row0_col0\" class=\"data row0 col0\" >16</td>\n",
       "      <td id=\"T_3f8d3_row0_col1\" class=\"data row0 col1\" >0</td>\n",
       "      <td id=\"T_3f8d3_row0_col2\" class=\"data row0 col2\" >0</td>\n",
       "      <td id=\"T_3f8d3_row0_col3\" class=\"data row0 col3\" >16</td>\n",
       "    </tr>\n",
       "    <tr>\n",
       "      <th id=\"T_3f8d3_level0_row1\" class=\"row_heading level0 row1\" >Actual 1</th>\n",
       "      <td id=\"T_3f8d3_row1_col0\" class=\"data row1 col0\" >0</td>\n",
       "      <td id=\"T_3f8d3_row1_col1\" class=\"data row1 col1\" >10</td>\n",
       "      <td id=\"T_3f8d3_row1_col2\" class=\"data row1 col2\" >1</td>\n",
       "      <td id=\"T_3f8d3_row1_col3\" class=\"data row1 col3\" >11</td>\n",
       "    </tr>\n",
       "    <tr>\n",
       "      <th id=\"T_3f8d3_level0_row2\" class=\"row_heading level0 row2\" >Actual 2</th>\n",
       "      <td id=\"T_3f8d3_row2_col0\" class=\"data row2 col0\" >0</td>\n",
       "      <td id=\"T_3f8d3_row2_col1\" class=\"data row2 col1\" >1</td>\n",
       "      <td id=\"T_3f8d3_row2_col2\" class=\"data row2 col2\" >10</td>\n",
       "      <td id=\"T_3f8d3_row2_col3\" class=\"data row2 col3\" >11</td>\n",
       "    </tr>\n",
       "    <tr>\n",
       "      <th id=\"T_3f8d3_level0_row3\" class=\"row_heading level0 row3\" >Totals</th>\n",
       "      <td id=\"T_3f8d3_row3_col0\" class=\"data row3 col0\" >16</td>\n",
       "      <td id=\"T_3f8d3_row3_col1\" class=\"data row3 col1\" >11</td>\n",
       "      <td id=\"T_3f8d3_row3_col2\" class=\"data row3 col2\" >11</td>\n",
       "      <td id=\"T_3f8d3_row3_col3\" class=\"data row3 col3\" >38</td>\n",
       "    </tr>\n",
       "  </tbody>\n",
       "</table>\n"
      ],
      "text/plain": [
       "<pandas.io.formats.style.Styler>"
      ]
     },
     "execution_count": null,
     "metadata": {},
     "output_type": "execute_result"
    }
   ],
   "source": [
    "inspector.confusion_matrix()"
   ]
  },
  {
   "cell_type": "code",
   "execution_count": null,
   "id": "2d2fdf62-26d7-4644-8c2f-749d78c67964",
   "metadata": {},
   "outputs": [],
   "source": [
    "# | export\n",
    "_all_ = [\"_BinInspector\", \"_MultiInspector\"]"
   ]
  },
  {
   "cell_type": "code",
   "execution_count": null,
   "id": "fb4deaca-208d-4f64-b536-9ed56d678e12",
   "metadata": {},
   "outputs": [],
   "source": []
  }
 ],
 "metadata": {
  "kernelspec": {
   "display_name": "python3",
   "language": "python",
   "name": "python3"
  }
 },
 "nbformat": 4,
 "nbformat_minor": 5
}
