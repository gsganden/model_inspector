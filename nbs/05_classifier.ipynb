{
 "cells": [
  {
   "cell_type": "code",
   "execution_count": 1,
   "id": "5d2ca12e-aaac-4d25-9796-4182b1fe1ab9",
   "metadata": {},
   "outputs": [],
   "source": [
    "# hide\n",
    "# skip\n",
    "! [ -e /content ] && pip install -Uqq model_inspector nbdev\n",
    "# For colab. Restart the runtime after running this cell!"
   ]
  },
  {
   "cell_type": "code",
   "execution_count": 9,
   "id": "158bb0e2-0e96-4e0f-8598-de8a7a856d78",
   "metadata": {},
   "outputs": [],
   "source": [
    "# default_exp inspect/classifier"
   ]
  },
  {
   "cell_type": "markdown",
   "id": "a43e6fb5-86f4-4d39-8138-06deccac3eb0",
   "metadata": {
    "tags": []
   },
   "source": [
    "# Classifier\n",
    "\n",
    "> Inspector functionality for any classification model"
   ]
  },
  {
   "cell_type": "code",
   "execution_count": 7,
   "id": "bea65eba-c007-45bc-913a-21121211fead",
   "metadata": {},
   "outputs": [],
   "source": [
    "# export\n",
    "from model_inspector.inspect.any_model import _Inspector"
   ]
  },
  {
   "cell_type": "code",
   "execution_count": 5,
   "id": "3510d4b1-9707-4644-b26a-5d6b6f3cdeb6",
   "metadata": {},
   "outputs": [],
   "source": [
    "# export\n",
    "class _BinInspector(_Inspector):\n",
    "    pass"
   ]
  },
  {
   "cell_type": "code",
   "execution_count": 8,
   "id": "77e91082-3dc7-4451-8524-895426c4ef0f",
   "metadata": {},
   "outputs": [],
   "source": [
    "# export\n",
    "class _MultiInspector(_Inspector):\n",
    "    pass"
   ]
  },
  {
   "cell_type": "code",
   "execution_count": 10,
   "id": "2d2fdf62-26d7-4644-8c2f-749d78c67964",
   "metadata": {},
   "outputs": [],
   "source": [
    "# export\n",
    "_all_ = [\"_BinInspector\", \"_MultiInspector\"]"
   ]
  },
  {
   "cell_type": "code",
   "execution_count": null,
   "id": "919105c0-96bd-45b7-99a3-bd95f2bdc629",
   "metadata": {},
   "outputs": [],
   "source": []
  }
 ],
 "metadata": {
  "kernelspec": {
   "display_name": "model_inspector",
   "language": "python",
   "name": "model_inspector"
  },
  "language_info": {
   "codemirror_mode": {
    "name": "ipython",
    "version": 3
   },
   "file_extension": ".py",
   "mimetype": "text/x-python",
   "name": "python",
   "nbconvert_exporter": "python",
   "pygments_lexer": "ipython3",
   "version": "3.9.11"
  }
 },
 "nbformat": 4,
 "nbformat_minor": 5
}
