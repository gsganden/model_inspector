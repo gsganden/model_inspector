{
 "cells": [
  {
   "cell_type": "markdown",
   "metadata": {},
   "source": [
    "# Model Inspector\n",
    "\n",
    "> Inspect machine learning models"
   ]
  },
  {
   "attachments": {},
   "cell_type": "markdown",
   "metadata": {},
   "source": [
    "`model_inspector` aims to help you train better `scikit-learn`-compatible models by providing insights into their behavior."
   ]
  },
  {
   "cell_type": "markdown",
   "metadata": {},
   "source": [
    "## Use"
   ]
  },
  {
   "attachments": {},
   "cell_type": "markdown",
   "metadata": {},
   "source": [
    "To use `model_inspector`, you create an `Inspector` object from a `scikit-learn` model, a feature DataFrame `X`, and a target Series `y`. Typically you will want to create it on held-out data, as shown below."
   ]
  },
  {
   "cell_type": "code",
   "execution_count": null,
   "metadata": {
    "vscode": {
     "languageId": "python"
    }
   },
   "outputs": [],
   "source": [
    "import sklearn.datasets\n",
    "from sklearn.ensemble import RandomForestRegressor\n",
    "from sklearn.model_selection import train_test_split\n",
    "\n",
    "from model_inspector import get_inspector"
   ]
  },
  {
   "cell_type": "code",
   "execution_count": null,
   "metadata": {
    "vscode": {
     "languageId": "python"
    }
   },
   "outputs": [],
   "source": [
    "X, y = sklearn.datasets.load_diabetes(return_X_y=True, as_frame=True)"
   ]
  },
  {
   "cell_type": "code",
   "execution_count": null,
   "metadata": {
    "vscode": {
     "languageId": "python"
    }
   },
   "outputs": [
    {
     "data": {
      "text/html": [
       "<div>\n",
       "<style scoped>\n",
       "    .dataframe tbody tr th:only-of-type {\n",
       "        vertical-align: middle;\n",
       "    }\n",
       "\n",
       "    .dataframe tbody tr th {\n",
       "        vertical-align: top;\n",
       "    }\n",
       "\n",
       "    .dataframe thead th {\n",
       "        text-align: right;\n",
       "    }\n",
       "</style>\n",
       "<table border=\"1\" class=\"dataframe\">\n",
       "  <thead>\n",
       "    <tr style=\"text-align: right;\">\n",
       "      <th></th>\n",
       "      <th>age</th>\n",
       "      <th>sex</th>\n",
       "      <th>bmi</th>\n",
       "      <th>bp</th>\n",
       "      <th>s1</th>\n",
       "      <th>s2</th>\n",
       "      <th>s3</th>\n",
       "      <th>s4</th>\n",
       "      <th>s5</th>\n",
       "      <th>s6</th>\n",
       "    </tr>\n",
       "  </thead>\n",
       "  <tbody>\n",
       "    <tr>\n",
       "      <th>0</th>\n",
       "      <td>0.038076</td>\n",
       "      <td>0.050680</td>\n",
       "      <td>0.061696</td>\n",
       "      <td>0.021872</td>\n",
       "      <td>-0.044223</td>\n",
       "      <td>-0.034821</td>\n",
       "      <td>-0.043401</td>\n",
       "      <td>-0.002592</td>\n",
       "      <td>0.019907</td>\n",
       "      <td>-0.017646</td>\n",
       "    </tr>\n",
       "    <tr>\n",
       "      <th>1</th>\n",
       "      <td>-0.001882</td>\n",
       "      <td>-0.044642</td>\n",
       "      <td>-0.051474</td>\n",
       "      <td>-0.026328</td>\n",
       "      <td>-0.008449</td>\n",
       "      <td>-0.019163</td>\n",
       "      <td>0.074412</td>\n",
       "      <td>-0.039493</td>\n",
       "      <td>-0.068332</td>\n",
       "      <td>-0.092204</td>\n",
       "    </tr>\n",
       "    <tr>\n",
       "      <th>2</th>\n",
       "      <td>0.085299</td>\n",
       "      <td>0.050680</td>\n",
       "      <td>0.044451</td>\n",
       "      <td>-0.005670</td>\n",
       "      <td>-0.045599</td>\n",
       "      <td>-0.034194</td>\n",
       "      <td>-0.032356</td>\n",
       "      <td>-0.002592</td>\n",
       "      <td>0.002861</td>\n",
       "      <td>-0.025930</td>\n",
       "    </tr>\n",
       "    <tr>\n",
       "      <th>3</th>\n",
       "      <td>-0.089063</td>\n",
       "      <td>-0.044642</td>\n",
       "      <td>-0.011595</td>\n",
       "      <td>-0.036656</td>\n",
       "      <td>0.012191</td>\n",
       "      <td>0.024991</td>\n",
       "      <td>-0.036038</td>\n",
       "      <td>0.034309</td>\n",
       "      <td>0.022688</td>\n",
       "      <td>-0.009362</td>\n",
       "    </tr>\n",
       "    <tr>\n",
       "      <th>4</th>\n",
       "      <td>0.005383</td>\n",
       "      <td>-0.044642</td>\n",
       "      <td>-0.036385</td>\n",
       "      <td>0.021872</td>\n",
       "      <td>0.003935</td>\n",
       "      <td>0.015596</td>\n",
       "      <td>0.008142</td>\n",
       "      <td>-0.002592</td>\n",
       "      <td>-0.031988</td>\n",
       "      <td>-0.046641</td>\n",
       "    </tr>\n",
       "    <tr>\n",
       "      <th>...</th>\n",
       "      <td>...</td>\n",
       "      <td>...</td>\n",
       "      <td>...</td>\n",
       "      <td>...</td>\n",
       "      <td>...</td>\n",
       "      <td>...</td>\n",
       "      <td>...</td>\n",
       "      <td>...</td>\n",
       "      <td>...</td>\n",
       "      <td>...</td>\n",
       "    </tr>\n",
       "    <tr>\n",
       "      <th>437</th>\n",
       "      <td>0.041708</td>\n",
       "      <td>0.050680</td>\n",
       "      <td>0.019662</td>\n",
       "      <td>0.059744</td>\n",
       "      <td>-0.005697</td>\n",
       "      <td>-0.002566</td>\n",
       "      <td>-0.028674</td>\n",
       "      <td>-0.002592</td>\n",
       "      <td>0.031193</td>\n",
       "      <td>0.007207</td>\n",
       "    </tr>\n",
       "    <tr>\n",
       "      <th>438</th>\n",
       "      <td>-0.005515</td>\n",
       "      <td>0.050680</td>\n",
       "      <td>-0.015906</td>\n",
       "      <td>-0.067642</td>\n",
       "      <td>0.049341</td>\n",
       "      <td>0.079165</td>\n",
       "      <td>-0.028674</td>\n",
       "      <td>0.034309</td>\n",
       "      <td>-0.018114</td>\n",
       "      <td>0.044485</td>\n",
       "    </tr>\n",
       "    <tr>\n",
       "      <th>439</th>\n",
       "      <td>0.041708</td>\n",
       "      <td>0.050680</td>\n",
       "      <td>-0.015906</td>\n",
       "      <td>0.017293</td>\n",
       "      <td>-0.037344</td>\n",
       "      <td>-0.013840</td>\n",
       "      <td>-0.024993</td>\n",
       "      <td>-0.011080</td>\n",
       "      <td>-0.046883</td>\n",
       "      <td>0.015491</td>\n",
       "    </tr>\n",
       "    <tr>\n",
       "      <th>440</th>\n",
       "      <td>-0.045472</td>\n",
       "      <td>-0.044642</td>\n",
       "      <td>0.039062</td>\n",
       "      <td>0.001215</td>\n",
       "      <td>0.016318</td>\n",
       "      <td>0.015283</td>\n",
       "      <td>-0.028674</td>\n",
       "      <td>0.026560</td>\n",
       "      <td>0.044529</td>\n",
       "      <td>-0.025930</td>\n",
       "    </tr>\n",
       "    <tr>\n",
       "      <th>441</th>\n",
       "      <td>-0.045472</td>\n",
       "      <td>-0.044642</td>\n",
       "      <td>-0.073030</td>\n",
       "      <td>-0.081413</td>\n",
       "      <td>0.083740</td>\n",
       "      <td>0.027809</td>\n",
       "      <td>0.173816</td>\n",
       "      <td>-0.039493</td>\n",
       "      <td>-0.004222</td>\n",
       "      <td>0.003064</td>\n",
       "    </tr>\n",
       "  </tbody>\n",
       "</table>\n",
       "<p>442 rows × 10 columns</p>\n",
       "</div>"
      ],
      "text/plain": [
       "          age       sex       bmi        bp        s1        s2        s3  \\\n",
       "0    0.038076  0.050680  0.061696  0.021872 -0.044223 -0.034821 -0.043401   \n",
       "1   -0.001882 -0.044642 -0.051474 -0.026328 -0.008449 -0.019163  0.074412   \n",
       "2    0.085299  0.050680  0.044451 -0.005670 -0.045599 -0.034194 -0.032356   \n",
       "3   -0.089063 -0.044642 -0.011595 -0.036656  0.012191  0.024991 -0.036038   \n",
       "4    0.005383 -0.044642 -0.036385  0.021872  0.003935  0.015596  0.008142   \n",
       "..        ...       ...       ...       ...       ...       ...       ...   \n",
       "437  0.041708  0.050680  0.019662  0.059744 -0.005697 -0.002566 -0.028674   \n",
       "438 -0.005515  0.050680 -0.015906 -0.067642  0.049341  0.079165 -0.028674   \n",
       "439  0.041708  0.050680 -0.015906  0.017293 -0.037344 -0.013840 -0.024993   \n",
       "440 -0.045472 -0.044642  0.039062  0.001215  0.016318  0.015283 -0.028674   \n",
       "441 -0.045472 -0.044642 -0.073030 -0.081413  0.083740  0.027809  0.173816   \n",
       "\n",
       "           s4        s5        s6  \n",
       "0   -0.002592  0.019907 -0.017646  \n",
       "1   -0.039493 -0.068332 -0.092204  \n",
       "2   -0.002592  0.002861 -0.025930  \n",
       "3    0.034309  0.022688 -0.009362  \n",
       "4   -0.002592 -0.031988 -0.046641  \n",
       "..        ...       ...       ...  \n",
       "437 -0.002592  0.031193  0.007207  \n",
       "438  0.034309 -0.018114  0.044485  \n",
       "439 -0.011080 -0.046883  0.015491  \n",
       "440  0.026560  0.044529 -0.025930  \n",
       "441 -0.039493 -0.004222  0.003064  \n",
       "\n",
       "[442 rows x 10 columns]"
      ]
     },
     "execution_count": null,
     "metadata": {},
     "output_type": "execute_result"
    }
   ],
   "source": [
    "X"
   ]
  },
  {
   "cell_type": "code",
   "execution_count": null,
   "metadata": {
    "vscode": {
     "languageId": "python"
    }
   },
   "outputs": [
    {
     "data": {
      "text/plain": [
       "0      151.0\n",
       "1       75.0\n",
       "2      141.0\n",
       "3      206.0\n",
       "4      135.0\n",
       "       ...  \n",
       "437    178.0\n",
       "438    104.0\n",
       "439    132.0\n",
       "440    220.0\n",
       "441     57.0\n",
       "Name: target, Length: 442, dtype: float64"
      ]
     },
     "execution_count": null,
     "metadata": {},
     "output_type": "execute_result"
    }
   ],
   "source": [
    "y"
   ]
  },
  {
   "cell_type": "code",
   "execution_count": null,
   "metadata": {
    "vscode": {
     "languageId": "python"
    }
   },
   "outputs": [],
   "source": [
    "X_train, X_test, y_train, y_test = train_test_split(X, y)"
   ]
  },
  {
   "cell_type": "code",
   "execution_count": null,
   "metadata": {
    "vscode": {
     "languageId": "python"
    }
   },
   "outputs": [],
   "source": [
    "rfr = RandomForestRegressor().fit(X_train, y_train)"
   ]
  },
  {
   "cell_type": "code",
   "execution_count": null,
   "metadata": {
    "vscode": {
     "languageId": "python"
    }
   },
   "outputs": [
    {
     "data": {
      "text/plain": [
       "0.4145806969881506"
      ]
     },
     "execution_count": null,
     "metadata": {},
     "output_type": "execute_result"
    }
   ],
   "source": [
    "rfr.score(X_test, y_test)"
   ]
  },
  {
   "cell_type": "code",
   "execution_count": null,
   "metadata": {
    "vscode": {
     "languageId": "python"
    }
   },
   "outputs": [],
   "source": [
    "inspector = get_inspector(rfr, X_test, y_test)"
   ]
  },
  {
   "attachments": {},
   "cell_type": "markdown",
   "metadata": {},
   "source": [
    "You can then use various methods of `inspector` to learn about how your model behaves on that data."
   ]
  },
  {
   "cell_type": "markdown",
   "metadata": {},
   "source": [
    "The methods that are available for a given inspector depends on the types of its estimator and its target `y`. An attribute called `methods` tells you what they are:"
   ]
  },
  {
   "cell_type": "code",
   "execution_count": null,
   "metadata": {
    "vscode": {
     "languageId": "python"
    }
   },
   "outputs": [
    {
     "data": {
      "text/plain": [
       "['plot_feature_clusters',\n",
       " 'plot_partial_dependence',\n",
       " 'permutation_importance',\n",
       " 'plot_permutation_importance',\n",
       " 'plot_pred_vs_act',\n",
       " 'plot_residuals',\n",
       " 'show_correlation']"
      ]
     },
     "execution_count": null,
     "metadata": {},
     "output_type": "execute_result"
    }
   ],
   "source": [
    "inspector.methods"
   ]
  },
  {
   "cell_type": "code",
   "execution_count": null,
   "metadata": {
    "vscode": {
     "languageId": "python"
    }
   },
   "outputs": [
    {
     "data": {
      "image/png": "[encoded data removed]",
      "text/plain": [
       "<Figure size 640x480 with 1 Axes>"
      ]
     },
     "metadata": {},
     "output_type": "display_data"
    }
   ],
   "source": [
    "ax = inspector.plot_feature_clusters()"
   ]
  },
  {
   "cell_type": "code",
   "execution_count": null,
   "metadata": {
    "vscode": {
     "languageId": "python"
    }
   },
   "outputs": [
    {
     "data": {
      "image/png": "[encoded data removed]",
      "text/plain": [
       "<Figure size 1200x300 with 4 Axes>"
      ]
     },
     "metadata": {},
     "output_type": "display_data"
    }
   ],
   "source": [
    "most_important_features = inspector.permutation_importance().index[:2]\n",
    "axes = inspector.plot_partial_dependence(\n",
    "    features=[*most_important_features, most_important_features]\n",
    ")\n",
    "axes[0, 0].get_figure().set_size_inches(12, 3)"
   ]
  },
  {
   "cell_type": "code",
   "execution_count": null,
   "metadata": {
    "vscode": {
     "languageId": "python"
    }
   },
   "outputs": [
    {
     "data": {
      "text/plain": [
       "bmi    0.241886\n",
       "s5     0.153085\n",
       "sex    0.003250\n",
       "s3     0.000734\n",
       "bp     0.000461\n",
       "s4    -0.002687\n",
       "s2    -0.004366\n",
       "s1    -0.008953\n",
       "s6    -0.018925\n",
       "age   -0.022768\n",
       "dtype: float64"
      ]
     },
     "execution_count": null,
     "metadata": {},
     "output_type": "execute_result"
    }
   ],
   "source": [
    "inspector.permutation_importance()"
   ]
  },
  {
   "cell_type": "code",
   "execution_count": null,
   "metadata": {
    "vscode": {
     "languageId": "python"
    }
   },
   "outputs": [
    {
     "data": {
      "image/png": "[encoded data removed]",
      "text/plain": [
       "<Figure size 640x480 with 1 Axes>"
      ]
     },
     "metadata": {},
     "output_type": "display_data"
    }
   ],
   "source": [
    "ax = inspector.plot_permutation_importance()"
   ]
  },
  {
   "cell_type": "code",
   "execution_count": null,
   "metadata": {
    "vscode": {
     "languageId": "python"
    }
   },
   "outputs": [
    {
     "data": {
      "image/png": "[encoded data removed]",
      "text/plain": [
       "<Figure size 640x480 with 1 Axes>"
      ]
     },
     "metadata": {},
     "output_type": "display_data"
    }
   ],
   "source": [
    "ax = inspector.plot_pred_vs_act()"
   ]
  },
  {
   "cell_type": "code",
   "execution_count": null,
   "metadata": {
    "vscode": {
     "languageId": "python"
    }
   },
   "outputs": [
    {
     "data": {
      "image/png": "[encoded data removed]",
      "text/plain": [
       "<Figure size 640x480 with 2 Axes>"
      ]
     },
     "metadata": {},
     "output_type": "display_data"
    }
   ],
   "source": [
    "axes = inspector.plot_residuals()"
   ]
  },
  {
   "cell_type": "code",
   "execution_count": null,
   "metadata": {
    "vscode": {
     "languageId": "python"
    }
   },
   "outputs": [
    {
     "data": {
      "text/html": [
       "<style type=\"text/css\">\n",
       "#T_c8180_row0_col0, #T_c8180_row1_col1, #T_c8180_row2_col2, #T_c8180_row3_col3, #T_c8180_row4_col4, #T_c8180_row5_col5, #T_c8180_row6_col6, #T_c8180_row7_col7, #T_c8180_row8_col8, #T_c8180_row9_col9, #T_c8180_row10_col10 {\n",
       "  background-color: #ff0000;\n",
       "  color: #f1f1f1;\n",
       "}\n",
       "#T_c8180_row0_col1, #T_c8180_row1_col0 {\n",
       "  background-color: #ffc6c6;\n",
       "  color: #000000;\n",
       "}\n",
       "#T_c8180_row0_col2, #T_c8180_row0_col5, #T_c8180_row2_col0, #T_c8180_row5_col0, #T_c8180_row5_col9, #T_c8180_row9_col5 {\n",
       "  background-color: #ffd2d2;\n",
       "  color: #000000;\n",
       "}\n",
       "#T_c8180_row0_col3, #T_c8180_row2_col5, #T_c8180_row3_col0, #T_c8180_row5_col2 {\n",
       "  background-color: #ffd0d0;\n",
       "  color: #000000;\n",
       "}\n",
       "#T_c8180_row0_col4, #T_c8180_row4_col0 {\n",
       "  background-color: #ffc4c4;\n",
       "  color: #000000;\n",
       "}\n",
       "#T_c8180_row0_col6, #T_c8180_row6_col0 {\n",
       "  background-color: #f4f4ff;\n",
       "  color: #000000;\n",
       "}\n",
       "#T_c8180_row0_col7, #T_c8180_row3_col7, #T_c8180_row7_col0, #T_c8180_row7_col3 {\n",
       "  background-color: #ffcece;\n",
       "  color: #000000;\n",
       "}\n",
       "#T_c8180_row0_col8, #T_c8180_row8_col0 {\n",
       "  background-color: #ffb6b6;\n",
       "  color: #000000;\n",
       "}\n",
       "#T_c8180_row0_col9, #T_c8180_row9_col0 {\n",
       "  background-color: #ffaeae;\n",
       "  color: #000000;\n",
       "}\n",
       "#T_c8180_row0_col10, #T_c8180_row1_col8, #T_c8180_row8_col1, #T_c8180_row10_col0 {\n",
       "  background-color: #ffdede;\n",
       "  color: #000000;\n",
       "}\n",
       "#T_c8180_row1_col2, #T_c8180_row1_col7, #T_c8180_row2_col1, #T_c8180_row7_col1 {\n",
       "  background-color: #ffb4b4;\n",
       "  color: #000000;\n",
       "}\n",
       "#T_c8180_row1_col3, #T_c8180_row3_col1 {\n",
       "  background-color: #ffb0b0;\n",
       "  color: #000000;\n",
       "}\n",
       "#T_c8180_row1_col4, #T_c8180_row4_col1 {\n",
       "  background-color: #f2f2ff;\n",
       "  color: #000000;\n",
       "}\n",
       "#T_c8180_row1_col5, #T_c8180_row5_col1 {\n",
       "  background-color: #ffeaea;\n",
       "  color: #000000;\n",
       "}\n",
       "#T_c8180_row1_col6, #T_c8180_row6_col1 {\n",
       "  background-color: #9898ff;\n",
       "  color: #f1f1f1;\n",
       "}\n",
       "#T_c8180_row1_col9, #T_c8180_row9_col1 {\n",
       "  background-color: #ffb8b8;\n",
       "  color: #000000;\n",
       "}\n",
       "#T_c8180_row1_col10, #T_c8180_row10_col1 {\n",
       "  background-color: #ffbaba;\n",
       "  color: #000000;\n",
       "}\n",
       "#T_c8180_row2_col3, #T_c8180_row3_col2 {\n",
       "  background-color: #ff7272;\n",
       "  color: #f1f1f1;\n",
       "}\n",
       "#T_c8180_row2_col4, #T_c8180_row4_col2 {\n",
       "  background-color: #ffd8d8;\n",
       "  color: #000000;\n",
       "}\n",
       "#T_c8180_row2_col6, #T_c8180_row6_col2 {\n",
       "  background-color: #9292ff;\n",
       "  color: #f1f1f1;\n",
       "}\n",
       "#T_c8180_row2_col7, #T_c8180_row7_col2 {\n",
       "  background-color: #ff8c8c;\n",
       "  color: #000000;\n",
       "}\n",
       "#T_c8180_row2_col8, #T_c8180_row8_col2 {\n",
       "  background-color: #ff9292;\n",
       "  color: #000000;\n",
       "}\n",
       "#T_c8180_row2_col9, #T_c8180_row9_col2 {\n",
       "  background-color: #ff8282;\n",
       "  color: #f1f1f1;\n",
       "}\n",
       "#T_c8180_row2_col10, #T_c8180_row5_col7, #T_c8180_row7_col5, #T_c8180_row10_col2 {\n",
       "  background-color: #ff5656;\n",
       "  color: #f1f1f1;\n",
       "}\n",
       "#T_c8180_row3_col4, #T_c8180_row4_col3, #T_c8180_row4_col10, #T_c8180_row5_col10, #T_c8180_row10_col4, #T_c8180_row10_col5 {\n",
       "  background-color: #ffe8e8;\n",
       "  color: #000000;\n",
       "}\n",
       "#T_c8180_row3_col5, #T_c8180_row5_col3 {\n",
       "  background-color: #fff6f6;\n",
       "  color: #000000;\n",
       "}\n",
       "#T_c8180_row3_col6, #T_c8180_row6_col3 {\n",
       "  background-color: #ccccff;\n",
       "  color: #000000;\n",
       "}\n",
       "#T_c8180_row3_col8, #T_c8180_row8_col3 {\n",
       "  background-color: #ffa2a2;\n",
       "  color: #000000;\n",
       "}\n",
       "#T_c8180_row3_col9, #T_c8180_row9_col3 {\n",
       "  background-color: #ff8e8e;\n",
       "  color: #000000;\n",
       "}\n",
       "#T_c8180_row3_col10, #T_c8180_row10_col3 {\n",
       "  background-color: #ff7c7c;\n",
       "  color: #f1f1f1;\n",
       "}\n",
       "#T_c8180_row4_col5, #T_c8180_row5_col4 {\n",
       "  background-color: #ff1e1e;\n",
       "  color: #f1f1f1;\n",
       "}\n",
       "#T_c8180_row4_col6, #T_c8180_row6_col4 {\n",
       "  background-color: #ffeeee;\n",
       "  color: #000000;\n",
       "}\n",
       "#T_c8180_row4_col7, #T_c8180_row7_col4 {\n",
       "  background-color: #ff6c6c;\n",
       "  color: #f1f1f1;\n",
       "}\n",
       "#T_c8180_row4_col8, #T_c8180_row8_col4 {\n",
       "  background-color: #ff7e7e;\n",
       "  color: #f1f1f1;\n",
       "}\n",
       "#T_c8180_row4_col9, #T_c8180_row9_col4 {\n",
       "  background-color: #ffbebe;\n",
       "  color: #000000;\n",
       "}\n",
       "#T_c8180_row5_col6, #T_c8180_row6_col5 {\n",
       "  background-color: #d6d6ff;\n",
       "  color: #000000;\n",
       "}\n",
       "#T_c8180_row5_col8, #T_c8180_row8_col5 {\n",
       "  background-color: #ffc2c2;\n",
       "  color: #000000;\n",
       "}\n",
       "#T_c8180_row6_col7, #T_c8180_row7_col6 {\n",
       "  background-color: #4646ff;\n",
       "  color: #f1f1f1;\n",
       "}\n",
       "#T_c8180_row6_col8, #T_c8180_row8_col6 {\n",
       "  background-color: #a0a0ff;\n",
       "  color: #f1f1f1;\n",
       "}\n",
       "#T_c8180_row6_col9, #T_c8180_row9_col6 {\n",
       "  background-color: #b4b4ff;\n",
       "  color: #000000;\n",
       "}\n",
       "#T_c8180_row6_col10, #T_c8180_row10_col6 {\n",
       "  background-color: #8a8aff;\n",
       "  color: #f1f1f1;\n",
       "}\n",
       "#T_c8180_row7_col8, #T_c8180_row8_col7 {\n",
       "  background-color: #ff6464;\n",
       "  color: #f1f1f1;\n",
       "}\n",
       "#T_c8180_row7_col9, #T_c8180_row7_col10, #T_c8180_row9_col7, #T_c8180_row10_col7 {\n",
       "  background-color: #ff9696;\n",
       "  color: #000000;\n",
       "}\n",
       "#T_c8180_row8_col9, #T_c8180_row9_col8 {\n",
       "  background-color: #ff7a7a;\n",
       "  color: #f1f1f1;\n",
       "}\n",
       "#T_c8180_row8_col10, #T_c8180_row10_col8 {\n",
       "  background-color: #ff8888;\n",
       "  color: #f1f1f1;\n",
       "}\n",
       "#T_c8180_row9_col10, #T_c8180_row10_col9 {\n",
       "  background-color: #ffa6a6;\n",
       "  color: #000000;\n",
       "}\n",
       "</style>\n",
       "<table id=\"T_c8180\">\n",
       "  <thead>\n",
       "    <tr>\n",
       "      <th class=\"blank level0\" >&nbsp;</th>\n",
       "      <th id=\"T_c8180_level0_col0\" class=\"col_heading level0 col0\" >age</th>\n",
       "      <th id=\"T_c8180_level0_col1\" class=\"col_heading level0 col1\" >sex</th>\n",
       "      <th id=\"T_c8180_level0_col2\" class=\"col_heading level0 col2\" >bmi</th>\n",
       "      <th id=\"T_c8180_level0_col3\" class=\"col_heading level0 col3\" >bp</th>\n",
       "      <th id=\"T_c8180_level0_col4\" class=\"col_heading level0 col4\" >s1</th>\n",
       "      <th id=\"T_c8180_level0_col5\" class=\"col_heading level0 col5\" >s2</th>\n",
       "      <th id=\"T_c8180_level0_col6\" class=\"col_heading level0 col6\" >s3</th>\n",
       "      <th id=\"T_c8180_level0_col7\" class=\"col_heading level0 col7\" >s4</th>\n",
       "      <th id=\"T_c8180_level0_col8\" class=\"col_heading level0 col8\" >s5</th>\n",
       "      <th id=\"T_c8180_level0_col9\" class=\"col_heading level0 col9\" >s6</th>\n",
       "      <th id=\"T_c8180_level0_col10\" class=\"col_heading level0 col10\" >target</th>\n",
       "    </tr>\n",
       "  </thead>\n",
       "  <tbody>\n",
       "    <tr>\n",
       "      <th id=\"T_c8180_level0_row0\" class=\"row_heading level0 row0\" >age</th>\n",
       "      <td id=\"T_c8180_row0_col0\" class=\"data row0 col0\" >1.00</td>\n",
       "      <td id=\"T_c8180_row0_col1\" class=\"data row0 col1\" >0.22</td>\n",
       "      <td id=\"T_c8180_row0_col2\" class=\"data row0 col2\" >0.18</td>\n",
       "      <td id=\"T_c8180_row0_col3\" class=\"data row0 col3\" >0.19</td>\n",
       "      <td id=\"T_c8180_row0_col4\" class=\"data row0 col4\" >0.23</td>\n",
       "      <td id=\"T_c8180_row0_col5\" class=\"data row0 col5\" >0.18</td>\n",
       "      <td id=\"T_c8180_row0_col6\" class=\"data row0 col6\" >-0.04</td>\n",
       "      <td id=\"T_c8180_row0_col7\" class=\"data row0 col7\" >0.19</td>\n",
       "      <td id=\"T_c8180_row0_col8\" class=\"data row0 col8\" >0.28</td>\n",
       "      <td id=\"T_c8180_row0_col9\" class=\"data row0 col9\" >0.32</td>\n",
       "      <td id=\"T_c8180_row0_col10\" class=\"data row0 col10\" >0.13</td>\n",
       "    </tr>\n",
       "    <tr>\n",
       "      <th id=\"T_c8180_level0_row1\" class=\"row_heading level0 row1\" >sex</th>\n",
       "      <td id=\"T_c8180_row1_col0\" class=\"data row1 col0\" >0.22</td>\n",
       "      <td id=\"T_c8180_row1_col1\" class=\"data row1 col1\" >1.00</td>\n",
       "      <td id=\"T_c8180_row1_col2\" class=\"data row1 col2\" >0.29</td>\n",
       "      <td id=\"T_c8180_row1_col3\" class=\"data row1 col3\" >0.31</td>\n",
       "      <td id=\"T_c8180_row1_col4\" class=\"data row1 col4\" >-0.05</td>\n",
       "      <td id=\"T_c8180_row1_col5\" class=\"data row1 col5\" >0.08</td>\n",
       "      <td id=\"T_c8180_row1_col6\" class=\"data row1 col6\" >-0.41</td>\n",
       "      <td id=\"T_c8180_row1_col7\" class=\"data row1 col7\" >0.30</td>\n",
       "      <td id=\"T_c8180_row1_col8\" class=\"data row1 col8\" >0.13</td>\n",
       "      <td id=\"T_c8180_row1_col9\" class=\"data row1 col9\" >0.27</td>\n",
       "      <td id=\"T_c8180_row1_col10\" class=\"data row1 col10\" >0.27</td>\n",
       "    </tr>\n",
       "    <tr>\n",
       "      <th id=\"T_c8180_level0_row2\" class=\"row_heading level0 row2\" >bmi</th>\n",
       "      <td id=\"T_c8180_row2_col0\" class=\"data row2 col0\" >0.18</td>\n",
       "      <td id=\"T_c8180_row2_col1\" class=\"data row2 col1\" >0.29</td>\n",
       "      <td id=\"T_c8180_row2_col2\" class=\"data row2 col2\" >1.00</td>\n",
       "      <td id=\"T_c8180_row2_col3\" class=\"data row2 col3\" >0.55</td>\n",
       "      <td id=\"T_c8180_row2_col4\" class=\"data row2 col4\" >0.16</td>\n",
       "      <td id=\"T_c8180_row2_col5\" class=\"data row2 col5\" >0.18</td>\n",
       "      <td id=\"T_c8180_row2_col6\" class=\"data row2 col6\" >-0.43</td>\n",
       "      <td id=\"T_c8180_row2_col7\" class=\"data row2 col7\" >0.45</td>\n",
       "      <td id=\"T_c8180_row2_col8\" class=\"data row2 col8\" >0.43</td>\n",
       "      <td id=\"T_c8180_row2_col9\" class=\"data row2 col9\" >0.49</td>\n",
       "      <td id=\"T_c8180_row2_col10\" class=\"data row2 col10\" >0.66</td>\n",
       "    </tr>\n",
       "    <tr>\n",
       "      <th id=\"T_c8180_level0_row3\" class=\"row_heading level0 row3\" >bp</th>\n",
       "      <td id=\"T_c8180_row3_col0\" class=\"data row3 col0\" >0.19</td>\n",
       "      <td id=\"T_c8180_row3_col1\" class=\"data row3 col1\" >0.31</td>\n",
       "      <td id=\"T_c8180_row3_col2\" class=\"data row3 col2\" >0.55</td>\n",
       "      <td id=\"T_c8180_row3_col3\" class=\"data row3 col3\" >1.00</td>\n",
       "      <td id=\"T_c8180_row3_col4\" class=\"data row3 col4\" >0.09</td>\n",
       "      <td id=\"T_c8180_row3_col5\" class=\"data row3 col5\" >0.04</td>\n",
       "      <td id=\"T_c8180_row3_col6\" class=\"data row3 col6\" >-0.20</td>\n",
       "      <td id=\"T_c8180_row3_col7\" class=\"data row3 col7\" >0.19</td>\n",
       "      <td id=\"T_c8180_row3_col8\" class=\"data row3 col8\" >0.36</td>\n",
       "      <td id=\"T_c8180_row3_col9\" class=\"data row3 col9\" >0.44</td>\n",
       "      <td id=\"T_c8180_row3_col10\" class=\"data row3 col10\" >0.51</td>\n",
       "    </tr>\n",
       "    <tr>\n",
       "      <th id=\"T_c8180_level0_row4\" class=\"row_heading level0 row4\" >s1</th>\n",
       "      <td id=\"T_c8180_row4_col0\" class=\"data row4 col0\" >0.23</td>\n",
       "      <td id=\"T_c8180_row4_col1\" class=\"data row4 col1\" >-0.05</td>\n",
       "      <td id=\"T_c8180_row4_col2\" class=\"data row4 col2\" >0.16</td>\n",
       "      <td id=\"T_c8180_row4_col3\" class=\"data row4 col3\" >0.09</td>\n",
       "      <td id=\"T_c8180_row4_col4\" class=\"data row4 col4\" >1.00</td>\n",
       "      <td id=\"T_c8180_row4_col5\" class=\"data row4 col5\" >0.88</td>\n",
       "      <td id=\"T_c8180_row4_col6\" class=\"data row4 col6\" >0.07</td>\n",
       "      <td id=\"T_c8180_row4_col7\" class=\"data row4 col7\" >0.57</td>\n",
       "      <td id=\"T_c8180_row4_col8\" class=\"data row4 col8\" >0.50</td>\n",
       "      <td id=\"T_c8180_row4_col9\" class=\"data row4 col9\" >0.26</td>\n",
       "      <td id=\"T_c8180_row4_col10\" class=\"data row4 col10\" >0.09</td>\n",
       "    </tr>\n",
       "    <tr>\n",
       "      <th id=\"T_c8180_level0_row5\" class=\"row_heading level0 row5\" >s2</th>\n",
       "      <td id=\"T_c8180_row5_col0\" class=\"data row5 col0\" >0.18</td>\n",
       "      <td id=\"T_c8180_row5_col1\" class=\"data row5 col1\" >0.08</td>\n",
       "      <td id=\"T_c8180_row5_col2\" class=\"data row5 col2\" >0.18</td>\n",
       "      <td id=\"T_c8180_row5_col3\" class=\"data row5 col3\" >0.04</td>\n",
       "      <td id=\"T_c8180_row5_col4\" class=\"data row5 col4\" >0.88</td>\n",
       "      <td id=\"T_c8180_row5_col5\" class=\"data row5 col5\" >1.00</td>\n",
       "      <td id=\"T_c8180_row5_col6\" class=\"data row5 col6\" >-0.16</td>\n",
       "      <td id=\"T_c8180_row5_col7\" class=\"data row5 col7\" >0.66</td>\n",
       "      <td id=\"T_c8180_row5_col8\" class=\"data row5 col8\" >0.23</td>\n",
       "      <td id=\"T_c8180_row5_col9\" class=\"data row5 col9\" >0.18</td>\n",
       "      <td id=\"T_c8180_row5_col10\" class=\"data row5 col10\" >0.09</td>\n",
       "    </tr>\n",
       "    <tr>\n",
       "      <th id=\"T_c8180_level0_row6\" class=\"row_heading level0 row6\" >s3</th>\n",
       "      <td id=\"T_c8180_row6_col0\" class=\"data row6 col0\" >-0.04</td>\n",
       "      <td id=\"T_c8180_row6_col1\" class=\"data row6 col1\" >-0.41</td>\n",
       "      <td id=\"T_c8180_row6_col2\" class=\"data row6 col2\" >-0.43</td>\n",
       "      <td id=\"T_c8180_row6_col3\" class=\"data row6 col3\" >-0.20</td>\n",
       "      <td id=\"T_c8180_row6_col4\" class=\"data row6 col4\" >0.07</td>\n",
       "      <td id=\"T_c8180_row6_col5\" class=\"data row6 col5\" >-0.16</td>\n",
       "      <td id=\"T_c8180_row6_col6\" class=\"data row6 col6\" >1.00</td>\n",
       "      <td id=\"T_c8180_row6_col7\" class=\"data row6 col7\" >-0.72</td>\n",
       "      <td id=\"T_c8180_row6_col8\" class=\"data row6 col8\" >-0.37</td>\n",
       "      <td id=\"T_c8180_row6_col9\" class=\"data row6 col9\" >-0.30</td>\n",
       "      <td id=\"T_c8180_row6_col10\" class=\"data row6 col10\" >-0.46</td>\n",
       "    </tr>\n",
       "    <tr>\n",
       "      <th id=\"T_c8180_level0_row7\" class=\"row_heading level0 row7\" >s4</th>\n",
       "      <td id=\"T_c8180_row7_col0\" class=\"data row7 col0\" >0.19</td>\n",
       "      <td id=\"T_c8180_row7_col1\" class=\"data row7 col1\" >0.30</td>\n",
       "      <td id=\"T_c8180_row7_col2\" class=\"data row7 col2\" >0.45</td>\n",
       "      <td id=\"T_c8180_row7_col3\" class=\"data row7 col3\" >0.19</td>\n",
       "      <td id=\"T_c8180_row7_col4\" class=\"data row7 col4\" >0.57</td>\n",
       "      <td id=\"T_c8180_row7_col5\" class=\"data row7 col5\" >0.66</td>\n",
       "      <td id=\"T_c8180_row7_col6\" class=\"data row7 col6\" >-0.72</td>\n",
       "      <td id=\"T_c8180_row7_col7\" class=\"data row7 col7\" >1.00</td>\n",
       "      <td id=\"T_c8180_row7_col8\" class=\"data row7 col8\" >0.60</td>\n",
       "      <td id=\"T_c8180_row7_col9\" class=\"data row7 col9\" >0.41</td>\n",
       "      <td id=\"T_c8180_row7_col10\" class=\"data row7 col10\" >0.41</td>\n",
       "    </tr>\n",
       "    <tr>\n",
       "      <th id=\"T_c8180_level0_row8\" class=\"row_heading level0 row8\" >s5</th>\n",
       "      <td id=\"T_c8180_row8_col0\" class=\"data row8 col0\" >0.28</td>\n",
       "      <td id=\"T_c8180_row8_col1\" class=\"data row8 col1\" >0.13</td>\n",
       "      <td id=\"T_c8180_row8_col2\" class=\"data row8 col2\" >0.43</td>\n",
       "      <td id=\"T_c8180_row8_col3\" class=\"data row8 col3\" >0.36</td>\n",
       "      <td id=\"T_c8180_row8_col4\" class=\"data row8 col4\" >0.50</td>\n",
       "      <td id=\"T_c8180_row8_col5\" class=\"data row8 col5\" >0.23</td>\n",
       "      <td id=\"T_c8180_row8_col6\" class=\"data row8 col6\" >-0.37</td>\n",
       "      <td id=\"T_c8180_row8_col7\" class=\"data row8 col7\" >0.60</td>\n",
       "      <td id=\"T_c8180_row8_col8\" class=\"data row8 col8\" >1.00</td>\n",
       "      <td id=\"T_c8180_row8_col9\" class=\"data row8 col9\" >0.52</td>\n",
       "      <td id=\"T_c8180_row8_col10\" class=\"data row8 col10\" >0.46</td>\n",
       "    </tr>\n",
       "    <tr>\n",
       "      <th id=\"T_c8180_level0_row9\" class=\"row_heading level0 row9\" >s6</th>\n",
       "      <td id=\"T_c8180_row9_col0\" class=\"data row9 col0\" >0.32</td>\n",
       "      <td id=\"T_c8180_row9_col1\" class=\"data row9 col1\" >0.27</td>\n",
       "      <td id=\"T_c8180_row9_col2\" class=\"data row9 col2\" >0.49</td>\n",
       "      <td id=\"T_c8180_row9_col3\" class=\"data row9 col3\" >0.44</td>\n",
       "      <td id=\"T_c8180_row9_col4\" class=\"data row9 col4\" >0.26</td>\n",
       "      <td id=\"T_c8180_row9_col5\" class=\"data row9 col5\" >0.18</td>\n",
       "      <td id=\"T_c8180_row9_col6\" class=\"data row9 col6\" >-0.30</td>\n",
       "      <td id=\"T_c8180_row9_col7\" class=\"data row9 col7\" >0.41</td>\n",
       "      <td id=\"T_c8180_row9_col8\" class=\"data row9 col8\" >0.52</td>\n",
       "      <td id=\"T_c8180_row9_col9\" class=\"data row9 col9\" >1.00</td>\n",
       "      <td id=\"T_c8180_row9_col10\" class=\"data row9 col10\" >0.35</td>\n",
       "    </tr>\n",
       "    <tr>\n",
       "      <th id=\"T_c8180_level0_row10\" class=\"row_heading level0 row10\" >target</th>\n",
       "      <td id=\"T_c8180_row10_col0\" class=\"data row10 col0\" >0.13</td>\n",
       "      <td id=\"T_c8180_row10_col1\" class=\"data row10 col1\" >0.27</td>\n",
       "      <td id=\"T_c8180_row10_col2\" class=\"data row10 col2\" >0.66</td>\n",
       "      <td id=\"T_c8180_row10_col3\" class=\"data row10 col3\" >0.51</td>\n",
       "      <td id=\"T_c8180_row10_col4\" class=\"data row10 col4\" >0.09</td>\n",
       "      <td id=\"T_c8180_row10_col5\" class=\"data row10 col5\" >0.09</td>\n",
       "      <td id=\"T_c8180_row10_col6\" class=\"data row10 col6\" >-0.46</td>\n",
       "      <td id=\"T_c8180_row10_col7\" class=\"data row10 col7\" >0.41</td>\n",
       "      <td id=\"T_c8180_row10_col8\" class=\"data row10 col8\" >0.46</td>\n",
       "      <td id=\"T_c8180_row10_col9\" class=\"data row10 col9\" >0.35</td>\n",
       "      <td id=\"T_c8180_row10_col10\" class=\"data row10 col10\" >1.00</td>\n",
       "    </tr>\n",
       "  </tbody>\n",
       "</table>\n"
      ],
      "text/plain": [
       "<pandas.io.formats.style.Styler>"
      ]
     },
     "execution_count": null,
     "metadata": {},
     "output_type": "execute_result"
    }
   ],
   "source": [
    "inspector.show_correlation()"
   ]
  },
  {
   "attachments": {},
   "cell_type": "markdown",
   "metadata": {},
   "source": [
    "## Scope"
   ]
  },
  {
   "attachments": {},
   "cell_type": "markdown",
   "metadata": {},
   "source": [
    "`model_inspector` makes some attempt to support estimators from popular libraries other than `scikit-learn` that mimic the `scikit-learn` interface. The following estimators are specifically supported:\n",
    "\n",
    "- From `catboost`:\n",
    "    - `CatBoostClassifier`\n",
    "    - `CatBoostRegressor`\n",
    "- From `lightgbm`:\n",
    "    - `LGBMClassifier`\n",
    "    - `LGBMRegressor`\n",
    "- From `xgboost`:\n",
    "    - `XGBClassifier`\n",
    "    - `XGBRegressor`"
   ]
  },
  {
   "cell_type": "markdown",
   "metadata": {},
   "source": [
    "## Install"
   ]
  },
  {
   "cell_type": "markdown",
   "metadata": {},
   "source": [
    "`pip install model_inspector`"
   ]
  },
  {
   "cell_type": "markdown",
   "metadata": {},
   "source": [
    "## Alternatives"
   ]
  },
  {
   "cell_type": "markdown",
   "metadata": {},
   "source": [
    "### Yellowbrick"
   ]
  },
  {
   "attachments": {},
   "cell_type": "markdown",
   "metadata": {},
   "source": [
    "[Yellowbrick](https://www.scikit-yb.org/en/latest/) is similar to Model Inspector in that it provides tools for visualizing the behavior of `scikit-learn` models.\n",
    "\n",
    "The two libraries have different designs. Yellowbrick uses `Visualizer` objects, each class of which corresponds to a single type of visualization. The `Visualizer` interface is similar to the `scikit-learn` transformer and estimator interfaces. In constrast, `model_inspector` uses `Inspector` objects that bundle together a `scikit-learn` model, an `X` feature DataFrame, and a `y` target Series. The `Inspector` object does the work of identifying appropriate visualization types for the specific model and dataset in question and exposing corresponding methods, making it easy to visualize a given model for a given dataset in a variety of ways.\n",
    "\n",
    "Another fundamental difference is that Yellowbrick is framed as a machine learning *visualization* library, while Model Inspector treats visualization as just one approach to inspecting the behavior of machine learning models."
   ]
  },
  {
   "attachments": {},
   "cell_type": "markdown",
   "metadata": {},
   "source": [
    "### SHAP"
   ]
  },
  {
   "attachments": {},
   "cell_type": "markdown",
   "metadata": {},
   "source": [
    "[SHAP](https://github.com/slundberg/shap) is another library that provides a set of tools for understanding the behavior of machine learning models. It has a somewhat similar design to Model Inspector in that it uses `Explainer` objects to provide access to methods that are appropriate for a given model. It has broader scope than Model Inspector in that it supports models from frameworks such as PyTorch and TensorFlow. It has narrower scope in that it only implements methods based on Shapley values."
   ]
  },
  {
   "cell_type": "markdown",
   "metadata": {},
   "source": [
    "## Acknowledgments"
   ]
  },
  {
   "cell_type": "markdown",
   "metadata": {},
   "source": [
    "Many aspects of this library were inspired by [FastAI courses](https://course.fast.ai/), including bundling together a model with data in a class and providing certain specific visualization methods such as feature importance bar plots, feature clusters dendrograms, tree diagrams, waterfall plots, and partial dependence plots. Its primary contribution is to make all of these methods available in a single convenient interface."
   ]
  }
 ],
 "metadata": {
  "kernelspec": {
   "display_name": "python3",
   "language": "python",
   "name": "python3"
  }
 },
 "nbformat": 4,
 "nbformat_minor": 4
}
