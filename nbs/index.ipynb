{
 "cells": [
  {
   "cell_type": "markdown",
   "metadata": {},
   "source": [
    "# Model Inspector\n",
    "\n",
    "> Inspect machine learning models"
   ]
  },
  {
   "cell_type": "markdown",
   "metadata": {},
   "source": [
    "`model_inspector` aims to help you train better `scikit-learn` models by providing insights into their behavior."
   ]
  },
  {
   "cell_type": "markdown",
   "metadata": {},
   "source": [
    "## Use"
   ]
  },
  {
   "attachments": {},
   "cell_type": "markdown",
   "metadata": {},
   "source": [
    "To use `model_inspector`, you create an `Inspector` object from a `scikit-learn` model, a feature DataFrame `X`, and a target Series `y`. Typically you will want to create it on held-out data, as shown below."
   ]
  },
  {
   "cell_type": "code",
   "execution_count": null,
   "metadata": {},
   "outputs": [],
   "source": [
    "import sklearn.datasets\n",
    "from sklearn.ensemble import RandomForestRegressor\n",
    "from sklearn.model_selection import train_test_split\n",
    "\n",
    "from model_inspector import get_inspector"
   ]
  },
  {
   "cell_type": "code",
   "execution_count": null,
   "metadata": {},
   "outputs": [],
   "source": [
    "X, y = sklearn.datasets.load_diabetes(return_X_y=True, as_frame=True)"
   ]
  },
  {
   "cell_type": "code",
   "execution_count": null,
   "metadata": {},
   "outputs": [
    {
     "data": {
      "text/html": [
       "<div>\n",
       "<style scoped>\n",
       "    .dataframe tbody tr th:only-of-type {\n",
       "        vertical-align: middle;\n",
       "    }\n",
       "\n",
       "    .dataframe tbody tr th {\n",
       "        vertical-align: top;\n",
       "    }\n",
       "\n",
       "    .dataframe thead th {\n",
       "        text-align: right;\n",
       "    }\n",
       "</style>\n",
       "<table border=\"1\" class=\"dataframe\">\n",
       "  <thead>\n",
       "    <tr style=\"text-align: right;\">\n",
       "      <th></th>\n",
       "      <th>age</th>\n",
       "      <th>sex</th>\n",
       "      <th>bmi</th>\n",
       "      <th>bp</th>\n",
       "      <th>s1</th>\n",
       "      <th>s2</th>\n",
       "      <th>s3</th>\n",
       "      <th>s4</th>\n",
       "      <th>s5</th>\n",
       "      <th>s6</th>\n",
       "    </tr>\n",
       "  </thead>\n",
       "  <tbody>\n",
       "    <tr>\n",
       "      <th>0</th>\n",
       "      <td>0.038076</td>\n",
       "      <td>0.050680</td>\n",
       "      <td>0.061696</td>\n",
       "      <td>0.021872</td>\n",
       "      <td>-0.044223</td>\n",
       "      <td>-0.034821</td>\n",
       "      <td>-0.043401</td>\n",
       "      <td>-0.002592</td>\n",
       "      <td>0.019907</td>\n",
       "      <td>-0.017646</td>\n",
       "    </tr>\n",
       "    <tr>\n",
       "      <th>1</th>\n",
       "      <td>-0.001882</td>\n",
       "      <td>-0.044642</td>\n",
       "      <td>-0.051474</td>\n",
       "      <td>-0.026328</td>\n",
       "      <td>-0.008449</td>\n",
       "      <td>-0.019163</td>\n",
       "      <td>0.074412</td>\n",
       "      <td>-0.039493</td>\n",
       "      <td>-0.068332</td>\n",
       "      <td>-0.092204</td>\n",
       "    </tr>\n",
       "    <tr>\n",
       "      <th>2</th>\n",
       "      <td>0.085299</td>\n",
       "      <td>0.050680</td>\n",
       "      <td>0.044451</td>\n",
       "      <td>-0.005670</td>\n",
       "      <td>-0.045599</td>\n",
       "      <td>-0.034194</td>\n",
       "      <td>-0.032356</td>\n",
       "      <td>-0.002592</td>\n",
       "      <td>0.002861</td>\n",
       "      <td>-0.025930</td>\n",
       "    </tr>\n",
       "    <tr>\n",
       "      <th>3</th>\n",
       "      <td>-0.089063</td>\n",
       "      <td>-0.044642</td>\n",
       "      <td>-0.011595</td>\n",
       "      <td>-0.036656</td>\n",
       "      <td>0.012191</td>\n",
       "      <td>0.024991</td>\n",
       "      <td>-0.036038</td>\n",
       "      <td>0.034309</td>\n",
       "      <td>0.022688</td>\n",
       "      <td>-0.009362</td>\n",
       "    </tr>\n",
       "    <tr>\n",
       "      <th>4</th>\n",
       "      <td>0.005383</td>\n",
       "      <td>-0.044642</td>\n",
       "      <td>-0.036385</td>\n",
       "      <td>0.021872</td>\n",
       "      <td>0.003935</td>\n",
       "      <td>0.015596</td>\n",
       "      <td>0.008142</td>\n",
       "      <td>-0.002592</td>\n",
       "      <td>-0.031988</td>\n",
       "      <td>-0.046641</td>\n",
       "    </tr>\n",
       "    <tr>\n",
       "      <th>...</th>\n",
       "      <td>...</td>\n",
       "      <td>...</td>\n",
       "      <td>...</td>\n",
       "      <td>...</td>\n",
       "      <td>...</td>\n",
       "      <td>...</td>\n",
       "      <td>...</td>\n",
       "      <td>...</td>\n",
       "      <td>...</td>\n",
       "      <td>...</td>\n",
       "    </tr>\n",
       "    <tr>\n",
       "      <th>437</th>\n",
       "      <td>0.041708</td>\n",
       "      <td>0.050680</td>\n",
       "      <td>0.019662</td>\n",
       "      <td>0.059744</td>\n",
       "      <td>-0.005697</td>\n",
       "      <td>-0.002566</td>\n",
       "      <td>-0.028674</td>\n",
       "      <td>-0.002592</td>\n",
       "      <td>0.031193</td>\n",
       "      <td>0.007207</td>\n",
       "    </tr>\n",
       "    <tr>\n",
       "      <th>438</th>\n",
       "      <td>-0.005515</td>\n",
       "      <td>0.050680</td>\n",
       "      <td>-0.015906</td>\n",
       "      <td>-0.067642</td>\n",
       "      <td>0.049341</td>\n",
       "      <td>0.079165</td>\n",
       "      <td>-0.028674</td>\n",
       "      <td>0.034309</td>\n",
       "      <td>-0.018114</td>\n",
       "      <td>0.044485</td>\n",
       "    </tr>\n",
       "    <tr>\n",
       "      <th>439</th>\n",
       "      <td>0.041708</td>\n",
       "      <td>0.050680</td>\n",
       "      <td>-0.015906</td>\n",
       "      <td>0.017293</td>\n",
       "      <td>-0.037344</td>\n",
       "      <td>-0.013840</td>\n",
       "      <td>-0.024993</td>\n",
       "      <td>-0.011080</td>\n",
       "      <td>-0.046883</td>\n",
       "      <td>0.015491</td>\n",
       "    </tr>\n",
       "    <tr>\n",
       "      <th>440</th>\n",
       "      <td>-0.045472</td>\n",
       "      <td>-0.044642</td>\n",
       "      <td>0.039062</td>\n",
       "      <td>0.001215</td>\n",
       "      <td>0.016318</td>\n",
       "      <td>0.015283</td>\n",
       "      <td>-0.028674</td>\n",
       "      <td>0.026560</td>\n",
       "      <td>0.044529</td>\n",
       "      <td>-0.025930</td>\n",
       "    </tr>\n",
       "    <tr>\n",
       "      <th>441</th>\n",
       "      <td>-0.045472</td>\n",
       "      <td>-0.044642</td>\n",
       "      <td>-0.073030</td>\n",
       "      <td>-0.081413</td>\n",
       "      <td>0.083740</td>\n",
       "      <td>0.027809</td>\n",
       "      <td>0.173816</td>\n",
       "      <td>-0.039493</td>\n",
       "      <td>-0.004222</td>\n",
       "      <td>0.003064</td>\n",
       "    </tr>\n",
       "  </tbody>\n",
       "</table>\n",
       "<p>442 rows × 10 columns</p>\n",
       "</div>"
      ],
      "text/plain": [
       "          age       sex       bmi        bp        s1        s2        s3  \\\n",
       "0    0.038076  0.050680  0.061696  0.021872 -0.044223 -0.034821 -0.043401   \n",
       "1   -0.001882 -0.044642 -0.051474 -0.026328 -0.008449 -0.019163  0.074412   \n",
       "2    0.085299  0.050680  0.044451 -0.005670 -0.045599 -0.034194 -0.032356   \n",
       "3   -0.089063 -0.044642 -0.011595 -0.036656  0.012191  0.024991 -0.036038   \n",
       "4    0.005383 -0.044642 -0.036385  0.021872  0.003935  0.015596  0.008142   \n",
       "..        ...       ...       ...       ...       ...       ...       ...   \n",
       "437  0.041708  0.050680  0.019662  0.059744 -0.005697 -0.002566 -0.028674   \n",
       "438 -0.005515  0.050680 -0.015906 -0.067642  0.049341  0.079165 -0.028674   \n",
       "439  0.041708  0.050680 -0.015906  0.017293 -0.037344 -0.013840 -0.024993   \n",
       "440 -0.045472 -0.044642  0.039062  0.001215  0.016318  0.015283 -0.028674   \n",
       "441 -0.045472 -0.044642 -0.073030 -0.081413  0.083740  0.027809  0.173816   \n",
       "\n",
       "           s4        s5        s6  \n",
       "0   -0.002592  0.019907 -0.017646  \n",
       "1   -0.039493 -0.068332 -0.092204  \n",
       "2   -0.002592  0.002861 -0.025930  \n",
       "3    0.034309  0.022688 -0.009362  \n",
       "4   -0.002592 -0.031988 -0.046641  \n",
       "..        ...       ...       ...  \n",
       "437 -0.002592  0.031193  0.007207  \n",
       "438  0.034309 -0.018114  0.044485  \n",
       "439 -0.011080 -0.046883  0.015491  \n",
       "440  0.026560  0.044529 -0.025930  \n",
       "441 -0.039493 -0.004222  0.003064  \n",
       "\n",
       "[442 rows x 10 columns]"
      ]
     },
     "execution_count": null,
     "metadata": {},
     "output_type": "execute_result"
    }
   ],
   "source": [
    "X"
   ]
  },
  {
   "cell_type": "code",
   "execution_count": null,
   "metadata": {},
   "outputs": [
    {
     "data": {
      "text/plain": [
       "0      151.0\n",
       "1       75.0\n",
       "2      141.0\n",
       "3      206.0\n",
       "4      135.0\n",
       "       ...  \n",
       "437    178.0\n",
       "438    104.0\n",
       "439    132.0\n",
       "440    220.0\n",
       "441     57.0\n",
       "Name: target, Length: 442, dtype: float64"
      ]
     },
     "execution_count": null,
     "metadata": {},
     "output_type": "execute_result"
    }
   ],
   "source": [
    "y"
   ]
  },
  {
   "cell_type": "code",
   "execution_count": null,
   "metadata": {},
   "outputs": [],
   "source": [
    "X_train, X_test, y_train, y_test = train_test_split(X, y)"
   ]
  },
  {
   "cell_type": "code",
   "execution_count": null,
   "metadata": {},
   "outputs": [],
   "source": [
    "rfr = RandomForestRegressor().fit(X_train, y_train)"
   ]
  },
  {
   "cell_type": "code",
   "execution_count": null,
   "metadata": {},
   "outputs": [
    {
     "data": {
      "text/plain": [
       "0.49419363561131635"
      ]
     },
     "execution_count": null,
     "metadata": {},
     "output_type": "execute_result"
    }
   ],
   "source": [
    "rfr.score(X_test, y_test)"
   ]
  },
  {
   "cell_type": "code",
   "execution_count": null,
   "metadata": {},
   "outputs": [],
   "source": [
    "inspector = get_inspector(rfr, X_test, y_test)"
   ]
  },
  {
   "attachments": {},
   "cell_type": "markdown",
   "metadata": {},
   "source": [
    "You can then use various methods of `inspector` to learn about how your model behaves on that data."
   ]
  },
  {
   "cell_type": "markdown",
   "metadata": {},
   "source": [
    "The methods that are available for a given inspector depends on the types of its estimator and its target `y`. An attribute called `methods` tells you what they are:"
   ]
  },
  {
   "cell_type": "code",
   "execution_count": null,
   "metadata": {},
   "outputs": [
    {
     "data": {
      "text/plain": [
       "['permutation_importance',\n",
       " 'plot_feature_clusters',\n",
       " 'plot_partial_dependence',\n",
       " 'plot_permutation_importance',\n",
       " 'plot_pred_vs_act',\n",
       " 'plot_residuals',\n",
       " 'show_correlation']"
      ]
     },
     "execution_count": null,
     "metadata": {},
     "output_type": "execute_result"
    }
   ],
   "source": [
    "inspector.methods"
   ]
  },
  {
   "cell_type": "code",
   "execution_count": null,
   "metadata": {},
   "outputs": [
    {
     "data": {
      "text/plain": [
       "bmi    0.253263\n",
       "s5     0.216381\n",
       "bp     0.041223\n",
       "s6     0.038466\n",
       "s4     0.011436\n",
       "s3     0.009732\n",
       "sex    0.008383\n",
       "s1    -0.004575\n",
       "s2    -0.012520\n",
       "age   -0.014762\n",
       "dtype: float64"
      ]
     },
     "execution_count": null,
     "metadata": {},
     "output_type": "execute_result"
    }
   ],
   "source": [
    "inspector.permutation_importance()"
   ]
  },
  {
   "cell_type": "code",
   "execution_count": null,
   "metadata": {},
   "outputs": [
    {
     "data": {
      "image/png": "[encoded data removed]",
      "text/plain": [
       "<Figure size 640x480 with 1 Axes>"
      ]
     },
     "metadata": {},
     "output_type": "display_data"
    }
   ],
   "source": [
    "ax = inspector.plot_permutation_importance()"
   ]
  },
  {
   "cell_type": "code",
   "execution_count": null,
   "metadata": {},
   "outputs": [
    {
     "data": {
      "image/png": "[encoded data removed]",
      "text/plain": [
       "<Figure size 1200x300 with 4 Axes>"
      ]
     },
     "metadata": {},
     "output_type": "display_data"
    }
   ],
   "source": [
    "most_important_features = inspector.permutation_importance().index[:2]\n",
    "axes = inspector.plot_partial_dependence(\n",
    "    features=[*most_important_features, most_important_features]\n",
    ")\n",
    "axes[0, 0].get_figure().set_size_inches(12, 3)"
   ]
  },
  {
   "cell_type": "code",
   "execution_count": null,
   "metadata": {},
   "outputs": [
    {
     "data": {
      "text/html": [
       "<style type=\"text/css\">\n",
       "#T_ccf74_row0_col0, #T_ccf74_row1_col1, #T_ccf74_row2_col2, #T_ccf74_row3_col3, #T_ccf74_row4_col4, #T_ccf74_row5_col5, #T_ccf74_row6_col6, #T_ccf74_row7_col7, #T_ccf74_row8_col8, #T_ccf74_row9_col9, #T_ccf74_row10_col10 {\n",
       "  background-color: #ff0000;\n",
       "  color: #f1f1f1;\n",
       "}\n",
       "#T_ccf74_row0_col1, #T_ccf74_row1_col0 {\n",
       "  background-color: #ffbaba;\n",
       "  color: #000000;\n",
       "}\n",
       "#T_ccf74_row0_col2, #T_ccf74_row2_col0 {\n",
       "  background-color: #ffc8c8;\n",
       "  color: #000000;\n",
       "}\n",
       "#T_ccf74_row0_col3, #T_ccf74_row3_col0, #T_ccf74_row7_col9, #T_ccf74_row9_col7 {\n",
       "  background-color: #ffaaaa;\n",
       "  color: #000000;\n",
       "}\n",
       "#T_ccf74_row0_col4, #T_ccf74_row4_col0 {\n",
       "  background-color: #ffc4c4;\n",
       "  color: #000000;\n",
       "}\n",
       "#T_ccf74_row0_col5, #T_ccf74_row5_col0 {\n",
       "  background-color: #ffb6b6;\n",
       "  color: #000000;\n",
       "}\n",
       "#T_ccf74_row0_col6, #T_ccf74_row6_col0 {\n",
       "  background-color: #e0e0ff;\n",
       "  color: #000000;\n",
       "}\n",
       "#T_ccf74_row0_col7, #T_ccf74_row7_col0 {\n",
       "  background-color: #ffc6c6;\n",
       "  color: #000000;\n",
       "}\n",
       "#T_ccf74_row0_col8, #T_ccf74_row8_col0 {\n",
       "  background-color: #ffdede;\n",
       "  color: #000000;\n",
       "}\n",
       "#T_ccf74_row0_col9, #T_ccf74_row3_col4, #T_ccf74_row4_col3, #T_ccf74_row9_col0 {\n",
       "  background-color: #ffbebe;\n",
       "  color: #000000;\n",
       "}\n",
       "#T_ccf74_row0_col10, #T_ccf74_row1_col10, #T_ccf74_row10_col0, #T_ccf74_row10_col1 {\n",
       "  background-color: #ffd0d0;\n",
       "  color: #000000;\n",
       "}\n",
       "#T_ccf74_row1_col2, #T_ccf74_row2_col1 {\n",
       "  background-color: #ffcaca;\n",
       "  color: #000000;\n",
       "}\n",
       "#T_ccf74_row1_col3, #T_ccf74_row2_col7, #T_ccf74_row3_col1, #T_ccf74_row7_col2 {\n",
       "  background-color: #ff8a8a;\n",
       "  color: #000000;\n",
       "}\n",
       "#T_ccf74_row1_col4, #T_ccf74_row4_col1 {\n",
       "  background-color: #ffecec;\n",
       "  color: #000000;\n",
       "}\n",
       "#T_ccf74_row1_col5, #T_ccf74_row5_col1 {\n",
       "  background-color: #ffcece;\n",
       "  color: #000000;\n",
       "}\n",
       "#T_ccf74_row1_col6, #T_ccf74_row6_col1 {\n",
       "  background-color: #9898ff;\n",
       "  color: #f1f1f1;\n",
       "}\n",
       "#T_ccf74_row1_col7, #T_ccf74_row7_col1, #T_ccf74_row8_col9, #T_ccf74_row9_col8 {\n",
       "  background-color: #ffa2a2;\n",
       "  color: #000000;\n",
       "}\n",
       "#T_ccf74_row1_col8, #T_ccf74_row8_col1 {\n",
       "  background-color: #ffc2c2;\n",
       "  color: #000000;\n",
       "}\n",
       "#T_ccf74_row1_col9, #T_ccf74_row9_col1 {\n",
       "  background-color: #ffd6d6;\n",
       "  color: #000000;\n",
       "}\n",
       "#T_ccf74_row2_col3, #T_ccf74_row3_col2 {\n",
       "  background-color: #ff9696;\n",
       "  color: #000000;\n",
       "}\n",
       "#T_ccf74_row2_col4, #T_ccf74_row4_col2 {\n",
       "  background-color: #ffb2b2;\n",
       "  color: #000000;\n",
       "}\n",
       "#T_ccf74_row2_col5, #T_ccf74_row5_col2 {\n",
       "  background-color: #ffa6a6;\n",
       "  color: #000000;\n",
       "}\n",
       "#T_ccf74_row2_col6, #T_ccf74_row6_col2 {\n",
       "  background-color: #9a9aff;\n",
       "  color: #f1f1f1;\n",
       "}\n",
       "#T_ccf74_row2_col8, #T_ccf74_row8_col2 {\n",
       "  background-color: #ff7a7a;\n",
       "  color: #f1f1f1;\n",
       "}\n",
       "#T_ccf74_row2_col9, #T_ccf74_row9_col2 {\n",
       "  background-color: #ff9898;\n",
       "  color: #000000;\n",
       "}\n",
       "#T_ccf74_row2_col10, #T_ccf74_row10_col2 {\n",
       "  background-color: #ff5a5a;\n",
       "  color: #f1f1f1;\n",
       "}\n",
       "#T_ccf74_row3_col5, #T_ccf74_row5_col3 {\n",
       "  background-color: #ffbcbc;\n",
       "  color: #000000;\n",
       "}\n",
       "#T_ccf74_row3_col6, #T_ccf74_row6_col3 {\n",
       "  background-color: #c8c8ff;\n",
       "  color: #000000;\n",
       "}\n",
       "#T_ccf74_row3_col7, #T_ccf74_row4_col9, #T_ccf74_row5_col9, #T_ccf74_row7_col3, #T_ccf74_row9_col4, #T_ccf74_row9_col5 {\n",
       "  background-color: #ffb8b8;\n",
       "  color: #000000;\n",
       "}\n",
       "#T_ccf74_row3_col8, #T_ccf74_row8_col3 {\n",
       "  background-color: #ff9e9e;\n",
       "  color: #000000;\n",
       "}\n",
       "#T_ccf74_row3_col9, #T_ccf74_row9_col3 {\n",
       "  background-color: #ffa8a8;\n",
       "  color: #000000;\n",
       "}\n",
       "#T_ccf74_row3_col10, #T_ccf74_row10_col3 {\n",
       "  background-color: #ff8e8e;\n",
       "  color: #000000;\n",
       "}\n",
       "#T_ccf74_row4_col5, #T_ccf74_row5_col4 {\n",
       "  background-color: #ff1818;\n",
       "  color: #f1f1f1;\n",
       "}\n",
       "#T_ccf74_row4_col6, #T_ccf74_row6_col4 {\n",
       "  background-color: #ffeaea;\n",
       "  color: #000000;\n",
       "}\n",
       "#T_ccf74_row4_col7, #T_ccf74_row7_col4 {\n",
       "  background-color: #ff8080;\n",
       "  color: #f1f1f1;\n",
       "}\n",
       "#T_ccf74_row4_col8, #T_ccf74_row8_col4 {\n",
       "  background-color: #ff7c7c;\n",
       "  color: #f1f1f1;\n",
       "}\n",
       "#T_ccf74_row4_col10, #T_ccf74_row10_col4 {\n",
       "  background-color: #ffb4b4;\n",
       "  color: #000000;\n",
       "}\n",
       "#T_ccf74_row5_col6, #T_ccf74_row6_col5 {\n",
       "  background-color: #bebeff;\n",
       "  color: #000000;\n",
       "}\n",
       "#T_ccf74_row5_col7, #T_ccf74_row7_col5 {\n",
       "  background-color: #ff4c4c;\n",
       "  color: #f1f1f1;\n",
       "}\n",
       "#T_ccf74_row5_col8, #T_ccf74_row8_col5 {\n",
       "  background-color: #ff9090;\n",
       "  color: #000000;\n",
       "}\n",
       "#T_ccf74_row5_col10, #T_ccf74_row10_col5 {\n",
       "  background-color: #ffb0b0;\n",
       "  color: #000000;\n",
       "}\n",
       "#T_ccf74_row6_col7, #T_ccf74_row7_col6 {\n",
       "  background-color: #3e3eff;\n",
       "  color: #f1f1f1;\n",
       "}\n",
       "#T_ccf74_row6_col8, #T_ccf74_row8_col6 {\n",
       "  background-color: #8888ff;\n",
       "  color: #f1f1f1;\n",
       "}\n",
       "#T_ccf74_row6_col9, #T_ccf74_row9_col6 {\n",
       "  background-color: #cacaff;\n",
       "  color: #000000;\n",
       "}\n",
       "#T_ccf74_row6_col10, #T_ccf74_row10_col6 {\n",
       "  background-color: #8282ff;\n",
       "  color: #f1f1f1;\n",
       "}\n",
       "#T_ccf74_row7_col8, #T_ccf74_row8_col7 {\n",
       "  background-color: #ff5858;\n",
       "  color: #f1f1f1;\n",
       "}\n",
       "#T_ccf74_row7_col10, #T_ccf74_row10_col7 {\n",
       "  background-color: #ff7676;\n",
       "  color: #f1f1f1;\n",
       "}\n",
       "#T_ccf74_row8_col10, #T_ccf74_row10_col8 {\n",
       "  background-color: #ff4e4e;\n",
       "  color: #f1f1f1;\n",
       "}\n",
       "#T_ccf74_row9_col10, #T_ccf74_row10_col9 {\n",
       "  background-color: #ff9a9a;\n",
       "  color: #000000;\n",
       "}\n",
       "</style>\n",
       "<table id=\"T_ccf74\">\n",
       "  <thead>\n",
       "    <tr>\n",
       "      <th class=\"blank level0\" >&nbsp;</th>\n",
       "      <th id=\"T_ccf74_level0_col0\" class=\"col_heading level0 col0\" >age</th>\n",
       "      <th id=\"T_ccf74_level0_col1\" class=\"col_heading level0 col1\" >sex</th>\n",
       "      <th id=\"T_ccf74_level0_col2\" class=\"col_heading level0 col2\" >bmi</th>\n",
       "      <th id=\"T_ccf74_level0_col3\" class=\"col_heading level0 col3\" >bp</th>\n",
       "      <th id=\"T_ccf74_level0_col4\" class=\"col_heading level0 col4\" >s1</th>\n",
       "      <th id=\"T_ccf74_level0_col5\" class=\"col_heading level0 col5\" >s2</th>\n",
       "      <th id=\"T_ccf74_level0_col6\" class=\"col_heading level0 col6\" >s3</th>\n",
       "      <th id=\"T_ccf74_level0_col7\" class=\"col_heading level0 col7\" >s4</th>\n",
       "      <th id=\"T_ccf74_level0_col8\" class=\"col_heading level0 col8\" >s5</th>\n",
       "      <th id=\"T_ccf74_level0_col9\" class=\"col_heading level0 col9\" >s6</th>\n",
       "      <th id=\"T_ccf74_level0_col10\" class=\"col_heading level0 col10\" >target</th>\n",
       "    </tr>\n",
       "  </thead>\n",
       "  <tbody>\n",
       "    <tr>\n",
       "      <th id=\"T_ccf74_level0_row0\" class=\"row_heading level0 row0\" >age</th>\n",
       "      <td id=\"T_ccf74_row0_col0\" class=\"data row0 col0\" >1.00</td>\n",
       "      <td id=\"T_ccf74_row0_col1\" class=\"data row0 col1\" >0.27</td>\n",
       "      <td id=\"T_ccf74_row0_col2\" class=\"data row0 col2\" >0.21</td>\n",
       "      <td id=\"T_ccf74_row0_col3\" class=\"data row0 col3\" >0.33</td>\n",
       "      <td id=\"T_ccf74_row0_col4\" class=\"data row0 col4\" >0.23</td>\n",
       "      <td id=\"T_ccf74_row0_col5\" class=\"data row0 col5\" >0.28</td>\n",
       "      <td id=\"T_ccf74_row0_col6\" class=\"data row0 col6\" >-0.12</td>\n",
       "      <td id=\"T_ccf74_row0_col7\" class=\"data row0 col7\" >0.22</td>\n",
       "      <td id=\"T_ccf74_row0_col8\" class=\"data row0 col8\" >0.13</td>\n",
       "      <td id=\"T_ccf74_row0_col9\" class=\"data row0 col9\" >0.25</td>\n",
       "      <td id=\"T_ccf74_row0_col10\" class=\"data row0 col10\" >0.19</td>\n",
       "    </tr>\n",
       "    <tr>\n",
       "      <th id=\"T_ccf74_level0_row1\" class=\"row_heading level0 row1\" >sex</th>\n",
       "      <td id=\"T_ccf74_row1_col0\" class=\"data row1 col0\" >0.27</td>\n",
       "      <td id=\"T_ccf74_row1_col1\" class=\"data row1 col1\" >1.00</td>\n",
       "      <td id=\"T_ccf74_row1_col2\" class=\"data row1 col2\" >0.21</td>\n",
       "      <td id=\"T_ccf74_row1_col3\" class=\"data row1 col3\" >0.46</td>\n",
       "      <td id=\"T_ccf74_row1_col4\" class=\"data row1 col4\" >0.07</td>\n",
       "      <td id=\"T_ccf74_row1_col5\" class=\"data row1 col5\" >0.20</td>\n",
       "      <td id=\"T_ccf74_row1_col6\" class=\"data row1 col6\" >-0.41</td>\n",
       "      <td id=\"T_ccf74_row1_col7\" class=\"data row1 col7\" >0.36</td>\n",
       "      <td id=\"T_ccf74_row1_col8\" class=\"data row1 col8\" >0.24</td>\n",
       "      <td id=\"T_ccf74_row1_col9\" class=\"data row1 col9\" >0.16</td>\n",
       "      <td id=\"T_ccf74_row1_col10\" class=\"data row1 col10\" >0.18</td>\n",
       "    </tr>\n",
       "    <tr>\n",
       "      <th id=\"T_ccf74_level0_row2\" class=\"row_heading level0 row2\" >bmi</th>\n",
       "      <td id=\"T_ccf74_row2_col0\" class=\"data row2 col0\" >0.21</td>\n",
       "      <td id=\"T_ccf74_row2_col1\" class=\"data row2 col1\" >0.21</td>\n",
       "      <td id=\"T_ccf74_row2_col2\" class=\"data row2 col2\" >1.00</td>\n",
       "      <td id=\"T_ccf74_row2_col3\" class=\"data row2 col3\" >0.41</td>\n",
       "      <td id=\"T_ccf74_row2_col4\" class=\"data row2 col4\" >0.30</td>\n",
       "      <td id=\"T_ccf74_row2_col5\" class=\"data row2 col5\" >0.35</td>\n",
       "      <td id=\"T_ccf74_row2_col6\" class=\"data row2 col6\" >-0.40</td>\n",
       "      <td id=\"T_ccf74_row2_col7\" class=\"data row2 col7\" >0.46</td>\n",
       "      <td id=\"T_ccf74_row2_col8\" class=\"data row2 col8\" >0.52</td>\n",
       "      <td id=\"T_ccf74_row2_col9\" class=\"data row2 col9\" >0.40</td>\n",
       "      <td id=\"T_ccf74_row2_col10\" class=\"data row2 col10\" >0.64</td>\n",
       "    </tr>\n",
       "    <tr>\n",
       "      <th id=\"T_ccf74_level0_row3\" class=\"row_heading level0 row3\" >bp</th>\n",
       "      <td id=\"T_ccf74_row3_col0\" class=\"data row3 col0\" >0.33</td>\n",
       "      <td id=\"T_ccf74_row3_col1\" class=\"data row3 col1\" >0.46</td>\n",
       "      <td id=\"T_ccf74_row3_col2\" class=\"data row3 col2\" >0.41</td>\n",
       "      <td id=\"T_ccf74_row3_col3\" class=\"data row3 col3\" >1.00</td>\n",
       "      <td id=\"T_ccf74_row3_col4\" class=\"data row3 col4\" >0.25</td>\n",
       "      <td id=\"T_ccf74_row3_col5\" class=\"data row3 col5\" >0.26</td>\n",
       "      <td id=\"T_ccf74_row3_col6\" class=\"data row3 col6\" >-0.22</td>\n",
       "      <td id=\"T_ccf74_row3_col7\" class=\"data row3 col7\" >0.28</td>\n",
       "      <td id=\"T_ccf74_row3_col8\" class=\"data row3 col8\" >0.38</td>\n",
       "      <td id=\"T_ccf74_row3_col9\" class=\"data row3 col9\" >0.34</td>\n",
       "      <td id=\"T_ccf74_row3_col10\" class=\"data row3 col10\" >0.44</td>\n",
       "    </tr>\n",
       "    <tr>\n",
       "      <th id=\"T_ccf74_level0_row4\" class=\"row_heading level0 row4\" >s1</th>\n",
       "      <td id=\"T_ccf74_row4_col0\" class=\"data row4 col0\" >0.23</td>\n",
       "      <td id=\"T_ccf74_row4_col1\" class=\"data row4 col1\" >0.07</td>\n",
       "      <td id=\"T_ccf74_row4_col2\" class=\"data row4 col2\" >0.30</td>\n",
       "      <td id=\"T_ccf74_row4_col3\" class=\"data row4 col3\" >0.25</td>\n",
       "      <td id=\"T_ccf74_row4_col4\" class=\"data row4 col4\" >1.00</td>\n",
       "      <td id=\"T_ccf74_row4_col5\" class=\"data row4 col5\" >0.90</td>\n",
       "      <td id=\"T_ccf74_row4_col6\" class=\"data row4 col6\" >0.08</td>\n",
       "      <td id=\"T_ccf74_row4_col7\" class=\"data row4 col7\" >0.50</td>\n",
       "      <td id=\"T_ccf74_row4_col8\" class=\"data row4 col8\" >0.51</td>\n",
       "      <td id=\"T_ccf74_row4_col9\" class=\"data row4 col9\" >0.27</td>\n",
       "      <td id=\"T_ccf74_row4_col10\" class=\"data row4 col10\" >0.29</td>\n",
       "    </tr>\n",
       "    <tr>\n",
       "      <th id=\"T_ccf74_level0_row5\" class=\"row_heading level0 row5\" >s2</th>\n",
       "      <td id=\"T_ccf74_row5_col0\" class=\"data row5 col0\" >0.28</td>\n",
       "      <td id=\"T_ccf74_row5_col1\" class=\"data row5 col1\" >0.20</td>\n",
       "      <td id=\"T_ccf74_row5_col2\" class=\"data row5 col2\" >0.35</td>\n",
       "      <td id=\"T_ccf74_row5_col3\" class=\"data row5 col3\" >0.26</td>\n",
       "      <td id=\"T_ccf74_row5_col4\" class=\"data row5 col4\" >0.90</td>\n",
       "      <td id=\"T_ccf74_row5_col5\" class=\"data row5 col5\" >1.00</td>\n",
       "      <td id=\"T_ccf74_row5_col6\" class=\"data row5 col6\" >-0.25</td>\n",
       "      <td id=\"T_ccf74_row5_col7\" class=\"data row5 col7\" >0.70</td>\n",
       "      <td id=\"T_ccf74_row5_col8\" class=\"data row5 col8\" >0.43</td>\n",
       "      <td id=\"T_ccf74_row5_col9\" class=\"data row5 col9\" >0.28</td>\n",
       "      <td id=\"T_ccf74_row5_col10\" class=\"data row5 col10\" >0.31</td>\n",
       "    </tr>\n",
       "    <tr>\n",
       "      <th id=\"T_ccf74_level0_row6\" class=\"row_heading level0 row6\" >s3</th>\n",
       "      <td id=\"T_ccf74_row6_col0\" class=\"data row6 col0\" >-0.12</td>\n",
       "      <td id=\"T_ccf74_row6_col1\" class=\"data row6 col1\" >-0.41</td>\n",
       "      <td id=\"T_ccf74_row6_col2\" class=\"data row6 col2\" >-0.40</td>\n",
       "      <td id=\"T_ccf74_row6_col3\" class=\"data row6 col3\" >-0.22</td>\n",
       "      <td id=\"T_ccf74_row6_col4\" class=\"data row6 col4\" >0.08</td>\n",
       "      <td id=\"T_ccf74_row6_col5\" class=\"data row6 col5\" >-0.25</td>\n",
       "      <td id=\"T_ccf74_row6_col6\" class=\"data row6 col6\" >1.00</td>\n",
       "      <td id=\"T_ccf74_row6_col7\" class=\"data row6 col7\" >-0.75</td>\n",
       "      <td id=\"T_ccf74_row6_col8\" class=\"data row6 col8\" >-0.47</td>\n",
       "      <td id=\"T_ccf74_row6_col9\" class=\"data row6 col9\" >-0.21</td>\n",
       "      <td id=\"T_ccf74_row6_col10\" class=\"data row6 col10\" >-0.49</td>\n",
       "    </tr>\n",
       "    <tr>\n",
       "      <th id=\"T_ccf74_level0_row7\" class=\"row_heading level0 row7\" >s4</th>\n",
       "      <td id=\"T_ccf74_row7_col0\" class=\"data row7 col0\" >0.22</td>\n",
       "      <td id=\"T_ccf74_row7_col1\" class=\"data row7 col1\" >0.36</td>\n",
       "      <td id=\"T_ccf74_row7_col2\" class=\"data row7 col2\" >0.46</td>\n",
       "      <td id=\"T_ccf74_row7_col3\" class=\"data row7 col3\" >0.28</td>\n",
       "      <td id=\"T_ccf74_row7_col4\" class=\"data row7 col4\" >0.50</td>\n",
       "      <td id=\"T_ccf74_row7_col5\" class=\"data row7 col5\" >0.70</td>\n",
       "      <td id=\"T_ccf74_row7_col6\" class=\"data row7 col6\" >-0.75</td>\n",
       "      <td id=\"T_ccf74_row7_col7\" class=\"data row7 col7\" >1.00</td>\n",
       "      <td id=\"T_ccf74_row7_col8\" class=\"data row7 col8\" >0.65</td>\n",
       "      <td id=\"T_ccf74_row7_col9\" class=\"data row7 col9\" >0.33</td>\n",
       "      <td id=\"T_ccf74_row7_col10\" class=\"data row7 col10\" >0.54</td>\n",
       "    </tr>\n",
       "    <tr>\n",
       "      <th id=\"T_ccf74_level0_row8\" class=\"row_heading level0 row8\" >s5</th>\n",
       "      <td id=\"T_ccf74_row8_col0\" class=\"data row8 col0\" >0.13</td>\n",
       "      <td id=\"T_ccf74_row8_col1\" class=\"data row8 col1\" >0.24</td>\n",
       "      <td id=\"T_ccf74_row8_col2\" class=\"data row8 col2\" >0.52</td>\n",
       "      <td id=\"T_ccf74_row8_col3\" class=\"data row8 col3\" >0.38</td>\n",
       "      <td id=\"T_ccf74_row8_col4\" class=\"data row8 col4\" >0.51</td>\n",
       "      <td id=\"T_ccf74_row8_col5\" class=\"data row8 col5\" >0.43</td>\n",
       "      <td id=\"T_ccf74_row8_col6\" class=\"data row8 col6\" >-0.47</td>\n",
       "      <td id=\"T_ccf74_row8_col7\" class=\"data row8 col7\" >0.65</td>\n",
       "      <td id=\"T_ccf74_row8_col8\" class=\"data row8 col8\" >1.00</td>\n",
       "      <td id=\"T_ccf74_row8_col9\" class=\"data row8 col9\" >0.36</td>\n",
       "      <td id=\"T_ccf74_row8_col10\" class=\"data row8 col10\" >0.69</td>\n",
       "    </tr>\n",
       "    <tr>\n",
       "      <th id=\"T_ccf74_level0_row9\" class=\"row_heading level0 row9\" >s6</th>\n",
       "      <td id=\"T_ccf74_row9_col0\" class=\"data row9 col0\" >0.25</td>\n",
       "      <td id=\"T_ccf74_row9_col1\" class=\"data row9 col1\" >0.16</td>\n",
       "      <td id=\"T_ccf74_row9_col2\" class=\"data row9 col2\" >0.40</td>\n",
       "      <td id=\"T_ccf74_row9_col3\" class=\"data row9 col3\" >0.34</td>\n",
       "      <td id=\"T_ccf74_row9_col4\" class=\"data row9 col4\" >0.27</td>\n",
       "      <td id=\"T_ccf74_row9_col5\" class=\"data row9 col5\" >0.28</td>\n",
       "      <td id=\"T_ccf74_row9_col6\" class=\"data row9 col6\" >-0.21</td>\n",
       "      <td id=\"T_ccf74_row9_col7\" class=\"data row9 col7\" >0.33</td>\n",
       "      <td id=\"T_ccf74_row9_col8\" class=\"data row9 col8\" >0.36</td>\n",
       "      <td id=\"T_ccf74_row9_col9\" class=\"data row9 col9\" >1.00</td>\n",
       "      <td id=\"T_ccf74_row9_col10\" class=\"data row9 col10\" >0.39</td>\n",
       "    </tr>\n",
       "    <tr>\n",
       "      <th id=\"T_ccf74_level0_row10\" class=\"row_heading level0 row10\" >target</th>\n",
       "      <td id=\"T_ccf74_row10_col0\" class=\"data row10 col0\" >0.19</td>\n",
       "      <td id=\"T_ccf74_row10_col1\" class=\"data row10 col1\" >0.18</td>\n",
       "      <td id=\"T_ccf74_row10_col2\" class=\"data row10 col2\" >0.64</td>\n",
       "      <td id=\"T_ccf74_row10_col3\" class=\"data row10 col3\" >0.44</td>\n",
       "      <td id=\"T_ccf74_row10_col4\" class=\"data row10 col4\" >0.29</td>\n",
       "      <td id=\"T_ccf74_row10_col5\" class=\"data row10 col5\" >0.31</td>\n",
       "      <td id=\"T_ccf74_row10_col6\" class=\"data row10 col6\" >-0.49</td>\n",
       "      <td id=\"T_ccf74_row10_col7\" class=\"data row10 col7\" >0.54</td>\n",
       "      <td id=\"T_ccf74_row10_col8\" class=\"data row10 col8\" >0.69</td>\n",
       "      <td id=\"T_ccf74_row10_col9\" class=\"data row10 col9\" >0.39</td>\n",
       "      <td id=\"T_ccf74_row10_col10\" class=\"data row10 col10\" >1.00</td>\n",
       "    </tr>\n",
       "  </tbody>\n",
       "</table>\n"
      ],
      "text/plain": [
       "<pandas.io.formats.style.Styler>"
      ]
     },
     "execution_count": null,
     "metadata": {},
     "output_type": "execute_result"
    }
   ],
   "source": [
    "inspector.show_correlation()"
   ]
  },
  {
   "cell_type": "code",
   "execution_count": null,
   "metadata": {},
   "outputs": [
    {
     "data": {
      "image/png": "[encoded data removed]",
      "text/plain": [
       "<Figure size 640x480 with 1 Axes>"
      ]
     },
     "metadata": {},
     "output_type": "display_data"
    }
   ],
   "source": [
    "ax = inspector.plot_feature_clusters()"
   ]
  },
  {
   "cell_type": "markdown",
   "metadata": {},
   "source": [
    "## Install"
   ]
  },
  {
   "cell_type": "markdown",
   "metadata": {},
   "source": [
    "`pip install model_inspector`"
   ]
  },
  {
   "cell_type": "markdown",
   "metadata": {},
   "source": [
    "## Alternatives"
   ]
  },
  {
   "cell_type": "markdown",
   "metadata": {},
   "source": [
    "The most similar library to model_inspector that I am aware of is [Yellowbrick](https://www.scikit-yb.org/en/latest/). Both are machine learning visualization libraries designed to extend `scikit-learn`.\n",
    "\n",
    "Yellowbrick is designed around `Visualizer` objects. Each `Visualizer` corresponds to a single type of visualization. The `Visualizer` interface is similar to the `scikit-learn` transformer and estimator interfaces.\n",
    "\n",
    "`model_inspector` takes a different approach. It is designed around `Inspector` objects that bundle together a `scikit-learn` model, an `X` feature DataFrame, and a `y` target Series. The `Inspector` object does the work of identifying appropriate visualization types for the specific model and dataset in question and exposing corresponding methods, making it easy to visualize a given model for a given dataset in a variety of ways."
   ]
  },
  {
   "cell_type": "markdown",
   "metadata": {},
   "source": [
    "## Acknowledgments"
   ]
  },
  {
   "cell_type": "markdown",
   "metadata": {},
   "source": [
    "Many aspects of this library were inspired by [FastAI courses](https://course.fast.ai/), including bundling together a model with data in a class and providing certain specific visualization methods such as feature importance bar plots, feature clusters dendrograms, tree diagrams, waterfall plots, and partial dependence plots. Its primary contribution is to make all of these methods available in a single convenient interface."
   ]
  },
  {
   "cell_type": "code",
   "execution_count": null,
   "metadata": {},
   "outputs": [],
   "source": []
  }
 ],
 "metadata": {
  "kernelspec": {
   "display_name": "python3",
   "language": "python",
   "name": "python3"
  }
 },
 "nbformat": 4,
 "nbformat_minor": 4
}
