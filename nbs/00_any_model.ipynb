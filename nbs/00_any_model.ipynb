{
 "cells": [
  {
   "cell_type": "code",
   "execution_count": 1,
   "id": "aee2d9fd-dff5-4918-b63b-b43764933b9e",
   "metadata": {},
   "outputs": [],
   "source": [
    "# | hide\n",
    "# skip\n",
    "! [ -e /content ] && pip install -Uqq model_inspector nbdev\n",
    "# For colab. Restart the runtime after running this cell!"
   ]
  },
  {
   "cell_type": "code",
   "execution_count": 2,
   "id": "f4e0f34f-b484-4c16-91bd-7cd918859007",
   "metadata": {},
   "outputs": [],
   "source": [
    "# | default_exp inspect.any_model"
   ]
  },
  {
   "cell_type": "markdown",
   "id": "16b14767-ac6e-4dd1-b54d-3118b0e4c07f",
   "metadata": {},
   "source": [
    "# Any Model\n",
    "\n",
    "> Inspector functionality for any model"
   ]
  },
  {
   "cell_type": "code",
   "execution_count": 3,
   "id": "e387307d-2fa1-49bd-a0c1-76f7bdcd3739",
   "metadata": {},
   "outputs": [],
   "source": [
    "# | export\n",
    "from typing import Optional\n",
    "\n",
    "import pandas as pd\n",
    "from fastcore.basics import basic_repr, store_attr\n",
    "from matplotlib.axes import Axes\n",
    "from numpy.typing import NDArray\n",
    "from sklearn.base import BaseEstimator\n",
    "from sklearn.dummy import DummyClassifier, DummyRegressor\n",
    "import sklearn.inspection\n",
    "from sklearn.utils import check_X_y\n",
    "from sklearn.utils.validation import check_is_fitted\n",
    "\n",
    "from model_inspector.delegate import delegates\n",
    "from model_inspector.explore import plot_column_clusters, show_correlation"
   ]
  },
  {
   "cell_type": "code",
   "execution_count": 4,
   "id": "9d7ce891-381e-4fc4-96d1-a707e8d549bd",
   "metadata": {},
   "outputs": [],
   "source": [
    "# | export\n",
    "class _Inspector:\n",
    "    \"\"\"Model inspector base class.\n",
    "\n",
    "    Users should use `get_inspector` to generate appropriate\n",
    "    `_Inspector` objects rather than instantiating this class or its\n",
    "    subclasses directly.\n",
    "    \"\"\"\n",
    "\n",
    "    def __init__(self, model: BaseEstimator, X: pd.DataFrame, y: pd.Series):\n",
    "        check_is_fitted(model)\n",
    "        check_X_y(X, y)\n",
    "        if not isinstance(model, (DummyClassifier, DummyRegressor)):\n",
    "            model._check_n_features(X, reset=False)\n",
    "\n",
    "        store_attr()\n",
    "\n",
    "    __repr__ = basic_repr([\"model\"])\n",
    "\n",
    "    @delegates(sklearn.inspection.PartialDependenceDisplay.from_estimator)\n",
    "    def plot_partial_dependence(self, **kwargs) -> NDArray[Axes]:\n",
    "        \"\"\"Plot partial dependence.\"\"\"\n",
    "        return sklearn.inspection.PartialDependenceDisplay.from_estimator(\n",
    "            estimator=self.model, X=self.X, **kwargs\n",
    "        ).axes_\n",
    "\n",
    "    @delegates(sklearn.inspection.permutation_importance)\n",
    "    def permutation_importance(\n",
    "        self,\n",
    "        sort: bool = True,\n",
    "        **kwargs,\n",
    "    ) -> pd.Series:\n",
    "        \"\"\"Calculate permutation importance.\n",
    "\n",
    "        Parameters:\n",
    "\n",
    "        - `sort`: Sort features by decreasing importance.\n",
    "        \"\"\"\n",
    "        if kwargs is None:\n",
    "            kwargs = {}\n",
    "        kwargs = {**{\"n_jobs\": -1}, **kwargs}\n",
    "\n",
    "        importances = pd.Series(\n",
    "            sklearn.inspection.permutation_importance(\n",
    "                self.model, self.X, self.y, **kwargs\n",
    "            )[\"importances_mean\"],\n",
    "            index=self.X.columns,\n",
    "        )\n",
    "        if sort:\n",
    "            importances = importances.sort_values(ascending=False)\n",
    "        return importances\n",
    "\n",
    "    def plot_permutation_importance(\n",
    "        self,\n",
    "        ax: Optional[Axes] = None,\n",
    "        importance_kwargs: Optional[dict] = None,\n",
    "        plot_kwargs: Optional[dict] = None,\n",
    "    ) -> Axes:\n",
    "        \"\"\"Plot a correlation matrix for `self.X` and `self.y`.\n",
    "\n",
    "        Parameters:\n",
    "\n",
    "        - `ax`: Matplotlib `Axes` object. Plot will be added to this object\n",
    "        if provided; otherwise a new `Axes` object will be generated.\n",
    "        - `importance_kwargs`: kwargs to pass to\n",
    "        `sklearn.inspection.permutation_importance`\n",
    "        - `plot_kwargs`: kwargs to pass to `pd.Series.plot.barh`\n",
    "        \"\"\"\n",
    "        if importance_kwargs is None:\n",
    "            importance_kwargs = {}\n",
    "        # reversing the order to compensate for `barh` reversing it\n",
    "        importance = self.permutation_importance(**importance_kwargs).iloc[::-1]\n",
    "\n",
    "        if plot_kwargs is None:\n",
    "            plot_kwargs = {}\n",
    "        ax = importance.plot.barh(**plot_kwargs)\n",
    "        ax.set(title=\"Feature importances\")\n",
    "        ax.bar_label(ax.containers[0], fmt=\"%.2f\")\n",
    "        # extending plot on the right to accommodate labels\n",
    "        ax.set_xlim((ax.get_xlim()[0], ax.get_xlim()[1] * 1.05))\n",
    "        return ax\n",
    "\n",
    "    @delegates(show_correlation)\n",
    "    def show_correlation(self, **kwargs):\n",
    "        \"\"\"Show a correlation matrix for `self.X` and `self.y`.\n",
    "\n",
    "        If output is not rendering properly when you reopen a notebook,\n",
    "        make sure the notebook is trusted.\n",
    "        \"\"\"\n",
    "        return show_correlation(\n",
    "            df=pd.concat((self.X, self.y), axis=\"columns\"),\n",
    "            **kwargs,\n",
    "        )\n",
    "\n",
    "    @delegates(plot_column_clusters)\n",
    "    def plot_feature_clusters(self, **kwargs) -> Axes:\n",
    "        \"\"\"Plot a dendrogram based on feature correlations.\n",
    "\n",
    "        Parameters:\n",
    "\n",
    "        - `corr_method`: Method of correlation to pass to `df.corr()`\n",
    "        - `ax`: Matplotlib `Axes` object. Plot will be added to this object\n",
    "        if provided; otherwise a new `Axes` object will be generated.\n",
    "        \"\"\"\n",
    "        return plot_column_clusters(self.X, **kwargs)\n",
    "\n",
    "    @property\n",
    "    def methods(self):\n",
    "        \"\"\"Show available methods.\"\"\"\n",
    "        return [\n",
    "            i\n",
    "            for i in dir(self)\n",
    "            if not i.startswith(\"__\")\n",
    "            and i not in self.__stored_args__\n",
    "            and i != \"methods\"\n",
    "        ]"
   ]
  },
  {
   "cell_type": "code",
   "execution_count": 5,
   "id": "0d769eb0-0e80-483c-9bbf-0936890cebd4",
   "metadata": {},
   "outputs": [],
   "source": [
    "# | export\n",
    "_all_ = [\"_Inspector\"]"
   ]
  },
  {
   "cell_type": "code",
   "execution_count": 6,
   "id": "97b3f645-c593-4188-a7fc-48ab1df42d87",
   "metadata": {
    "tags": []
   },
   "outputs": [],
   "source": [
    "import sklearn.datasets\n",
    "from sklearn.ensemble import RandomForestRegressor\n",
    "\n",
    "from model_inspector import get_inspector"
   ]
  },
  {
   "cell_type": "code",
   "execution_count": 7,
   "id": "7b82bcaf-07a1-4026-a011-4c9bc0bba5cc",
   "metadata": {
    "tags": []
   },
   "outputs": [],
   "source": [
    "X_diabetes, y_diabetes = sklearn.datasets.load_diabetes(return_X_y=True, as_frame=True)\n",
    "\n",
    "inspector = get_inspector(\n",
    "    RandomForestRegressor().fit(X_diabetes, y_diabetes), X_diabetes, y_diabetes\n",
    ")"
   ]
  },
  {
   "cell_type": "code",
   "execution_count": 8,
   "id": "cfb0ca51-9927-4bb7-8045-9cc21e56f0ee",
   "metadata": {},
   "outputs": [],
   "source": [
    "# | hide\n",
    "import warnings\n",
    "\n",
    "from fastcore.test import test_fig_exists\n",
    "from nbdev import show_doc\n",
    "import sklearn.datasets\n",
    "from sklearn.discriminant_analysis import QuadraticDiscriminantAnalysis\n",
    "from sklearn.ensemble import (\n",
    "    AdaBoostClassifier,\n",
    "    RandomForestClassifier,\n",
    ")\n",
    "from sklearn.linear_model import LinearRegression, LogisticRegression, Ridge\n",
    "from sklearn.naive_bayes import GaussianNB\n",
    "from sklearn.neighbors import KNeighborsClassifier, KNeighborsRegressor\n",
    "from sklearn.neural_network import MLPClassifier\n",
    "from sklearn.tree import DecisionTreeClassifier\n",
    "from sklearn.svm import SVC, SVR"
   ]
  },
  {
   "cell_type": "code",
   "execution_count": 9,
   "id": "806ace4c-852b-4c2f-a635-160dd747a25e",
   "metadata": {
    "tags": []
   },
   "outputs": [
    {
     "data": {
      "text/markdown": [
       "---\n",
       "\n",
       "[source](https://github.com/gsganden/model_inspector/tree/main/blob/main/model_inspector/inspect/any_model.py#L130){target=\"_blank\" style=\"float:right; font-size:smaller\"}\n",
       "\n",
       "### _Inspector.methods\n",
       "\n",
       ">      _Inspector.methods ()\n",
       "\n",
       "Show available methods."
      ],
      "text/plain": [
       "---\n",
       "\n",
       "[source](https://github.com/gsganden/model_inspector/tree/main/blob/main/model_inspector/inspect/any_model.py#L130){target=\"_blank\" style=\"float:right; font-size:smaller\"}\n",
       "\n",
       "### _Inspector.methods\n",
       "\n",
       ">      _Inspector.methods ()\n",
       "\n",
       "Show available methods."
      ]
     },
     "execution_count": 9,
     "metadata": {},
     "output_type": "execute_result"
    }
   ],
   "source": [
    "show_doc(_Inspector.methods, name=\"_Inspector.methods\")"
   ]
  },
  {
   "cell_type": "code",
   "execution_count": 10,
   "id": "994b33a1-7db9-4ff7-822b-4ddeac79cb9e",
   "metadata": {
    "tags": []
   },
   "outputs": [
    {
     "data": {
      "text/plain": [
       "['permutation_importance',\n",
       " 'plot_feature_clusters',\n",
       " 'plot_partial_dependence',\n",
       " 'plot_permutation_importance',\n",
       " 'plot_pred_vs_act',\n",
       " 'plot_residuals',\n",
       " 'show_correlation']"
      ]
     },
     "execution_count": 10,
     "metadata": {},
     "output_type": "execute_result"
    }
   ],
   "source": [
    "inspector.methods"
   ]
  },
  {
   "cell_type": "code",
   "execution_count": 11,
   "id": "3ea1e61c-264e-4c68-b192-c7958ca82c8a",
   "metadata": {
    "tags": []
   },
   "outputs": [
    {
     "data": {
      "text/markdown": [
       "---\n",
       "\n",
       "[source](https://github.com/gsganden/model_inspector/tree/main/blob/main/model_inspector/inspect/any_model.py#L50){target=\"_blank\" style=\"float:right; font-size:smaller\"}\n",
       "\n",
       "### _Inspector.permutation_importance\n",
       "\n",
       ">      _Inspector.permutation_importance (sort:bool=True, scoring=None,\n",
       ">                                         n_repeats=5, n_jobs=None,\n",
       ">                                         random_state=None, sample_weight=None,\n",
       ">                                         max_samples=1.0)\n",
       "\n",
       "Calculate permutation importance.\n",
       "\n",
       "Parameters:\n",
       "\n",
       "- `sort`: Sort features by decreasing importance.\n",
       "\n",
       "Remaining parameters are passed to `sklearn.inspection._permutation_importance.permutation_importance`."
      ],
      "text/plain": [
       "---\n",
       "\n",
       "[source](https://github.com/gsganden/model_inspector/tree/main/blob/main/model_inspector/inspect/any_model.py#L50){target=\"_blank\" style=\"float:right; font-size:smaller\"}\n",
       "\n",
       "### _Inspector.permutation_importance\n",
       "\n",
       ">      _Inspector.permutation_importance (sort:bool=True, scoring=None,\n",
       ">                                         n_repeats=5, n_jobs=None,\n",
       ">                                         random_state=None, sample_weight=None,\n",
       ">                                         max_samples=1.0)\n",
       "\n",
       "Calculate permutation importance.\n",
       "\n",
       "Parameters:\n",
       "\n",
       "- `sort`: Sort features by decreasing importance.\n",
       "\n",
       "Remaining parameters are passed to `sklearn.inspection._permutation_importance.permutation_importance`."
      ]
     },
     "execution_count": 11,
     "metadata": {},
     "output_type": "execute_result"
    }
   ],
   "source": [
    "show_doc(_Inspector.permutation_importance)"
   ]
  },
  {
   "cell_type": "code",
   "execution_count": 12,
   "id": "3c253472-47f5-41ac-8a16-b0fba0243064",
   "metadata": {
    "tags": []
   },
   "outputs": [
    {
     "data": {
      "text/plain": [
       "bmi    0.496113\n",
       "s5     0.494276\n",
       "bp     0.152335\n",
       "s6     0.096690\n",
       "age    0.080682\n",
       "s3     0.072418\n",
       "s2     0.061840\n",
       "s1     0.053445\n",
       "s4     0.026454\n",
       "sex    0.020899\n",
       "dtype: float64"
      ]
     },
     "execution_count": 12,
     "metadata": {},
     "output_type": "execute_result"
    }
   ],
   "source": [
    "inspector.permutation_importance()"
   ]
  },
  {
   "cell_type": "code",
   "execution_count": 13,
   "id": "1ffe58c8-ce01-4616-886f-d5d3e07a2d7d",
   "metadata": {},
   "outputs": [
    {
     "data": {
      "text/markdown": [
       "---\n",
       "\n",
       "[source](https://github.com/gsganden/model_inspector/tree/main/blob/main/model_inspector/inspect/any_model.py#L43){target=\"_blank\" style=\"float:right; font-size:smaller\"}\n",
       "\n",
       "### _Inspector.plot_partial_dependence\n",
       "\n",
       ">      _Inspector.plot_partial_dependence (categorical_features=None,\n",
       ">                                          feature_names=None, target=None,\n",
       ">                                          response_method='auto', n_cols=3,\n",
       ">                                          grid_resolution=100,\n",
       ">                                          percentiles=(0.05, 0.95),\n",
       ">                                          method='auto', n_jobs=None,\n",
       ">                                          verbose=0, line_kw=None,\n",
       ">                                          ice_lines_kw=None, pd_line_kw=None,\n",
       ">                                          contour_kw=None, ax=None,\n",
       ">                                          kind='average', centered=False,\n",
       ">                                          subsample=1000, random_state=None)\n",
       "\n",
       "Plot partial dependence.\n",
       "\n",
       "Remaining parameters are passed to `sklearn.inspection._plot.partial_dependence.from_estimator`."
      ],
      "text/plain": [
       "---\n",
       "\n",
       "[source](https://github.com/gsganden/model_inspector/tree/main/blob/main/model_inspector/inspect/any_model.py#L43){target=\"_blank\" style=\"float:right; font-size:smaller\"}\n",
       "\n",
       "### _Inspector.plot_partial_dependence\n",
       "\n",
       ">      _Inspector.plot_partial_dependence (categorical_features=None,\n",
       ">                                          feature_names=None, target=None,\n",
       ">                                          response_method='auto', n_cols=3,\n",
       ">                                          grid_resolution=100,\n",
       ">                                          percentiles=(0.05, 0.95),\n",
       ">                                          method='auto', n_jobs=None,\n",
       ">                                          verbose=0, line_kw=None,\n",
       ">                                          ice_lines_kw=None, pd_line_kw=None,\n",
       ">                                          contour_kw=None, ax=None,\n",
       ">                                          kind='average', centered=False,\n",
       ">                                          subsample=1000, random_state=None)\n",
       "\n",
       "Plot partial dependence.\n",
       "\n",
       "Remaining parameters are passed to `sklearn.inspection._plot.partial_dependence.from_estimator`."
      ]
     },
     "execution_count": 13,
     "metadata": {},
     "output_type": "execute_result"
    }
   ],
   "source": [
    "show_doc(_Inspector.plot_partial_dependence)"
   ]
  },
  {
   "cell_type": "code",
   "execution_count": 14,
   "id": "36bd8a8b-5d5a-460d-8747-b07330f6b85d",
   "metadata": {
    "tags": []
   },
   "outputs": [
    {
     "data": {
      "image/png": "[encoded data removed]",
      "text/plain": [
       "<Figure size 640x480 with 4 Axes>"
      ]
     },
     "metadata": {},
     "output_type": "display_data"
    }
   ],
   "source": [
    "axes = inspector.plot_partial_dependence(features=[\"bp\", \"bmi\", [\"bp\", \"bmi\"]])"
   ]
  },
  {
   "cell_type": "code",
   "execution_count": 15,
   "id": "b1eae7bc-53ed-49be-9629-2bb3f64b09fe",
   "metadata": {
    "tags": []
   },
   "outputs": [],
   "source": [
    "# | hide\n",
    "test_fig_exists(axes[0][0])"
   ]
  },
  {
   "cell_type": "code",
   "execution_count": 16,
   "id": "2603ce7f-e2cb-4abe-a04a-4c4e54de7af6",
   "metadata": {
    "tags": []
   },
   "outputs": [
    {
     "data": {
      "text/markdown": [
       "---\n",
       "\n",
       "[source](https://github.com/gsganden/model_inspector/tree/main/blob/main/model_inspector/inspect/any_model.py#L118){target=\"_blank\" style=\"float:right; font-size:smaller\"}\n",
       "\n",
       "### _Inspector.plot_feature_clusters\n",
       "\n",
       ">      _Inspector.plot_feature_clusters (corr_method:str='spearman',\n",
       ">                                        ax:matplotlib.axes._axes.Axes=None,\n",
       ">                                        p=30, truncate_mode=None,\n",
       ">                                        color_threshold=None, get_leaves=True,\n",
       ">                                        orientation='top', labels=None,\n",
       ">                                        count_sort=False, distance_sort=False,\n",
       ">                                        show_leaf_counts=True, no_plot=False,\n",
       ">                                        no_labels=False, leaf_font_size=None,\n",
       ">                                        leaf_rotation=None,\n",
       ">                                        leaf_label_func=None,\n",
       ">                                        show_contracted=False,\n",
       ">                                        link_color_func=None,\n",
       ">                                        above_threshold_color='C0')\n",
       "\n",
       "Plot a dendrogram based on feature correlations.\n",
       "\n",
       "Parameters:\n",
       "\n",
       "- `corr_method`: Method of correlation to pass to `df.corr()`\n",
       "- `ax`: Matplotlib `Axes` object. Plot will be added to this object\n",
       "if provided; otherwise a new `Axes` object will be generated.\n",
       "\n",
       "Remaining parameters are passed to `model_inspector.explore.plot_column_clusters`."
      ],
      "text/plain": [
       "---\n",
       "\n",
       "[source](https://github.com/gsganden/model_inspector/tree/main/blob/main/model_inspector/inspect/any_model.py#L118){target=\"_blank\" style=\"float:right; font-size:smaller\"}\n",
       "\n",
       "### _Inspector.plot_feature_clusters\n",
       "\n",
       ">      _Inspector.plot_feature_clusters (corr_method:str='spearman',\n",
       ">                                        ax:matplotlib.axes._axes.Axes=None,\n",
       ">                                        p=30, truncate_mode=None,\n",
       ">                                        color_threshold=None, get_leaves=True,\n",
       ">                                        orientation='top', labels=None,\n",
       ">                                        count_sort=False, distance_sort=False,\n",
       ">                                        show_leaf_counts=True, no_plot=False,\n",
       ">                                        no_labels=False, leaf_font_size=None,\n",
       ">                                        leaf_rotation=None,\n",
       ">                                        leaf_label_func=None,\n",
       ">                                        show_contracted=False,\n",
       ">                                        link_color_func=None,\n",
       ">                                        above_threshold_color='C0')\n",
       "\n",
       "Plot a dendrogram based on feature correlations.\n",
       "\n",
       "Parameters:\n",
       "\n",
       "- `corr_method`: Method of correlation to pass to `df.corr()`\n",
       "- `ax`: Matplotlib `Axes` object. Plot will be added to this object\n",
       "if provided; otherwise a new `Axes` object will be generated.\n",
       "\n",
       "Remaining parameters are passed to `model_inspector.explore.plot_column_clusters`."
      ]
     },
     "execution_count": 16,
     "metadata": {},
     "output_type": "execute_result"
    }
   ],
   "source": [
    "show_doc(_Inspector.plot_feature_clusters)"
   ]
  },
  {
   "cell_type": "code",
   "execution_count": 17,
   "id": "8dbda413-1dfb-4521-92e8-8f6e1ebe7a8b",
   "metadata": {
    "tags": []
   },
   "outputs": [
    {
     "data": {
      "image/png": "[encoded data removed]",
      "text/plain": [
       "<Figure size 640x480 with 1 Axes>"
      ]
     },
     "metadata": {},
     "output_type": "display_data"
    }
   ],
   "source": [
    "ax = inspector.plot_feature_clusters()"
   ]
  },
  {
   "cell_type": "code",
   "execution_count": 18,
   "id": "88a8626a-7c4f-407b-bc76-6fc1aa201f64",
   "metadata": {
    "tags": []
   },
   "outputs": [],
   "source": [
    "# | hide\n",
    "test_fig_exists(ax)"
   ]
  },
  {
   "cell_type": "code",
   "execution_count": 19,
   "id": "105858d4-fa07-4a22-92f2-9ca5dafb35dc",
   "metadata": {
    "tags": []
   },
   "outputs": [
    {
     "data": {
      "text/markdown": [
       "---\n",
       "\n",
       "[source](https://github.com/gsganden/model_inspector/tree/main/blob/main/model_inspector/inspect/any_model.py#L75){target=\"_blank\" style=\"float:right; font-size:smaller\"}\n",
       "\n",
       "### _Inspector.plot_permutation_importance\n",
       "\n",
       ">      _Inspector.plot_permutation_importance\n",
       ">                                              (ax:Optional[matplotlib.axes._axe\n",
       ">                                              s.Axes]=None, importance_kwargs:O\n",
       ">                                              ptional[dict]=None,\n",
       ">                                              plot_kwargs:Optional[dict]=None)\n",
       "\n",
       "Plot a correlation matrix for `self.X` and `self.y`.\n",
       "\n",
       "Parameters:\n",
       "\n",
       "- `ax`: Matplotlib `Axes` object. Plot will be added to this object\n",
       "if provided; otherwise a new `Axes` object will be generated.\n",
       "- `importance_kwargs`: kwargs to pass to\n",
       "`sklearn.inspection.permutation_importance`\n",
       "- `plot_kwargs`: kwargs to pass to `pd.Series.plot.barh`"
      ],
      "text/plain": [
       "---\n",
       "\n",
       "[source](https://github.com/gsganden/model_inspector/tree/main/blob/main/model_inspector/inspect/any_model.py#L75){target=\"_blank\" style=\"float:right; font-size:smaller\"}\n",
       "\n",
       "### _Inspector.plot_permutation_importance\n",
       "\n",
       ">      _Inspector.plot_permutation_importance\n",
       ">                                              (ax:Optional[matplotlib.axes._axe\n",
       ">                                              s.Axes]=None, importance_kwargs:O\n",
       ">                                              ptional[dict]=None,\n",
       ">                                              plot_kwargs:Optional[dict]=None)\n",
       "\n",
       "Plot a correlation matrix for `self.X` and `self.y`.\n",
       "\n",
       "Parameters:\n",
       "\n",
       "- `ax`: Matplotlib `Axes` object. Plot will be added to this object\n",
       "if provided; otherwise a new `Axes` object will be generated.\n",
       "- `importance_kwargs`: kwargs to pass to\n",
       "`sklearn.inspection.permutation_importance`\n",
       "- `plot_kwargs`: kwargs to pass to `pd.Series.plot.barh`"
      ]
     },
     "execution_count": 19,
     "metadata": {},
     "output_type": "execute_result"
    }
   ],
   "source": [
    "show_doc(_Inspector.plot_permutation_importance)"
   ]
  },
  {
   "cell_type": "code",
   "execution_count": 20,
   "id": "b7032d14-ed8a-462e-8d22-dcdad595f55a",
   "metadata": {
    "tags": []
   },
   "outputs": [
    {
     "data": {
      "image/png": "[encoded data removed]",
      "text/plain": [
       "<Figure size 640x480 with 1 Axes>"
      ]
     },
     "metadata": {},
     "output_type": "display_data"
    }
   ],
   "source": [
    "ax = inspector.plot_permutation_importance()"
   ]
  },
  {
   "cell_type": "code",
   "execution_count": 21,
   "id": "1fc63d30-d812-435e-bd48-bccfc8086883",
   "metadata": {
    "tags": []
   },
   "outputs": [],
   "source": [
    "# | hide\n",
    "test_fig_exists(ax)"
   ]
  },
  {
   "cell_type": "code",
   "execution_count": 22,
   "id": "ebcca560-f344-474f-88c7-8bbf28dbd0e8",
   "metadata": {
    "tags": []
   },
   "outputs": [
    {
     "data": {
      "text/markdown": [
       "---\n",
       "\n",
       "[source](https://github.com/gsganden/model_inspector/tree/main/blob/main/model_inspector/inspect/any_model.py#L106){target=\"_blank\" style=\"float:right; font-size:smaller\"}\n",
       "\n",
       "### _Inspector.show_correlation\n",
       "\n",
       ">      _Inspector.show_correlation (method='pearson', cmap='PuBu', low:float=0,\n",
       ">                                   high:float=0, axis:Axis|None=0,\n",
       ">                                   subset:Subset|None=None,\n",
       ">                                   text_color_threshold:float=0.408,\n",
       ">                                   vmin:float|None=None, vmax:float|None=None,\n",
       ">                                   gmap:Sequence|None=None)\n",
       "\n",
       "Show a correlation matrix for `self.X` and `self.y`.\n",
       "\n",
       "If output is not rendering properly when you reopen a notebook,\n",
       "make sure the notebook is trusted.\n",
       "\n",
       "Remaining parameters are passed to `model_inspector.explore.show_correlation`."
      ],
      "text/plain": [
       "---\n",
       "\n",
       "[source](https://github.com/gsganden/model_inspector/tree/main/blob/main/model_inspector/inspect/any_model.py#L106){target=\"_blank\" style=\"float:right; font-size:smaller\"}\n",
       "\n",
       "### _Inspector.show_correlation\n",
       "\n",
       ">      _Inspector.show_correlation (method='pearson', cmap='PuBu', low:float=0,\n",
       ">                                   high:float=0, axis:Axis|None=0,\n",
       ">                                   subset:Subset|None=None,\n",
       ">                                   text_color_threshold:float=0.408,\n",
       ">                                   vmin:float|None=None, vmax:float|None=None,\n",
       ">                                   gmap:Sequence|None=None)\n",
       "\n",
       "Show a correlation matrix for `self.X` and `self.y`.\n",
       "\n",
       "If output is not rendering properly when you reopen a notebook,\n",
       "make sure the notebook is trusted.\n",
       "\n",
       "Remaining parameters are passed to `model_inspector.explore.show_correlation`."
      ]
     },
     "execution_count": 22,
     "metadata": {},
     "output_type": "execute_result"
    }
   ],
   "source": [
    "show_doc(_Inspector.show_correlation)"
   ]
  },
  {
   "cell_type": "code",
   "execution_count": 23,
   "id": "d9b4e335-8749-472d-934e-c8abc010ad9a",
   "metadata": {},
   "outputs": [
    {
     "data": {
      "text/html": [
       "<style type=\"text/css\">\n",
       "#T_7a057_row0_col0, #T_7a057_row1_col1, #T_7a057_row2_col2, #T_7a057_row3_col3, #T_7a057_row4_col4, #T_7a057_row5_col5, #T_7a057_row6_col6, #T_7a057_row7_col7, #T_7a057_row8_col8, #T_7a057_row9_col9, #T_7a057_row10_col10 {\n",
       "  background-color: #ff0000;\n",
       "  color: #f1f1f1;\n",
       "}\n",
       "#T_7a057_row0_col1, #T_7a057_row1_col0, #T_7a057_row5_col10, #T_7a057_row10_col5 {\n",
       "  background-color: #ffd2d2;\n",
       "  color: #000000;\n",
       "}\n",
       "#T_7a057_row0_col2, #T_7a057_row2_col0, #T_7a057_row3_col5, #T_7a057_row5_col3 {\n",
       "  background-color: #ffd0d0;\n",
       "  color: #000000;\n",
       "}\n",
       "#T_7a057_row0_col3, #T_7a057_row1_col7, #T_7a057_row3_col0, #T_7a057_row7_col1 {\n",
       "  background-color: #ffaaaa;\n",
       "  color: #000000;\n",
       "}\n",
       "#T_7a057_row0_col4, #T_7a057_row2_col5, #T_7a057_row4_col0, #T_7a057_row5_col2 {\n",
       "  background-color: #ffbcbc;\n",
       "  color: #000000;\n",
       "}\n",
       "#T_7a057_row0_col5, #T_7a057_row5_col0 {\n",
       "  background-color: #ffc6c6;\n",
       "  color: #000000;\n",
       "}\n",
       "#T_7a057_row0_col6, #T_7a057_row6_col0 {\n",
       "  background-color: #ececff;\n",
       "  color: #000000;\n",
       "}\n",
       "#T_7a057_row0_col7, #T_7a057_row1_col9, #T_7a057_row7_col0, #T_7a057_row9_col1 {\n",
       "  background-color: #ffcaca;\n",
       "  color: #000000;\n",
       "}\n",
       "#T_7a057_row0_col8, #T_7a057_row8_col0 {\n",
       "  background-color: #ffbaba;\n",
       "  color: #000000;\n",
       "}\n",
       "#T_7a057_row0_col9, #T_7a057_row9_col0 {\n",
       "  background-color: #ffb2b2;\n",
       "  color: #000000;\n",
       "}\n",
       "#T_7a057_row0_col10, #T_7a057_row10_col0 {\n",
       "  background-color: #ffcece;\n",
       "  color: #000000;\n",
       "}\n",
       "#T_7a057_row1_col2, #T_7a057_row2_col1 {\n",
       "  background-color: #ffe8e8;\n",
       "  color: #000000;\n",
       "}\n",
       "#T_7a057_row1_col3, #T_7a057_row3_col1 {\n",
       "  background-color: #ffc2c2;\n",
       "  color: #000000;\n",
       "}\n",
       "#T_7a057_row1_col4, #T_7a057_row4_col1 {\n",
       "  background-color: #fff6f6;\n",
       "  color: #000000;\n",
       "}\n",
       "#T_7a057_row1_col5, #T_7a057_row5_col1 {\n",
       "  background-color: #ffdada;\n",
       "  color: #000000;\n",
       "}\n",
       "#T_7a057_row1_col6, #T_7a057_row6_col1 {\n",
       "  background-color: #9e9eff;\n",
       "  color: #f1f1f1;\n",
       "}\n",
       "#T_7a057_row1_col8, #T_7a057_row8_col1 {\n",
       "  background-color: #ffd8d8;\n",
       "  color: #000000;\n",
       "}\n",
       "#T_7a057_row1_col10, #T_7a057_row10_col1 {\n",
       "  background-color: #fff4f4;\n",
       "  color: #000000;\n",
       "}\n",
       "#T_7a057_row2_col3, #T_7a057_row3_col2, #T_7a057_row3_col8, #T_7a057_row8_col3 {\n",
       "  background-color: #ff9a9a;\n",
       "  color: #000000;\n",
       "}\n",
       "#T_7a057_row2_col4, #T_7a057_row3_col4, #T_7a057_row4_col2, #T_7a057_row4_col3 {\n",
       "  background-color: #ffc0c0;\n",
       "  color: #000000;\n",
       "}\n",
       "#T_7a057_row2_col6, #T_7a057_row6_col2 {\n",
       "  background-color: #a2a2ff;\n",
       "  color: #f1f1f1;\n",
       "}\n",
       "#T_7a057_row2_col7, #T_7a057_row7_col2 {\n",
       "  background-color: #ff9696;\n",
       "  color: #000000;\n",
       "}\n",
       "#T_7a057_row2_col8, #T_7a057_row8_col2 {\n",
       "  background-color: #ff8c8c;\n",
       "  color: #000000;\n",
       "}\n",
       "#T_7a057_row2_col9, #T_7a057_row3_col9, #T_7a057_row9_col2, #T_7a057_row9_col3 {\n",
       "  background-color: #ff9c9c;\n",
       "  color: #000000;\n",
       "}\n",
       "#T_7a057_row2_col10, #T_7a057_row10_col2 {\n",
       "  background-color: #ff6868;\n",
       "  color: #f1f1f1;\n",
       "}\n",
       "#T_7a057_row3_col6, #T_7a057_row6_col3 {\n",
       "  background-color: #d2d2ff;\n",
       "  color: #000000;\n",
       "}\n",
       "#T_7a057_row3_col7, #T_7a057_row7_col3 {\n",
       "  background-color: #ffbebe;\n",
       "  color: #000000;\n",
       "}\n",
       "#T_7a057_row3_col10, #T_7a057_row10_col3 {\n",
       "  background-color: #ff8e8e;\n",
       "  color: #000000;\n",
       "}\n",
       "#T_7a057_row4_col5, #T_7a057_row5_col4 {\n",
       "  background-color: #ff1a1a;\n",
       "  color: #f1f1f1;\n",
       "}\n",
       "#T_7a057_row4_col6, #T_7a057_row6_col4 {\n",
       "  background-color: #fff2f2;\n",
       "  color: #000000;\n",
       "}\n",
       "#T_7a057_row4_col7, #T_7a057_row7_col4 {\n",
       "  background-color: #ff7474;\n",
       "  color: #f1f1f1;\n",
       "}\n",
       "#T_7a057_row4_col8, #T_7a057_row8_col4 {\n",
       "  background-color: #ff7c7c;\n",
       "  color: #f1f1f1;\n",
       "}\n",
       "#T_7a057_row4_col9, #T_7a057_row9_col4 {\n",
       "  background-color: #ffacac;\n",
       "  color: #000000;\n",
       "}\n",
       "#T_7a057_row4_col10, #T_7a057_row10_col4 {\n",
       "  background-color: #ffc8c8;\n",
       "  color: #000000;\n",
       "}\n",
       "#T_7a057_row5_col6, #T_7a057_row6_col5 {\n",
       "  background-color: #ccccff;\n",
       "  color: #000000;\n",
       "}\n",
       "#T_7a057_row5_col7, #T_7a057_row7_col5 {\n",
       "  background-color: #ff5656;\n",
       "  color: #f1f1f1;\n",
       "}\n",
       "#T_7a057_row5_col8, #T_7a057_row8_col5 {\n",
       "  background-color: #ffaeae;\n",
       "  color: #000000;\n",
       "}\n",
       "#T_7a057_row5_col9, #T_7a057_row9_col5 {\n",
       "  background-color: #ffb4b4;\n",
       "  color: #000000;\n",
       "}\n",
       "#T_7a057_row6_col7, #T_7a057_row7_col6 {\n",
       "  background-color: #4242ff;\n",
       "  color: #f1f1f1;\n",
       "}\n",
       "#T_7a057_row6_col8, #T_7a057_row8_col6 {\n",
       "  background-color: #9898ff;\n",
       "  color: #f1f1f1;\n",
       "}\n",
       "#T_7a057_row6_col9, #T_7a057_row9_col6 {\n",
       "  background-color: #b8b8ff;\n",
       "  color: #000000;\n",
       "}\n",
       "#T_7a057_row6_col10, #T_7a057_row10_col6 {\n",
       "  background-color: #9a9aff;\n",
       "  color: #f1f1f1;\n",
       "}\n",
       "#T_7a057_row7_col8, #T_7a057_row8_col7 {\n",
       "  background-color: #ff6060;\n",
       "  color: #f1f1f1;\n",
       "}\n",
       "#T_7a057_row7_col9, #T_7a057_row9_col7 {\n",
       "  background-color: #ff9494;\n",
       "  color: #000000;\n",
       "}\n",
       "#T_7a057_row7_col10, #T_7a057_row10_col7 {\n",
       "  background-color: #ff9090;\n",
       "  color: #000000;\n",
       "}\n",
       "#T_7a057_row8_col9, #T_7a057_row9_col8 {\n",
       "  background-color: #ff8888;\n",
       "  color: #f1f1f1;\n",
       "}\n",
       "#T_7a057_row8_col10, #T_7a057_row10_col8 {\n",
       "  background-color: #ff6e6e;\n",
       "  color: #f1f1f1;\n",
       "}\n",
       "#T_7a057_row9_col10, #T_7a057_row10_col9 {\n",
       "  background-color: #ff9e9e;\n",
       "  color: #000000;\n",
       "}\n",
       "</style>\n",
       "<table id=\"T_7a057\">\n",
       "  <thead>\n",
       "    <tr>\n",
       "      <th class=\"blank level0\" >&nbsp;</th>\n",
       "      <th id=\"T_7a057_level0_col0\" class=\"col_heading level0 col0\" >age</th>\n",
       "      <th id=\"T_7a057_level0_col1\" class=\"col_heading level0 col1\" >sex</th>\n",
       "      <th id=\"T_7a057_level0_col2\" class=\"col_heading level0 col2\" >bmi</th>\n",
       "      <th id=\"T_7a057_level0_col3\" class=\"col_heading level0 col3\" >bp</th>\n",
       "      <th id=\"T_7a057_level0_col4\" class=\"col_heading level0 col4\" >s1</th>\n",
       "      <th id=\"T_7a057_level0_col5\" class=\"col_heading level0 col5\" >s2</th>\n",
       "      <th id=\"T_7a057_level0_col6\" class=\"col_heading level0 col6\" >s3</th>\n",
       "      <th id=\"T_7a057_level0_col7\" class=\"col_heading level0 col7\" >s4</th>\n",
       "      <th id=\"T_7a057_level0_col8\" class=\"col_heading level0 col8\" >s5</th>\n",
       "      <th id=\"T_7a057_level0_col9\" class=\"col_heading level0 col9\" >s6</th>\n",
       "      <th id=\"T_7a057_level0_col10\" class=\"col_heading level0 col10\" >target</th>\n",
       "    </tr>\n",
       "  </thead>\n",
       "  <tbody>\n",
       "    <tr>\n",
       "      <th id=\"T_7a057_level0_row0\" class=\"row_heading level0 row0\" >age</th>\n",
       "      <td id=\"T_7a057_row0_col0\" class=\"data row0 col0\" >1.00</td>\n",
       "      <td id=\"T_7a057_row0_col1\" class=\"data row0 col1\" >0.17</td>\n",
       "      <td id=\"T_7a057_row0_col2\" class=\"data row0 col2\" >0.19</td>\n",
       "      <td id=\"T_7a057_row0_col3\" class=\"data row0 col3\" >0.34</td>\n",
       "      <td id=\"T_7a057_row0_col4\" class=\"data row0 col4\" >0.26</td>\n",
       "      <td id=\"T_7a057_row0_col5\" class=\"data row0 col5\" >0.22</td>\n",
       "      <td id=\"T_7a057_row0_col6\" class=\"data row0 col6\" >-0.08</td>\n",
       "      <td id=\"T_7a057_row0_col7\" class=\"data row0 col7\" >0.20</td>\n",
       "      <td id=\"T_7a057_row0_col8\" class=\"data row0 col8\" >0.27</td>\n",
       "      <td id=\"T_7a057_row0_col9\" class=\"data row0 col9\" >0.30</td>\n",
       "      <td id=\"T_7a057_row0_col10\" class=\"data row0 col10\" >0.19</td>\n",
       "    </tr>\n",
       "    <tr>\n",
       "      <th id=\"T_7a057_level0_row1\" class=\"row_heading level0 row1\" >sex</th>\n",
       "      <td id=\"T_7a057_row1_col0\" class=\"data row1 col0\" >0.17</td>\n",
       "      <td id=\"T_7a057_row1_col1\" class=\"data row1 col1\" >1.00</td>\n",
       "      <td id=\"T_7a057_row1_col2\" class=\"data row1 col2\" >0.09</td>\n",
       "      <td id=\"T_7a057_row1_col3\" class=\"data row1 col3\" >0.24</td>\n",
       "      <td id=\"T_7a057_row1_col4\" class=\"data row1 col4\" >0.04</td>\n",
       "      <td id=\"T_7a057_row1_col5\" class=\"data row1 col5\" >0.14</td>\n",
       "      <td id=\"T_7a057_row1_col6\" class=\"data row1 col6\" >-0.38</td>\n",
       "      <td id=\"T_7a057_row1_col7\" class=\"data row1 col7\" >0.33</td>\n",
       "      <td id=\"T_7a057_row1_col8\" class=\"data row1 col8\" >0.15</td>\n",
       "      <td id=\"T_7a057_row1_col9\" class=\"data row1 col9\" >0.21</td>\n",
       "      <td id=\"T_7a057_row1_col10\" class=\"data row1 col10\" >0.04</td>\n",
       "    </tr>\n",
       "    <tr>\n",
       "      <th id=\"T_7a057_level0_row2\" class=\"row_heading level0 row2\" >bmi</th>\n",
       "      <td id=\"T_7a057_row2_col0\" class=\"data row2 col0\" >0.19</td>\n",
       "      <td id=\"T_7a057_row2_col1\" class=\"data row2 col1\" >0.09</td>\n",
       "      <td id=\"T_7a057_row2_col2\" class=\"data row2 col2\" >1.00</td>\n",
       "      <td id=\"T_7a057_row2_col3\" class=\"data row2 col3\" >0.40</td>\n",
       "      <td id=\"T_7a057_row2_col4\" class=\"data row2 col4\" >0.25</td>\n",
       "      <td id=\"T_7a057_row2_col5\" class=\"data row2 col5\" >0.26</td>\n",
       "      <td id=\"T_7a057_row2_col6\" class=\"data row2 col6\" >-0.37</td>\n",
       "      <td id=\"T_7a057_row2_col7\" class=\"data row2 col7\" >0.41</td>\n",
       "      <td id=\"T_7a057_row2_col8\" class=\"data row2 col8\" >0.45</td>\n",
       "      <td id=\"T_7a057_row2_col9\" class=\"data row2 col9\" >0.39</td>\n",
       "      <td id=\"T_7a057_row2_col10\" class=\"data row2 col10\" >0.59</td>\n",
       "    </tr>\n",
       "    <tr>\n",
       "      <th id=\"T_7a057_level0_row3\" class=\"row_heading level0 row3\" >bp</th>\n",
       "      <td id=\"T_7a057_row3_col0\" class=\"data row3 col0\" >0.34</td>\n",
       "      <td id=\"T_7a057_row3_col1\" class=\"data row3 col1\" >0.24</td>\n",
       "      <td id=\"T_7a057_row3_col2\" class=\"data row3 col2\" >0.40</td>\n",
       "      <td id=\"T_7a057_row3_col3\" class=\"data row3 col3\" >1.00</td>\n",
       "      <td id=\"T_7a057_row3_col4\" class=\"data row3 col4\" >0.24</td>\n",
       "      <td id=\"T_7a057_row3_col5\" class=\"data row3 col5\" >0.19</td>\n",
       "      <td id=\"T_7a057_row3_col6\" class=\"data row3 col6\" >-0.18</td>\n",
       "      <td id=\"T_7a057_row3_col7\" class=\"data row3 col7\" >0.26</td>\n",
       "      <td id=\"T_7a057_row3_col8\" class=\"data row3 col8\" >0.39</td>\n",
       "      <td id=\"T_7a057_row3_col9\" class=\"data row3 col9\" >0.39</td>\n",
       "      <td id=\"T_7a057_row3_col10\" class=\"data row3 col10\" >0.44</td>\n",
       "    </tr>\n",
       "    <tr>\n",
       "      <th id=\"T_7a057_level0_row4\" class=\"row_heading level0 row4\" >s1</th>\n",
       "      <td id=\"T_7a057_row4_col0\" class=\"data row4 col0\" >0.26</td>\n",
       "      <td id=\"T_7a057_row4_col1\" class=\"data row4 col1\" >0.04</td>\n",
       "      <td id=\"T_7a057_row4_col2\" class=\"data row4 col2\" >0.25</td>\n",
       "      <td id=\"T_7a057_row4_col3\" class=\"data row4 col3\" >0.24</td>\n",
       "      <td id=\"T_7a057_row4_col4\" class=\"data row4 col4\" >1.00</td>\n",
       "      <td id=\"T_7a057_row4_col5\" class=\"data row4 col5\" >0.90</td>\n",
       "      <td id=\"T_7a057_row4_col6\" class=\"data row4 col6\" >0.05</td>\n",
       "      <td id=\"T_7a057_row4_col7\" class=\"data row4 col7\" >0.54</td>\n",
       "      <td id=\"T_7a057_row4_col8\" class=\"data row4 col8\" >0.52</td>\n",
       "      <td id=\"T_7a057_row4_col9\" class=\"data row4 col9\" >0.33</td>\n",
       "      <td id=\"T_7a057_row4_col10\" class=\"data row4 col10\" >0.21</td>\n",
       "    </tr>\n",
       "    <tr>\n",
       "      <th id=\"T_7a057_level0_row5\" class=\"row_heading level0 row5\" >s2</th>\n",
       "      <td id=\"T_7a057_row5_col0\" class=\"data row5 col0\" >0.22</td>\n",
       "      <td id=\"T_7a057_row5_col1\" class=\"data row5 col1\" >0.14</td>\n",
       "      <td id=\"T_7a057_row5_col2\" class=\"data row5 col2\" >0.26</td>\n",
       "      <td id=\"T_7a057_row5_col3\" class=\"data row5 col3\" >0.19</td>\n",
       "      <td id=\"T_7a057_row5_col4\" class=\"data row5 col4\" >0.90</td>\n",
       "      <td id=\"T_7a057_row5_col5\" class=\"data row5 col5\" >1.00</td>\n",
       "      <td id=\"T_7a057_row5_col6\" class=\"data row5 col6\" >-0.20</td>\n",
       "      <td id=\"T_7a057_row5_col7\" class=\"data row5 col7\" >0.66</td>\n",
       "      <td id=\"T_7a057_row5_col8\" class=\"data row5 col8\" >0.32</td>\n",
       "      <td id=\"T_7a057_row5_col9\" class=\"data row5 col9\" >0.29</td>\n",
       "      <td id=\"T_7a057_row5_col10\" class=\"data row5 col10\" >0.17</td>\n",
       "    </tr>\n",
       "    <tr>\n",
       "      <th id=\"T_7a057_level0_row6\" class=\"row_heading level0 row6\" >s3</th>\n",
       "      <td id=\"T_7a057_row6_col0\" class=\"data row6 col0\" >-0.08</td>\n",
       "      <td id=\"T_7a057_row6_col1\" class=\"data row6 col1\" >-0.38</td>\n",
       "      <td id=\"T_7a057_row6_col2\" class=\"data row6 col2\" >-0.37</td>\n",
       "      <td id=\"T_7a057_row6_col3\" class=\"data row6 col3\" >-0.18</td>\n",
       "      <td id=\"T_7a057_row6_col4\" class=\"data row6 col4\" >0.05</td>\n",
       "      <td id=\"T_7a057_row6_col5\" class=\"data row6 col5\" >-0.20</td>\n",
       "      <td id=\"T_7a057_row6_col6\" class=\"data row6 col6\" >1.00</td>\n",
       "      <td id=\"T_7a057_row6_col7\" class=\"data row6 col7\" >-0.74</td>\n",
       "      <td id=\"T_7a057_row6_col8\" class=\"data row6 col8\" >-0.40</td>\n",
       "      <td id=\"T_7a057_row6_col9\" class=\"data row6 col9\" >-0.27</td>\n",
       "      <td id=\"T_7a057_row6_col10\" class=\"data row6 col10\" >-0.39</td>\n",
       "    </tr>\n",
       "    <tr>\n",
       "      <th id=\"T_7a057_level0_row7\" class=\"row_heading level0 row7\" >s4</th>\n",
       "      <td id=\"T_7a057_row7_col0\" class=\"data row7 col0\" >0.20</td>\n",
       "      <td id=\"T_7a057_row7_col1\" class=\"data row7 col1\" >0.33</td>\n",
       "      <td id=\"T_7a057_row7_col2\" class=\"data row7 col2\" >0.41</td>\n",
       "      <td id=\"T_7a057_row7_col3\" class=\"data row7 col3\" >0.26</td>\n",
       "      <td id=\"T_7a057_row7_col4\" class=\"data row7 col4\" >0.54</td>\n",
       "      <td id=\"T_7a057_row7_col5\" class=\"data row7 col5\" >0.66</td>\n",
       "      <td id=\"T_7a057_row7_col6\" class=\"data row7 col6\" >-0.74</td>\n",
       "      <td id=\"T_7a057_row7_col7\" class=\"data row7 col7\" >1.00</td>\n",
       "      <td id=\"T_7a057_row7_col8\" class=\"data row7 col8\" >0.62</td>\n",
       "      <td id=\"T_7a057_row7_col9\" class=\"data row7 col9\" >0.42</td>\n",
       "      <td id=\"T_7a057_row7_col10\" class=\"data row7 col10\" >0.43</td>\n",
       "    </tr>\n",
       "    <tr>\n",
       "      <th id=\"T_7a057_level0_row8\" class=\"row_heading level0 row8\" >s5</th>\n",
       "      <td id=\"T_7a057_row8_col0\" class=\"data row8 col0\" >0.27</td>\n",
       "      <td id=\"T_7a057_row8_col1\" class=\"data row8 col1\" >0.15</td>\n",
       "      <td id=\"T_7a057_row8_col2\" class=\"data row8 col2\" >0.45</td>\n",
       "      <td id=\"T_7a057_row8_col3\" class=\"data row8 col3\" >0.39</td>\n",
       "      <td id=\"T_7a057_row8_col4\" class=\"data row8 col4\" >0.52</td>\n",
       "      <td id=\"T_7a057_row8_col5\" class=\"data row8 col5\" >0.32</td>\n",
       "      <td id=\"T_7a057_row8_col6\" class=\"data row8 col6\" >-0.40</td>\n",
       "      <td id=\"T_7a057_row8_col7\" class=\"data row8 col7\" >0.62</td>\n",
       "      <td id=\"T_7a057_row8_col8\" class=\"data row8 col8\" >1.00</td>\n",
       "      <td id=\"T_7a057_row8_col9\" class=\"data row8 col9\" >0.46</td>\n",
       "      <td id=\"T_7a057_row8_col10\" class=\"data row8 col10\" >0.57</td>\n",
       "    </tr>\n",
       "    <tr>\n",
       "      <th id=\"T_7a057_level0_row9\" class=\"row_heading level0 row9\" >s6</th>\n",
       "      <td id=\"T_7a057_row9_col0\" class=\"data row9 col0\" >0.30</td>\n",
       "      <td id=\"T_7a057_row9_col1\" class=\"data row9 col1\" >0.21</td>\n",
       "      <td id=\"T_7a057_row9_col2\" class=\"data row9 col2\" >0.39</td>\n",
       "      <td id=\"T_7a057_row9_col3\" class=\"data row9 col3\" >0.39</td>\n",
       "      <td id=\"T_7a057_row9_col4\" class=\"data row9 col4\" >0.33</td>\n",
       "      <td id=\"T_7a057_row9_col5\" class=\"data row9 col5\" >0.29</td>\n",
       "      <td id=\"T_7a057_row9_col6\" class=\"data row9 col6\" >-0.27</td>\n",
       "      <td id=\"T_7a057_row9_col7\" class=\"data row9 col7\" >0.42</td>\n",
       "      <td id=\"T_7a057_row9_col8\" class=\"data row9 col8\" >0.46</td>\n",
       "      <td id=\"T_7a057_row9_col9\" class=\"data row9 col9\" >1.00</td>\n",
       "      <td id=\"T_7a057_row9_col10\" class=\"data row9 col10\" >0.38</td>\n",
       "    </tr>\n",
       "    <tr>\n",
       "      <th id=\"T_7a057_level0_row10\" class=\"row_heading level0 row10\" >target</th>\n",
       "      <td id=\"T_7a057_row10_col0\" class=\"data row10 col0\" >0.19</td>\n",
       "      <td id=\"T_7a057_row10_col1\" class=\"data row10 col1\" >0.04</td>\n",
       "      <td id=\"T_7a057_row10_col2\" class=\"data row10 col2\" >0.59</td>\n",
       "      <td id=\"T_7a057_row10_col3\" class=\"data row10 col3\" >0.44</td>\n",
       "      <td id=\"T_7a057_row10_col4\" class=\"data row10 col4\" >0.21</td>\n",
       "      <td id=\"T_7a057_row10_col5\" class=\"data row10 col5\" >0.17</td>\n",
       "      <td id=\"T_7a057_row10_col6\" class=\"data row10 col6\" >-0.39</td>\n",
       "      <td id=\"T_7a057_row10_col7\" class=\"data row10 col7\" >0.43</td>\n",
       "      <td id=\"T_7a057_row10_col8\" class=\"data row10 col8\" >0.57</td>\n",
       "      <td id=\"T_7a057_row10_col9\" class=\"data row10 col9\" >0.38</td>\n",
       "      <td id=\"T_7a057_row10_col10\" class=\"data row10 col10\" >1.00</td>\n",
       "    </tr>\n",
       "  </tbody>\n",
       "</table>\n"
      ],
      "text/plain": [
       "<pandas.io.formats.style.Styler at 0x17acfc850>"
      ]
     },
     "execution_count": 23,
     "metadata": {},
     "output_type": "execute_result"
    }
   ],
   "source": [
    "inspector.show_correlation()"
   ]
  },
  {
   "cell_type": "code",
   "execution_count": 24,
   "id": "99b350eb-08d9-4a92-93fa-d3a728bd35ed",
   "metadata": {
    "tags": []
   },
   "outputs": [],
   "source": [
    "# | hide\n",
    "REGRESSORS = [KNeighborsRegressor, SVR, RandomForestRegressor, LinearRegression, Ridge]\n",
    "CLASSIFIERS = [\n",
    "    MLPClassifier,\n",
    "    KNeighborsClassifier,\n",
    "    DecisionTreeClassifier,\n",
    "    RandomForestClassifier,\n",
    "    AdaBoostClassifier,\n",
    "    LogisticRegression,\n",
    "    GaussianNB,\n",
    "    QuadraticDiscriminantAnalysis,\n",
    "    SVC,\n",
    "]\n",
    "MODELS = REGRESSORS + CLASSIFIERS\n",
    "X_iris, y_iris = sklearn.datasets.load_iris(return_X_y=True, as_frame=True)\n",
    "\n",
    "with warnings.catch_warnings():\n",
    "    warnings.simplefilter(\"ignore\")\n",
    "    for model_class in MODELS:\n",
    "        model = model_class().fit(X_iris, y_iris)\n",
    "        for method in [\n",
    "            \"methods\",\n",
    "            \"permutation_importance\",\n",
    "            \"plot_partial_dependence\",\n",
    "            \"plot_feature_clusters\",\n",
    "            \"plot_permutation_importance\",\n",
    "            \"show_correlation\",\n",
    "        ]:\n",
    "            assert hasattr(get_inspector(model, X_iris, y_iris), method)"
   ]
  },
  {
   "cell_type": "code",
   "execution_count": null,
   "id": "62737cf6-6d06-43ff-b507-6d87539e371b",
   "metadata": {},
   "outputs": [],
   "source": []
  }
 ],
 "metadata": {
  "kernelspec": {
   "display_name": "Python 3 (ipykernel)",
   "language": "python",
   "name": "python3"
  },
  "language_info": {
   "codemirror_mode": {
    "name": "ipython",
    "version": 3
   },
   "file_extension": ".py",
   "mimetype": "text/x-python",
   "name": "python",
   "nbconvert_exporter": "python",
   "pygments_lexer": "ipython3",
   "version": "3.11.2"
  }
 },
 "nbformat": 4,
 "nbformat_minor": 5
}
