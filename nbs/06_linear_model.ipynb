{
 "cells": [
  {
   "cell_type": "code",
   "execution_count": 1,
   "id": "5d2ca12e-aaac-4d25-9796-4182b1fe1ab9",
   "metadata": {},
   "outputs": [],
   "source": [
    "# hide\n",
    "# skip\n",
    "! [ -e /content ] && pip install -Uqq model_inspector nbdev\n",
    "# For colab. Restart the runtime after running this cell!"
   ]
  },
  {
   "cell_type": "code",
   "execution_count": 22,
   "id": "158bb0e2-0e96-4e0f-8598-de8a7a856d78",
   "metadata": {},
   "outputs": [],
   "source": [
    "# default_exp inspect/linear_model"
   ]
  },
  {
   "cell_type": "markdown",
   "id": "a43e6fb5-86f4-4d39-8138-06deccac3eb0",
   "metadata": {
    "tags": []
   },
   "source": [
    "# Linear Model\n",
    "\n",
    "> Inspector functionality for any model that inherits from `LinearModel` or `LinearClassifierMixin` (and thus has an intercept and coefficients)"
   ]
  },
  {
   "cell_type": "code",
   "execution_count": 16,
   "id": "bea65eba-c007-45bc-913a-21121211fead",
   "metadata": {},
   "outputs": [],
   "source": [
    "# export\n",
    "from model_inspector.inspect.regressor import _RegInspector"
   ]
  },
  {
   "cell_type": "code",
   "execution_count": 17,
   "id": "3510d4b1-9707-4644-b26a-5d6b6f3cdeb6",
   "metadata": {},
   "outputs": [],
   "source": [
    "# export\n",
    "class _LinRegInspector(_RegInspector):\n",
    "    pass"
   ]
  },
  {
   "cell_type": "code",
   "execution_count": 18,
   "id": "61041c44-6712-44f1-9d3e-3d82222b4b92",
   "metadata": {},
   "outputs": [],
   "source": [
    "# export\n",
    "from model_inspector.inspect.classifier import _BinInspector, _MultiInspector"
   ]
  },
  {
   "cell_type": "code",
   "execution_count": 19,
   "id": "f412bc48-88cf-492d-b54d-4fa1c4b77f03",
   "metadata": {},
   "outputs": [],
   "source": [
    "# export\n",
    "class _LinBinInspector(_BinInspector):\n",
    "    pass"
   ]
  },
  {
   "cell_type": "code",
   "execution_count": 21,
   "id": "277bb213-c505-457c-b9a3-f9b0724e79ee",
   "metadata": {},
   "outputs": [],
   "source": [
    "# export\n",
    "class _LinMultiInspector(_MultiInspector):\n",
    "    pass"
   ]
  },
  {
   "cell_type": "code",
   "execution_count": null,
   "id": "cf65a57d-11d8-4dee-b07d-2d2c49c83bd1",
   "metadata": {},
   "outputs": [],
   "source": [
    "# export\n",
    "_all_ = [\"_LinRegInspector\", \"_LinBinInspector\", \"_LinMultiInspector\"]"
   ]
  }
 ],
 "metadata": {
  "kernelspec": {
   "display_name": "model_inspector",
   "language": "python",
   "name": "model_inspector"
  },
  "language_info": {
   "codemirror_mode": {
    "name": "ipython",
    "version": 3
   },
   "file_extension": ".py",
   "mimetype": "text/x-python",
   "name": "python",
   "nbconvert_exporter": "python",
   "pygments_lexer": "ipython3",
   "version": "3.9.11"
  }
 },
 "nbformat": 4,
 "nbformat_minor": 5
}
