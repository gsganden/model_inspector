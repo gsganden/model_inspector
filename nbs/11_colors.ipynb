{
 "cells": [
  {
   "cell_type": "code",
   "execution_count": 2,
   "id": "vocal-hydrogen",
   "metadata": {
    "tags": []
   },
   "outputs": [],
   "source": [
    "# | hide\n",
    "# skip\n",
    "! [ -e /content ] && pip install -Uqq model_inspector nbdev\n",
    "# For colab. Restart the runtime after running this cell!"
   ]
  },
  {
   "cell_type": "code",
   "execution_count": 3,
   "id": "opening-paris",
   "metadata": {
    "tags": []
   },
   "outputs": [],
   "source": [
    "# | default_exp colors"
   ]
  },
  {
   "cell_type": "markdown",
   "id": "bfe51343-c176-4fed-b274-b2a05f6a70a2",
   "metadata": {},
   "source": [
    "# Colors\n",
    "\n",
    "> Colors to use in plotting, meant to be colorblind-friendly"
   ]
  },
  {
   "cell_type": "code",
   "execution_count": 4,
   "id": "f2ca087e-b6fb-4b8c-8345-1cf193fc098b",
   "metadata": {
    "tags": []
   },
   "outputs": [],
   "source": [
    "# | export\n",
    "COLORS = {\"blue\": \"#377eb8\", \"orange\": \"#ff7f00\", \"green\": \"#4daf4a\", \"pink\": \"#f781bf\"}"
   ]
  },
  {
   "cell_type": "code",
   "execution_count": null,
   "id": "54e1afc9-daf7-47c1-bbbd-3d2cca439625",
   "metadata": {},
   "outputs": [],
   "source": []
  }
 ],
 "metadata": {
  "kernelspec": {
   "display_name": "Python 3 (ipykernel)",
   "language": "python",
   "name": "python3"
  },
  "language_info": {
   "codemirror_mode": {
    "name": "ipython",
    "version": 3
   },
   "file_extension": ".py",
   "mimetype": "text/x-python",
   "name": "python",
   "nbconvert_exporter": "python",
   "pygments_lexer": "ipython3",
   "version": "3.10.9"
  }
 },
 "nbformat": 4,
 "nbformat_minor": 5
}
