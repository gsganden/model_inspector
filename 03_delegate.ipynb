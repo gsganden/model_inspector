{
 "cells": [
  {
   "cell_type": "code",
   "execution_count": null,
   "id": "running-ottawa",
   "metadata": {},
   "outputs": [],
   "source": [
    "# hide\n",
    "# skip\n",
    "! [ -e /content ] && pip install -Uqq model_inspector  # for colab"
   ]
  },
  {
   "cell_type": "code",
   "execution_count": null,
   "id": "front-portland",
   "metadata": {},
   "outputs": [],
   "source": [
    "# default_exp delegate"
   ]
  },
  {
   "cell_type": "markdown",
   "id": "entire-warrior",
   "metadata": {},
   "source": [
    "# delegate\n",
    "\n",
    "> Delegate functionality."
   ]
  },
  {
   "cell_type": "code",
   "execution_count": null,
   "id": "billion-prescription",
   "metadata": {},
   "outputs": [],
   "source": [
    "# export\n",
    "import inspect\n",
    "import textwrap"
   ]
  },
  {
   "cell_type": "code",
   "execution_count": null,
   "id": "rational-maintenance",
   "metadata": {},
   "outputs": [],
   "source": [
    "# export\n",
    "def _custom_dir(c, add):\n",
    "    return set(sorted(dir(type(c)) + list(c.__dict__.keys()) + add))\n",
    "\n",
    "\n",
    "class GetAttr:\n",
    "    \"Base class for attr accesses in `self._xtra` passed down to `self.default`\"\n",
    "\n",
    "    @property\n",
    "    def _xtra(self):\n",
    "        return [o for o in dir(self.default) if not o.startswith(\"_\")]\n",
    "\n",
    "    def __getattr__(self, k):\n",
    "        if k in self._xtra:\n",
    "            return getattr(self.default, k)\n",
    "        raise AttributeError(k)\n",
    "\n",
    "    def __dir__(self):\n",
    "        return _custom_dir(self, self._xtra)"
   ]
  },
  {
   "cell_type": "code",
   "execution_count": null,
   "id": "royal-blake",
   "metadata": {},
   "outputs": [],
   "source": [
    "# hide\n",
    "# export\n",
    "def delegates(to=None, keep=False):\n",
    "    \"Decorator: replace `**kwargs` in signature with params from `to`\"\n",
    "\n",
    "    def _f(f):\n",
    "        if to is None:\n",
    "            to_f, from_f = f.__base__.__init__, f.__init__\n",
    "        else:\n",
    "            to_f, from_f = to, f\n",
    "        sig = inspect.signature(from_f)\n",
    "        sigd = dict(sig.parameters)\n",
    "        k = sigd.pop(\"kwargs\")\n",
    "        s2 = {\n",
    "            k: v\n",
    "            for k, v in inspect.signature(to_f).parameters.items()\n",
    "            if v.default != inspect.Parameter.empty and k not in sigd\n",
    "        }\n",
    "        sigd.update(s2)\n",
    "        if keep:\n",
    "            sigd[\"kwargs\"] = k\n",
    "        from_f.__signature__ = sig.replace(parameters=sigd.values())\n",
    "        f.__doc__ += (\n",
    "            textwrap.dedent(\n",
    "                f\"\"\"\n",
    "                Remaining parameters are passed to\n",
    "                `{to.__module__}.{to.__name__}`,\n",
    "                which has the following docstring.\n",
    "\n",
    "                \"\"\"\n",
    "            )\n",
    "            + textwrap.dedent(\n",
    "                \"\"\"\n",
    "                ___\n",
    "                \"\"\"\n",
    "            )\n",
    "            + textwrap.dedent(to.__doc__)\n",
    "        )\n",
    "        return f\n",
    "\n",
    "    return _f"
   ]
  }
 ],
 "metadata": {
  "kernelspec": {
   "display_name": "Python 3",
   "language": "python",
   "name": "python3"
  }
 },
 "nbformat": 4,
 "nbformat_minor": 5
}
