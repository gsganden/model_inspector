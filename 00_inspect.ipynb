{
 "cells": [
  {
   "cell_type": "code",
   "execution_count": null,
   "metadata": {},
   "outputs": [],
   "source": [
    "# default_exp inspect"
   ]
  },
  {
   "cell_type": "code",
   "execution_count": null,
   "metadata": {},
   "outputs": [],
   "source": [
    "# export\n",
    "from typing import Iterable, Optional, Sequence\n",
    "\n",
    "import matplotlib.pyplot as plt\n",
    "import numpy as np\n",
    "import pandas as pd"
   ]
  },
  {
   "cell_type": "code",
   "execution_count": null,
   "metadata": {},
   "outputs": [],
   "source": [
    "from IPython.display import HTML\n",
    "import sklearn.datasets\n",
    "from sklearn.linear_model import LinearRegression, LogisticRegression, Ridge\n",
    "from sklearn.model_selection import GridSearchCV, KFold"
   ]
  },
  {
   "cell_type": "code",
   "execution_count": null,
   "metadata": {},
   "outputs": [],
   "source": [
    "# hide\n",
    "%reload_ext autoreload\n",
    "%autoreload 2\n",
    "%load_ext lab_black"
   ]
  },
  {
   "cell_type": "markdown",
   "metadata": {},
   "source": [
    "# inspect\n",
    "\n",
    "> Inspect models."
   ]
  },
  {
   "cell_type": "code",
   "execution_count": null,
   "metadata": {},
   "outputs": [],
   "source": [
    "# hide\n",
    "from nbdev.showdoc import *"
   ]
  },
  {
   "cell_type": "code",
   "execution_count": null,
   "metadata": {},
   "outputs": [],
   "source": [
    "# export\n",
    "def generate_linear_model_html(\n",
    "    model,\n",
    "    feature_names: Iterable[str],\n",
    "    target_name: str,\n",
    "    intercept_formatter: str = \".2f\",\n",
    "    coef_formatter: str = \".2f\",\n",
    "):\n",
    "    \"\"\"Generate an HTML equation that characterizes a linear model.\n",
    "    \n",
    "    Model components are color-coded as follows:\n",
    "    - target: red\n",
    "    - intercept: purple\n",
    "    - coefficients: green\n",
    "    - features: blue\n",
    "\n",
    "    Parameters:\n",
    "    - `model`: fitted scikit-learn linear model of the form\n",
    "    `y = b0 + b1 * x1 + ...`.\n",
    "    - `feature_names`: feature names in the order in which they were\n",
    "    given to the model.\n",
    "    - `target_name` : Name of target variable `y`\n",
    "    - `intercept_formatter`: Format specifier for model intercept\n",
    "    - `coef_formatter`: Format specifier for model coefficients\n",
    "    \"\"\"\n",
    "    if len(model.coef_) != len(feature_names):\n",
    "        raise ValueError(\"len(model.coef_) != len(feature_cols)\")\n",
    "    model_string = f\"\"\"\n",
    "        <span style='color:red'>{target_name}</span>\n",
    "        = <span style='color:purple'>{model.intercept_:{intercept_formatter}}</span>\n",
    "    \"\"\"\n",
    "    for coef, feature_col in zip(model.coef_, feature_names):\n",
    "        model_string += f\"\"\"\n",
    "            <span style='color:green'>{\"+\" if coef >= 0 else \"-\"} {abs(coef):{coef_formatter}}</span>\n",
    "            * <span style='color:blue'>{feature_col}</span>\n",
    "        \"\"\"\n",
    "    return model_string"
   ]
  },
  {
   "cell_type": "code",
   "execution_count": null,
   "metadata": {},
   "outputs": [
    {
     "data": {
      "text/html": [
       "\n",
       "        <span style='color:red'>progression</span>\n",
       "        = <span style='color:purple'>152.13</span>\n",
       "    \n",
       "            <span style='color:green'>- 10.01</span>\n",
       "            * <span style='color:blue'>age</span>\n",
       "        \n",
       "            <span style='color:green'>- 239.82</span>\n",
       "            * <span style='color:blue'>sex</span>\n",
       "        \n",
       "            <span style='color:green'>+ 519.84</span>\n",
       "            * <span style='color:blue'>bmi</span>\n",
       "        \n",
       "            <span style='color:green'>+ 324.39</span>\n",
       "            * <span style='color:blue'>bp</span>\n",
       "        \n",
       "            <span style='color:green'>- 792.18</span>\n",
       "            * <span style='color:blue'>s1</span>\n",
       "        \n",
       "            <span style='color:green'>+ 476.75</span>\n",
       "            * <span style='color:blue'>s2</span>\n",
       "        \n",
       "            <span style='color:green'>+ 101.04</span>\n",
       "            * <span style='color:blue'>s3</span>\n",
       "        \n",
       "            <span style='color:green'>+ 177.06</span>\n",
       "            * <span style='color:blue'>s4</span>\n",
       "        \n",
       "            <span style='color:green'>+ 751.28</span>\n",
       "            * <span style='color:blue'>s5</span>\n",
       "        \n",
       "            <span style='color:green'>+ 67.63</span>\n",
       "            * <span style='color:blue'>s6</span>\n",
       "        "
      ],
      "text/plain": [
       "<IPython.core.display.HTML object>"
      ]
     },
     "execution_count": null,
     "metadata": {},
     "output_type": "execute_result"
    }
   ],
   "source": [
    "X_diabetes, y_diabetes = sklearn.datasets.load_diabetes(return_X_y=True, as_frame=True)\n",
    "\n",
    "HTML(\n",
    "    generate_linear_model_html(\n",
    "        model=LinearRegression().fit(X_diabetes, y_diabetes),\n",
    "        feature_names=X_diabetes.columns,\n",
    "        target_name=\"progression\",\n",
    "    )\n",
    ")"
   ]
  },
  {
   "cell_type": "code",
   "execution_count": null,
   "metadata": {},
   "outputs": [],
   "source": [
    "# export\n",
    "def generate_logistic_model_html(\n",
    "    model,\n",
    "    feature_names: Iterable[str],\n",
    "    target_val_names: Iterable[str],\n",
    "    intercept_formatter: str = \".2f\",\n",
    "    coef_formatter: str = \".2f\",\n",
    "):\n",
    "    \"\"\"Generate an HTML equation that characterizes a logistic\n",
    "    regression model.\n",
    "    \n",
    "    Model components are color-coded as follows:\n",
    "    - target: red\n",
    "    - intercept: purple\n",
    "    - coefficients: green\n",
    "    - features: blue\n",
    "\n",
    "    Parameters:\n",
    "    - `model`: fitted scikit-learn linear model of the form\n",
    "    `log-odds(y) = b0 + b1 * x1 + ...`.\n",
    "    - `feature_names`: feature names in the order in which they were\n",
    "    given to the model.\n",
    "    - `target_val_names`: Names of the values of the target variable\n",
    "    - `intercept_formatter`: Format specifier for model intercept\n",
    "    - `coef_formatter`: Format specifier for model coefficients\n",
    "    \"\"\"\n",
    "    for coefs in model.coef_:\n",
    "        if len(coefs) != len(feature_names):\n",
    "            raise ValueError(\"len(model.coef_) != len(feature_cols)\")\n",
    "    model_string = \"<p>\"\n",
    "    for target_name, coefs, intercept in zip(\n",
    "        target_val_names, model.coef_, model.intercept_\n",
    "    ):\n",
    "        model_string += f\"\"\"\n",
    "            <span style='color:red'>log-odds({target_name})</span>\n",
    "            = <span style='color:purple'>{intercept:{intercept_formatter}}</span>\n",
    "        \"\"\"\n",
    "        for coef, feature_col in zip(coefs, feature_names):\n",
    "            model_string += f\"\"\"\n",
    "                <span style='color:green'>{\"+\" if coef >= 0 else \"-\"} {abs(coef):{coef_formatter}}</span>\n",
    "                * <span style='color:blue'>{feature_col}</span>\n",
    "            \"\"\"\n",
    "        model_string += \"</p>\"\n",
    "    return model_string"
   ]
  },
  {
   "cell_type": "code",
   "execution_count": null,
   "metadata": {},
   "outputs": [
    {
     "data": {
      "text/html": [
       "<p>\n",
       "            <span style='color:red'>log-odds(setosa)</span>\n",
       "            = <span style='color:purple'>9.85</span>\n",
       "        \n",
       "                <span style='color:green'>- 0.42</span>\n",
       "                * <span style='color:blue'>sepal length (cm)</span>\n",
       "            \n",
       "                <span style='color:green'>+ 0.97</span>\n",
       "                * <span style='color:blue'>sepal width (cm)</span>\n",
       "            \n",
       "                <span style='color:green'>- 2.52</span>\n",
       "                * <span style='color:blue'>petal length (cm)</span>\n",
       "            \n",
       "                <span style='color:green'>- 1.08</span>\n",
       "                * <span style='color:blue'>petal width (cm)</span>\n",
       "            </p>\n",
       "            <span style='color:red'>log-odds(versicolor)</span>\n",
       "            = <span style='color:purple'>2.24</span>\n",
       "        \n",
       "                <span style='color:green'>+ 0.53</span>\n",
       "                * <span style='color:blue'>sepal length (cm)</span>\n",
       "            \n",
       "                <span style='color:green'>- 0.32</span>\n",
       "                * <span style='color:blue'>sepal width (cm)</span>\n",
       "            \n",
       "                <span style='color:green'>- 0.21</span>\n",
       "                * <span style='color:blue'>petal length (cm)</span>\n",
       "            \n",
       "                <span style='color:green'>- 0.94</span>\n",
       "                * <span style='color:blue'>petal width (cm)</span>\n",
       "            </p>\n",
       "            <span style='color:red'>log-odds(virginica)</span>\n",
       "            = <span style='color:purple'>-12.09</span>\n",
       "        \n",
       "                <span style='color:green'>- 0.11</span>\n",
       "                * <span style='color:blue'>sepal length (cm)</span>\n",
       "            \n",
       "                <span style='color:green'>- 0.65</span>\n",
       "                * <span style='color:blue'>sepal width (cm)</span>\n",
       "            \n",
       "                <span style='color:green'>+ 2.72</span>\n",
       "                * <span style='color:blue'>petal length (cm)</span>\n",
       "            \n",
       "                <span style='color:green'>+ 2.02</span>\n",
       "                * <span style='color:blue'>petal width (cm)</span>\n",
       "            </p>"
      ],
      "text/plain": [
       "<IPython.core.display.HTML object>"
      ]
     },
     "execution_count": null,
     "metadata": {},
     "output_type": "execute_result"
    }
   ],
   "source": [
    "iris = sklearn.datasets.load_iris()\n",
    "X_iris, y_iris = iris[\"data\"], iris[\"target\"]\n",
    "X_iris = pd.DataFrame(X_iris, columns=iris[\"feature_names\"])\n",
    "\n",
    "lr_iris = LogisticRegression(max_iter=1_000).fit(X_iris, y_iris)\n",
    "HTML(\n",
    "    generate_logistic_model_html(\n",
    "        model=lr_iris,\n",
    "        feature_names=X_iris.columns,\n",
    "        target_val_names=iris[\"target_names\"],\n",
    "    )\n",
    ")"
   ]
  },
  {
   "cell_type": "code",
   "execution_count": null,
   "metadata": {},
   "outputs": [],
   "source": [
    "# export\n",
    "def plot_linear_coefs_vs_hparam(\n",
    "    model, X: pd.DataFrame, y: Sequence, hparam: str, hparam_vals: Sequence[float]\n",
    "):\n",
    "    \"\"\"Plot linear regression coefficients against a hyperparameter\n",
    "    \n",
    "    Parameters:\n",
    "    - `model`: fitted scikit-learn linear model of the form\n",
    "    `y = b0 + b1 * x1 + ...`.\n",
    "    - `X`: Feature matrix\n",
    "    - `y`: Target values\n",
    "    - `hparam`: Name of hyperparameter\n",
    "    - `hparam_vals`: Values of hyperparameter to use\n",
    "    \"\"\"\n",
    "    model.fit(X, y)\n",
    "    setattr(model, hparam, hparam_vals[-1])\n",
    "    column_order = model.coef_.argsort()[::-1]\n",
    "    X = X.iloc[:, column_order]\n",
    "\n",
    "    coefs = []\n",
    "    for val in hparam_vals:\n",
    "        setattr(model, hparam, val)\n",
    "        coefs.append(model.fit(X, y).coef_)\n",
    "\n",
    "    fig, ax = plt.subplots()\n",
    "    ax.plot(hparam_vals, coefs)\n",
    "    ax.set(xlabel=hparam, ylabel=\"coefficient value\")\n",
    "    ax.legend(X.columns, bbox_to_anchor=(1.05, 1.0), loc=\"upper left\")\n",
    "    return ax"
   ]
  },
  {
   "cell_type": "code",
   "execution_count": null,
   "metadata": {},
   "outputs": [
    {
     "data": {
      "image/png": "[encoded data removed]",
      "text/plain": [
       "<Figure size 432x288 with 1 Axes>"
      ]
     },
     "metadata": {
      "needs_background": "light"
     },
     "output_type": "display_data"
    }
   ],
   "source": [
    "grid_ridge_diabetes = GridSearchCV(\n",
    "    estimator=Ridge(),\n",
    "    param_grid={\"alpha\": np.logspace(-2, -0.8, 20)},\n",
    "    cv=KFold(10, shuffle=True, random_state=2),\n",
    ")\n",
    "grid_ridge_diabetes.fit(X_diabetes, y_diabetes)\n",
    "ax = (\n",
    "    pd.DataFrame(grid_ridge_diabetes.cv_results_)\n",
    "    .loc[:, [\"param_alpha\", \"mean_test_score\"]]\n",
    "    .plot(x=\"param_alpha\")\n",
    ")\n",
    "# fmt: off\n",
    "ax.set_ylabel(\"Accuracy\");"
   ]
  },
  {
   "cell_type": "code",
   "execution_count": null,
   "metadata": {},
   "outputs": [
    {
     "data": {
      "image/png": "[encoded data removed]",
      "text/plain": [
       "<Figure size 432x288 with 1 Axes>"
      ]
     },
     "metadata": {
      "needs_background": "light"
     },
     "output_type": "display_data"
    }
   ],
   "source": [
    "from sklearn.linear_model import Ridge\n",
    "\n",
    "# fmt: off\n",
    "ax = plot_linear_coefs_vs_hparam(\n",
    "    model=Ridge(),\n",
    "    X=X_diabetes,\n",
    "    y=y_diabetes,\n",
    "    hparam=\"alpha\",\n",
    "    hparam_vals=np.logspace(-2, 0.5, 20),\n",
    ")\n",
    "ax.axvline(grid_ridge_diabetes.best_params_[\"alpha\"], c=\"k\");"
   ]
  },
  {
   "cell_type": "code",
   "execution_count": null,
   "metadata": {},
   "outputs": [
    {
     "data": {
      "image/png": "[encoded data removed]",
      "text/plain": [
       "<Figure size 432x288 with 1 Axes>"
      ]
     },
     "metadata": {
      "needs_background": "light"
     },
     "output_type": "display_data"
    }
   ],
   "source": [
    "from sklearn.linear_model import Lasso\n",
    "\n",
    "# fmt: off\n",
    "plot_linear_coefs_vs_hparam(\n",
    "    model=Lasso(max_iter=10_000_000),\n",
    "    X=X_diabetes,\n",
    "    y=y_diabetes,\n",
    "    hparam=\"alpha\",\n",
    "    hparam_vals=np.logspace(-2, 0.5, 20),\n",
    ");"
   ]
  },
  {
   "cell_type": "code",
   "execution_count": null,
   "metadata": {},
   "outputs": [],
   "source": [
    "from sklearn.linear_model import ElasticNet\n",
    "\n",
    "# fmt: off\n",
    "plot_linear_coefs_vs_hparam(\n",
    "    model=ElasticNet(alpha=3),\n",
    "    X=X_diabetes,\n",
    "    y=y_diabetes,\n",
    "    hparam=\"l1_ratio\",\n",
    "    hparam_vals=np.linspace(0, 1, 11),\n",
    ");"
   ]
  },
  {
   "cell_type": "code",
   "execution_count": null,
   "metadata": {},
   "outputs": [],
   "source": [
    "# export\n",
    "def plot_logistic_coefs_vs_hparam(\n",
    "    model, X: pd.DataFrame, y: Sequence, hparam: str, hparam_vals: Sequence[float]\n",
    "):\n",
    "    \"\"\"Plot logistic regression coefficients against a hyperparameter\n",
    "    \n",
    "    Parameters:\n",
    "    - `model`: fitted scikit-learn linear model of the form\n",
    "    `log-odds(y) = b0 + b1 * x1 + ...`.\n",
    "    - `X`: Feature matrix\n",
    "    - `y`: Target values\n",
    "    - `hparam`: Name of hyperparameter\n",
    "    - `hparam_vals`: Values of hyperparameter to use\n",
    "    \"\"\"\n",
    "    setattr(model, hparam, hparam_vals[-1])\n",
    "    column_order = model.fit(X, y).coef_[0].argsort()[::-1]\n",
    "    X = X.iloc[:, column_order]\n",
    "\n",
    "    coef_arrays = []\n",
    "    for val in hparam_vals:\n",
    "        setattr(model, hparam, val)\n",
    "        coef_arrays.append(model.fit(X, y).coef_)\n",
    "\n",
    "    num_target_vals = len(set(y))\n",
    "    if num_target_vals == 2:\n",
    "        fig, ax = plt.subplots()\n",
    "        ax.plot(hparam_vals, [coefs[0] for coefs in coef_arrays])\n",
    "        axes = np.array(ax)[None]\n",
    "    else:\n",
    "        fig, axes = plt.subplots(\n",
    "            num_target_vals, 1, sharex=True, sharey=True, constrained_layout=True\n",
    "        )\n",
    "        for target_val_num in range(num_target_vals):\n",
    "            axes[target_val_num].plot(\n",
    "                hparam_vals, [coefs[target_val_num] for coefs in coef_arrays]\n",
    "            )\n",
    "            axes[target_val_num].set_title(f\"y={sorted(set(y))[target_val_num]}\")\n",
    "    axes[0].legend(X.columns, bbox_to_anchor=(1.05, 1.0), loc=\"upper left\")\n",
    "    axes[0].set_ylabel(\"Coefficient Value\")\n",
    "    axes[-1].set_xlabel(hparam)\n",
    "    return axes"
   ]
  },
  {
   "cell_type": "code",
   "execution_count": null,
   "metadata": {},
   "outputs": [],
   "source": [
    "X_cancer, y_cancer = sklearn.datasets.load_breast_cancer(return_X_y=True, as_frame=True)\n",
    "axes = plot_logistic_coefs_vs_hparam(\n",
    "    model=LogisticRegression(max_iter=10_000),\n",
    "    X=X_cancer,\n",
    "    y=y_cancer,\n",
    "    hparam=\"C\",\n",
    "    hparam_vals=np.logspace(-1, 2, 10),\n",
    ")"
   ]
  },
  {
   "cell_type": "code",
   "execution_count": null,
   "metadata": {},
   "outputs": [],
   "source": [
    "axes = plot_logistic_coefs_vs_hparam(\n",
    "    model=LogisticRegression(max_iter=1_000),\n",
    "    X=X_iris,\n",
    "    y=y_iris,\n",
    "    hparam=\"C\",\n",
    "    hparam_vals=np.logspace(-2, 0, 20),\n",
    ")"
   ]
  },
  {
   "cell_type": "code",
   "execution_count": null,
   "metadata": {},
   "outputs": [],
   "source": [
    "axes = plot_logistic_coefs_vs_hparam(\n",
    "    model=LogisticRegression(max_iter=1_000, solver=\"liblinear\", penalty=\"l1\"),\n",
    "    X=X_iris,\n",
    "    y=y_iris,\n",
    "    hparam=\"C\",\n",
    "    hparam_vals=np.logspace(-2, 0, 20),\n",
    ")"
   ]
  },
  {
   "cell_type": "code",
   "execution_count": null,
   "metadata": {},
   "outputs": [],
   "source": [
    "axes = plot_logistic_coefs_vs_hparam(\n",
    "    model=LogisticRegression(\n",
    "        max_iter=10_000, solver=\"saga\", penalty=\"elasticnet\", C=0.1\n",
    "    ),\n",
    "    X=X_iris,\n",
    "    y=y_iris,\n",
    "    hparam=\"l1_ratio\",\n",
    "    hparam_vals=np.linspace(0, 1, 11),\n",
    ")"
   ]
  },
  {
   "cell_type": "code",
   "execution_count": null,
   "metadata": {},
   "outputs": [],
   "source": [
    "# export\n",
    "def plot_binary_logistic_regression_decision_boundary(\n",
    "    model, X: pd.DataFrame, y: Sequence, label_names: Optional[Sequence[str]] = None\n",
    "):\n",
    "    \"\"\"Plot decision boundary of a logistic regression model with two\n",
    "    features and a binary target\n",
    "    \n",
    "    Parameters:\n",
    "    - `model`: fitted scikit-learn logistic regression model\n",
    "    - `X`: Feature matrix\n",
    "    - `y`: 0/1 target values\n",
    "    - `label_names`: strings labels for target values 0 and 1,\n",
    "    respectively\n",
    "    \"\"\"\n",
    "    fig, ax = plt.subplots()\n",
    "    for color, y_val in zip((\"orange\", \"b\"), (0, 1)):\n",
    "        X.loc[y == y_val, :].plot.scatter(\n",
    "            x=X.columns[0],\n",
    "            y=X.columns[1],\n",
    "            alpha=0.3,\n",
    "            label=label_names[y_val] if label_names else y_val,\n",
    "            ax=ax,\n",
    "            color=color,\n",
    "        )\n",
    "\n",
    "    boundary_x = np.array([X.iloc[:, 0].min(), X.iloc[:, 0].max()])\n",
    "    boundary_y = (-1.0 / lr.coef_[0, 1]) * (lr.coef_[0, 0] * boundary_x + lr.intercept_)\n",
    "    ax.plot(boundary_x, boundary_y, label=\"Model decision boundary\", c=\"k\")\n",
    "\n",
    "    ax.set(\n",
    "        ylim=[X.iloc[:, 1].min() - 0.1 * X.iloc[:, 1].max(), X.iloc[:, 1].max() * 1.1],\n",
    "        xlim=[X.iloc[:, 0].min() - 0.1 * X.iloc[:, 0].max(), X.iloc[:, 0].max() * 1.1],\n",
    "    )\n",
    "\n",
    "    # fmt: off\n",
    "    ax.legend(bbox_to_anchor=(1.05, 1.0), loc='upper left'); \n",
    "    return ax"
   ]
  },
  {
   "cell_type": "code",
   "execution_count": null,
   "metadata": {},
   "outputs": [],
   "source": [
    "lr = LogisticRegression().fit(\n",
    "    X_cancer.loc[:, [\"mean radius\", \"mean texture\"]], y_cancer,\n",
    ")\n",
    "# fmt: off\n",
    "plot_binary_logistic_regression_decision_boundary(\n",
    "    lr, X_cancer, y_cancer, label_names=[\"benign\", \"malignant\"]\n",
    ");"
   ]
  },
  {
   "cell_type": "code",
   "execution_count": null,
   "metadata": {},
   "outputs": [],
   "source": [
    "# hide\n",
    "from nbdev.export import *\n",
    "\n",
    "notebook2script()"
   ]
  },
  {
   "cell_type": "code",
   "execution_count": null,
   "metadata": {},
   "outputs": [],
   "source": []
  }
 ],
 "metadata": {
  "kernelspec": {
   "display_name": "model_inspector",
   "language": "python",
   "name": "model_inspector"
  }
 },
 "nbformat": 4,
 "nbformat_minor": 4
}
