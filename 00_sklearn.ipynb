{
 "cells": [
  {
   "cell_type": "code",
   "execution_count": null,
   "metadata": {},
   "outputs": [],
   "source": [
    "# default_exp sklearn"
   ]
  },
  {
   "cell_type": "code",
   "execution_count": null,
   "metadata": {},
   "outputs": [],
   "source": [
    "# export\n",
    "from typing import Iterable"
   ]
  },
  {
   "cell_type": "code",
   "execution_count": 3,
   "metadata": {},
   "outputs": [],
   "source": [
    "from IPython.display import HTML\n",
    "import sklearn.datasets\n",
    "from sklearn.linear_model import LinearRegression, LogisticRegression"
   ]
  },
  {
   "cell_type": "code",
   "execution_count": 4,
   "metadata": {},
   "outputs": [],
   "source": [
    "%matplotlib inline\n",
    "%reload_ext autoreload\n",
    "%autoreload 2\n",
    "%load_ext lab_black"
   ]
  },
  {
   "cell_type": "markdown",
   "metadata": {},
   "source": [
    "# sklearn\n",
    "\n",
    "> Inspect scikit-learn models."
   ]
  },
  {
   "cell_type": "code",
   "execution_count": 5,
   "metadata": {},
   "outputs": [],
   "source": [
    "# hide\n",
    "from nbdev.showdoc import *"
   ]
  },
  {
   "cell_type": "code",
   "execution_count": 6,
   "metadata": {},
   "outputs": [],
   "source": [
    "# export\n",
    "def generate_linear_model_html(\n",
    "    model,\n",
    "    feature_names: Iterable[str],\n",
    "    target_name: str,\n",
    "    intercept_formatter: str = \".2f\",\n",
    "    coef_formatter: str = \".2f\",\n",
    "):\n",
    "    \"\"\"Generate an HTML equation that characterizes a linear model\n",
    "    \n",
    "    Model components are color-coded as follows:\n",
    "    - target: red\n",
    "    - intercept: purple\n",
    "    - coefficients: green\n",
    "    - features: blue\n",
    "\n",
    "    Parameters\n",
    "    ----------\n",
    "    model :\n",
    "        Fitted scikit-learn linear model of the form\n",
    "        `y = b0 + b1 * x1 + ...`\n",
    "    feature_names :\n",
    "        Feature names in the order in which they were given to the model\n",
    "    target_name :\n",
    "        Name of target variable `y`\n",
    "    intercept_formatter : str, optional\n",
    "        Format specifier for model intercept\n",
    "    coef_formatter : str, optional\n",
    "        Format specifier for model coefficients\n",
    "    \"\"\"\n",
    "    if len(model.coef_) != len(feature_names):\n",
    "        raise ValueError(\"len(model.coef_) != len(feature_cols)\")\n",
    "    model_string = f\"\"\"\n",
    "        <span style='color:red'>{target_name}</span>\n",
    "        = <span style='color:purple'>{model.intercept_:{intercept_formatter}}</span>\n",
    "    \"\"\"\n",
    "    for coef, feature_col in zip(model.coef_, feature_names):\n",
    "        model_string += f\"\"\"\n",
    "            <span style='color:green'>{\"+\" if coef >= 0 else \"-\"} {abs(coef):{coef_formatter}}</span>\n",
    "            * <span style='color:blue'>{feature_col}</span>\n",
    "        \"\"\"\n",
    "    return model_string"
   ]
  },
  {
   "cell_type": "code",
   "execution_count": 7,
   "metadata": {},
   "outputs": [
    {
     "data": {
      "text/html": [
       "\n",
       "        <span style='color:red'>progression</span>\n",
       "        = <span style='color:purple'>152.13</span>\n",
       "    \n",
       "            <span style='color:green'>- 10.01</span>\n",
       "            * <span style='color:blue'>age</span>\n",
       "        \n",
       "            <span style='color:green'>- 239.82</span>\n",
       "            * <span style='color:blue'>sex</span>\n",
       "        \n",
       "            <span style='color:green'>+ 519.84</span>\n",
       "            * <span style='color:blue'>bmi</span>\n",
       "        \n",
       "            <span style='color:green'>+ 324.39</span>\n",
       "            * <span style='color:blue'>bp</span>\n",
       "        \n",
       "            <span style='color:green'>- 792.18</span>\n",
       "            * <span style='color:blue'>s1</span>\n",
       "        \n",
       "            <span style='color:green'>+ 476.75</span>\n",
       "            * <span style='color:blue'>s2</span>\n",
       "        \n",
       "            <span style='color:green'>+ 101.04</span>\n",
       "            * <span style='color:blue'>s3</span>\n",
       "        \n",
       "            <span style='color:green'>+ 177.06</span>\n",
       "            * <span style='color:blue'>s4</span>\n",
       "        \n",
       "            <span style='color:green'>+ 751.28</span>\n",
       "            * <span style='color:blue'>s5</span>\n",
       "        \n",
       "            <span style='color:green'>+ 67.63</span>\n",
       "            * <span style='color:blue'>s6</span>\n",
       "        "
      ],
      "text/plain": [
       "<IPython.core.display.HTML object>"
      ]
     },
     "execution_count": 7,
     "metadata": {},
     "output_type": "execute_result"
    }
   ],
   "source": [
    "diabetes = sklearn.datasets.load_diabetes()\n",
    "X, y = diabetes[\"data\"], diabetes[\"target\"]\n",
    "\n",
    "HTML(\n",
    "    generate_linear_model_html(\n",
    "        model=LinearRegression().fit(X, y),\n",
    "        feature_names=diabetes[\"feature_names\"],\n",
    "        target_name=\"progression\",\n",
    "    )\n",
    ")"
   ]
  },
  {
   "cell_type": "code",
   "execution_count": 8,
   "metadata": {},
   "outputs": [],
   "source": [
    "# export\n",
    "def generate_logistic_model_html(\n",
    "    model,\n",
    "    feature_names: Iterable[str],\n",
    "    target_names: Iterable[str],\n",
    "    intercept_formatter: str = \".2f\",\n",
    "    coef_formatter: str = \".2f\",\n",
    "):\n",
    "    \"\"\"Generate an HTML equation that characterizes a logistic\n",
    "    regression model\n",
    "    \n",
    "    Model components are color-coded as follows:\n",
    "    - target: red\n",
    "    - intercept: purple\n",
    "    - coefficients: green\n",
    "    - features: blue\n",
    "\n",
    "    Parameters\n",
    "    ----------\n",
    "    model\n",
    "        Fitted scikit-learn linear model of the form\n",
    "        `log-odds(y) = b0 + b1 * x1 + ...`\n",
    "    feature_names\n",
    "        Feature names in the order in which they were given to the model\n",
    "    target_names\n",
    "        Names of the values of the target variable\n",
    "    intercept_formatter\n",
    "        Format specifier for model intercept\n",
    "    coef_formatter\n",
    "        Format specifier for model coefficients\n",
    "    \"\"\"\n",
    "    for coefs in model.coef_:\n",
    "        if len(coefs) != len(feature_names):\n",
    "            raise ValueError(\"len(model.coef_) != len(feature_cols)\")\n",
    "    model_string = \"<p>\"\n",
    "    for target_name, coefs, intercept in zip(\n",
    "        target_names, model.coef_, model.intercept_\n",
    "    ):\n",
    "        model_string += f\"\"\"\n",
    "            <span style='color:red'>log-odds({target_name})</span>\n",
    "            = <span style='color:purple'>{intercept:{intercept_formatter}}</span>\n",
    "        \"\"\"\n",
    "        for coef, feature_col in zip(coefs, feature_names):\n",
    "            model_string += f\"\"\"\n",
    "                <span style='color:green'>{\"+\" if coef >= 0 else \"-\"} {abs(coef):{coef_formatter}}</span>\n",
    "                * <span style='color:blue'>{feature_col}</span>\n",
    "            \"\"\"\n",
    "        model_string += \"</p>\"\n",
    "    return model_string"
   ]
  },
  {
   "cell_type": "code",
   "execution_count": 9,
   "metadata": {},
   "outputs": [
    {
     "data": {
      "text/html": [
       "<p>\n",
       "            <span style='color:red'>log-odds(setosa)</span>\n",
       "            = <span style='color:purple'>9.85</span>\n",
       "        \n",
       "                <span style='color:green'>- 0.42</span>\n",
       "                * <span style='color:blue'>sepal length (cm)</span>\n",
       "            \n",
       "                <span style='color:green'>+ 0.97</span>\n",
       "                * <span style='color:blue'>sepal width (cm)</span>\n",
       "            \n",
       "                <span style='color:green'>- 2.52</span>\n",
       "                * <span style='color:blue'>petal length (cm)</span>\n",
       "            \n",
       "                <span style='color:green'>- 1.08</span>\n",
       "                * <span style='color:blue'>petal width (cm)</span>\n",
       "            </p>\n",
       "            <span style='color:red'>log-odds(versicolor)</span>\n",
       "            = <span style='color:purple'>2.24</span>\n",
       "        \n",
       "                <span style='color:green'>+ 0.53</span>\n",
       "                * <span style='color:blue'>sepal length (cm)</span>\n",
       "            \n",
       "                <span style='color:green'>- 0.32</span>\n",
       "                * <span style='color:blue'>sepal width (cm)</span>\n",
       "            \n",
       "                <span style='color:green'>- 0.21</span>\n",
       "                * <span style='color:blue'>petal length (cm)</span>\n",
       "            \n",
       "                <span style='color:green'>- 0.94</span>\n",
       "                * <span style='color:blue'>petal width (cm)</span>\n",
       "            </p>\n",
       "            <span style='color:red'>log-odds(virginica)</span>\n",
       "            = <span style='color:purple'>-12.09</span>\n",
       "        \n",
       "                <span style='color:green'>- 0.11</span>\n",
       "                * <span style='color:blue'>sepal length (cm)</span>\n",
       "            \n",
       "                <span style='color:green'>- 0.65</span>\n",
       "                * <span style='color:blue'>sepal width (cm)</span>\n",
       "            \n",
       "                <span style='color:green'>+ 2.72</span>\n",
       "                * <span style='color:blue'>petal length (cm)</span>\n",
       "            \n",
       "                <span style='color:green'>+ 2.02</span>\n",
       "                * <span style='color:blue'>petal width (cm)</span>\n",
       "            </p>"
      ],
      "text/plain": [
       "<IPython.core.display.HTML object>"
      ]
     },
     "execution_count": 9,
     "metadata": {},
     "output_type": "execute_result"
    }
   ],
   "source": [
    "iris = sklearn.datasets.load_iris()\n",
    "X, y = iris[\"data\"], iris[\"target\"]\n",
    "\n",
    "HTML(\n",
    "    generate_logistic_model_html(\n",
    "        model=LogisticRegression(max_iter=1_000).fit(X, y),\n",
    "        feature_names=iris[\"feature_names\"],\n",
    "        target_names=iris[\"target_names\"],\n",
    "    )\n",
    ")"
   ]
  },
  {
   "cell_type": "code",
   "execution_count": 10,
   "metadata": {},
   "outputs": [
    {
     "name": "stdout",
     "output_type": "stream",
     "text": [
      "Converted 00_sklearn.ipynb.\n",
      "Converted index.ipynb.\n"
     ]
    }
   ],
   "source": [
    "from nbdev.export import *\n",
    "\n",
    "notebook2script()"
   ]
  },
  {
   "cell_type": "code",
   "execution_count": null,
   "metadata": {},
   "outputs": [],
   "source": []
  }
 ],
 "metadata": {
  "kernelspec": {
   "display_name": "model_inspector",
   "language": "python",
   "name": "model_inspector"
  },
  "language_info": {
   "codemirror_mode": {
    "name": "ipython",
    "version": 3
   },
   "file_extension": ".py",
   "mimetype": "text/x-python",
   "name": "python",
   "nbconvert_exporter": "python",
   "pygments_lexer": "ipython3",
   "version": "3.7.7"
  }
 },
 "nbformat": 4,
 "nbformat_minor": 4
}
